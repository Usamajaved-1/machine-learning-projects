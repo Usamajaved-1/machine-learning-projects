{
 "cells": [
  {
   "cell_type": "code",
   "execution_count": 2,
   "id": "901eb604-cd6b-4c4f-ba18-49ab382c34d3",
   "metadata": {},
   "outputs": [],
   "source": [
    "# hypothesis testing you take medcine work in 3hrs now take same new medicine work in 1.5 hour checking \n",
    "# process is called hypothesis testing\n",
    "# in hypothesis testing we need two teams one of null hypo (hnot) said no statistical significance \n",
    "# between population paramters \n",
    "# second alternative (h1) said there is ststistical signifance between population paramters ss attach\n",
    "# z_test,t_test both work on sample data not population and work in average both\n",
    "# chi_square test :  anything perfect or not relation between two data or not\n",
    "# steps for hypothesis testing ss attach \n",
    "# hnot and h1 find krna ho ga ss attach\n",
    "# chose signifance level alpha ss attach assume it is normal distribution means 2 sides of mean is same\n",
    "# alpha value is between 1 to 5 per\n",
    "# in ss left tail ma mean new product not better than old right tail mean better than old two \n",
    "# tail aalpha /2 , pta kasa chala ga left right tail ka mu(mean)>30 right tail less than to left tail\n",
    "# find test method 2nd requirement for hypothesis testing\n",
    "# z_test use ho ga jb popu data ka mean std average or saple data >=30 or uska mean b ho \n",
    "# t_test use ho ga pop data ka mean lakin std sample data ka mila ga sapmle size <=30  and saple mean\n",
    "# then conclusion hnot right or ha "
   ]
  },
  {
   "cell_type": "code",
   "execution_count": null,
   "id": "0eb31d00-857d-4e08-bef3-f08fc92164b2",
   "metadata": {},
   "outputs": [],
   "source": [
    "# fist z test formula working how question comes \n",
    "# question:a teacher clais mean score of his class is 82 with std of 20 if sample of 81 students \n",
    "# selected with a mean score of 90 hma kasa pta chala ka yahn z test laga ga \n",
    "# ku ka is ka liye sample data  81>30  , pop data mean 82 , std = 20, sample data mean = 90 ss attach its formula\n",
    "# pahla hma nikala ga hnot or ha mean hnot khta ha mu (mean) not eqal to 82 cz its is opposite lawyer\n",
    "# or ha kaha ha khta ha mu (mean of pop data)>82\n",
    "# alpha la liya 0.05 assume ss attach normal distribution ma area under curve 1 hota ha so baqi rah gya 0.95\n",
    "# ha bhr is liye aya ku ka ye right tail ha baqi andr wala ho gya hnot ss attach for furthur area under cuve\n",
    "# proballity ko represent krta ha or probaility equal to hoti ha 1 ab hm isko throgh z ki valuae nikala ga \n",
    "# jo website z ki search kr ka ak table sa nikala ga wahn valuae check krain apni kahn ha 0.95 or uski\n",
    "# y ki valuae dakhain or x ki dakhain or dono ko plus krain \n"
   ]
  },
  {
   "cell_type": "code",
   "execution_count": null,
   "id": "2038cf65-7671-489a-b0d1-ca0357aad24e",
   "metadata": {},
   "outputs": [],
   "source": [
    "# z ki value find krain acc to our data given\n",
    "# zcal ss attach valuae is3.6 which mean ha ka area ma lie kra ga mean teacher is correct"
   ]
  },
  {
   "cell_type": "code",
   "execution_count": 10,
   "id": "ee8e4b80-f9c2-49af-ab5a-ca83bc5873ad",
   "metadata": {},
   "outputs": [
    {
     "data": {
      "text/plain": [
       "(np.float64(1.6448536269514722), np.float64(3.5999999999999996))"
      ]
     },
     "execution_count": 10,
     "metadata": {},
     "output_type": "execute_result"
    }
   ],
   "source": [
    "# now through programming\n",
    "import scipy.stats as st\n",
    "import numpy as np \n",
    "# data require formula ss attach\n",
    "sample_mean = 90\n",
    "population_meanmu = 82\n",
    "p_std = 20\n",
    "n = 81\n",
    "alpha = 0.05\n",
    "z_cal =  (sample_mean-population_meanmu)/(p_std/np.sqrt(n)) # z cal formula\n",
    "z_table = st.norm.ppf(1-alpha)\n",
    "z_table,z_cal"
   ]
  },
  {
   "cell_type": "code",
   "execution_count": 22,
   "id": "6ffb1e51-14c5-4539-8b6c-1c33593e27a9",
   "metadata": {},
   "outputs": [
    {
     "name": "stdout",
     "output_type": "stream",
     "text": [
      "Reject H0, Ha is right\n"
     ]
    }
   ],
   "source": [
    "# b bs ak ewuation bna da ga \n",
    "if z_cal > z_table:\n",
    "    print (\"Reject H0, Ha is right\")\n",
    "else:\n",
    "    print(\"Fail to reject H0, H0 is right\")\n"
   ]
  },
  {
   "cell_type": "code",
   "execution_count": null,
   "id": "1f7d1309-3629-4194-86d5-4b3ac0dccf20",
   "metadata": {},
   "outputs": [],
   "source": [
    "# question no 2? ak copany ki ak website this usna change kr ka new bnay ab ye dakna ha old ma purchase \n",
    "# zyada thi ya new ma ? data ka liye ss attach ha calculation on blue register"
   ]
  },
  {
   "cell_type": "code",
   "execution_count": 18,
   "id": "82212d90-c5a7-4002-9764-c640d95c642f",
   "metadata": {},
   "outputs": [
    {
     "name": "stdout",
     "output_type": "stream",
     "text": [
      "ha is right\n"
     ]
    }
   ],
   "source": [
    "import scipy.stats as st\n",
    "import numpy as np \n",
    "old_design = np.array([45.2,42.8,38.9,43.5,41.0,44.6,40.5,42.7,39.8,41.4,44.3,39.7,41.5,39.6,44.0,43.1,38.7,43.9,42.0,41.9,42.8,43.7,41.3,40.9,42.5,41.6])\n",
    "new_design= np.array([48.5,49.1,50.2,47.8,48.7,49.9,48.0,50.5,49.8,49.6,50.1,48.6,48.3,49.0,50.0,48.4,49.3,49.5,48.1,49.2,50.7,43.7,41.3,40.9,42.5,41.6])\n",
    "pop_std = 2.5  #data given\n",
    "n_sample = 26   #data given\n",
    "alpha = 0.05    #assume\n",
    "mean_old = np.mean(old_design)\n",
    "mean_new = np.mean(new_design)\n",
    "z_cal = (mean_new - mean_old) / (pop_std/np.sqrt(n_sample))\n",
    "z_cal\n",
    "# ab nikala ga z_table ki valuae\n",
    "z_table =st.norm.ppf(1-alpha)\n",
    "z_table\n",
    "if z_cal> z_table:\n",
    "    print (\"ha is right\")\n",
    "else:\n",
    "    print(\"hnot is right\")\n"
   ]
  },
  {
   "cell_type": "code",
   "execution_count": 24,
   "id": "a4f6a059-fafe-4390-be45-3cbb9c31ed06",
   "metadata": {},
   "outputs": [
    {
     "data": {
      "text/plain": [
       "np.float64(-2.0)"
      ]
     },
     "execution_count": 24,
     "metadata": {},
     "output_type": "execute_result"
    }
   ],
   "source": [
    "# T-Test\n",
    "import scipy.stats as st\n",
    "import numpy as np\n",
    "pop_mean = 150\n",
    "sample_mean = 148\n",
    "n = 25\n",
    "s = 5 \n",
    "alpha = 0.05\n",
    "# t-table = st.t.ppf(0.05,24) #0.05 alpha valuae 24 is df value explain on register\n",
    "t_cal = (sample_mean - pop_mean  )/(s / np.sqrt(n)) #formula\n",
    "t_cal\n",
    "\n"
   ]
  },
  {
   "cell_type": "code",
   "execution_count": 43,
   "id": "037a3501-e712-4e8f-893b-b2f86b8015c8",
   "metadata": {},
   "outputs": [
    {
     "data": {
      "text/plain": [
       "np.float64(2.862991671569341)"
      ]
     },
     "execution_count": 43,
     "metadata": {},
     "output_type": "execute_result"
    }
   ],
   "source": [
    "# example no 2 ss attach\n",
    "import scipy.stats as st\n",
    "import numpy as np\n",
    "teama_mean = 80\n",
    "teamb_mean = 75  \n",
    "stda =  5\n",
    "stdb = 6 # all valuae are from example and on register\n",
    "na = 20\n",
    "nb = 20\n",
    "alpha = 38  #meantion on register\n",
    "t_table =st.t.ppf(1-0.025,alpha) #0.02 t_table sa dakhi samj nhi ai  1 - is liye ku ka ye hma +ve ma chaheye\n",
    "t_table\n",
    "t_cal = (teama_mean - teamb_mean) / np.sqrt((stda**2/na) +(stdb**2/nb))\n",
    "t_cal\n",
    "# ab hm dakhain t cal ki value kahn plot howi ha on register"
   ]
  },
  {
   "cell_type": "code",
   "execution_count": 54,
   "id": "dc311571-5f19-44d2-a52e-edb848ee19de",
   "metadata": {},
   "outputs": [
    {
     "data": {
      "text/plain": [
       "np.float64(1.0824178115930594)"
      ]
     },
     "execution_count": 54,
     "metadata": {},
     "output_type": "execute_result"
    }
   ],
   "source": [
    "# t_test example 3 ss attach also on register\n",
    "before = np.array([50,60,45,65,55,70,40,75,80,65,70,60,50,55,45,75,60,50,65,70])\n",
    "after = np.array([60,70,55,75,65,80,50,85,90,70,75,65,55,60,50,80,65,5570,75])\n",
    "t_table = st.t.ppf(1-0.025,20)  #20 due to our person 20\n",
    "std_a = np.std(after)\n",
    "std_b = np.std(before)\n",
    "mean_a = np.mean(after)\n",
    "mean_b = np.mean(before)\n",
    "# t_cal = (np.mean(after)-np.mean(before)) / (np.sqrt((np.std(after))+(np.std(before))))\n",
    "t_cal = (mean_a - mean_b) / (np.sqrt(((std_a**2 / 20)) + ((std_b**2 / 20))))\n",
    "t_cal #check register for graph"
   ]
  },
  {
   "cell_type": "code",
   "execution_count": 5,
   "id": "34a8987c-7b22-48cd-ad54-25e3c2e3d1e3",
   "metadata": {},
   "outputs": [
    {
     "data": {
      "text/plain": [
       "np.float64(5.1000000000000005)"
      ]
     },
     "execution_count": 5,
     "metadata": {},
     "output_type": "execute_result"
    }
   ],
   "source": [
    "# chi square test ss attach example no 1 on blue register explain\n",
    "import scipy.stats as st\n",
    "import numpy as np\n",
    "ob_value  = np.array([22,17,20,26,22,13]) #value jo hmna example sa li dice ki\n",
    "expected_value = np.array([20,20,20,20,20,20]) #value jo expect ki 12 ko 6 pa divide krna ka bd\n",
    "np.sum(np.square(ob_value-expected_value) / expected_value) #through formula of chi square E sign repre sum\n",
    "# ahga explain on register\n"
   ]
  },
  {
   "cell_type": "code",
   "execution_count": null,
   "id": "c77bf9dc-25b8-4ce3-a1f0-951777b8a3e5",
   "metadata": {},
   "outputs": [],
   "source": []
  },
  {
   "cell_type": "code",
   "execution_count": null,
   "id": "01c34448-c0ae-4391-9a15-33ee6873604f",
   "metadata": {},
   "outputs": [],
   "source": []
  },
  {
   "cell_type": "code",
   "execution_count": null,
   "id": "fdae73e0-487d-466b-9c9e-e48feab6e742",
   "metadata": {},
   "outputs": [],
   "source": []
  },
  {
   "cell_type": "code",
   "execution_count": null,
   "id": "a7b71a67-6a9b-42a3-b6af-e66ce7997ceb",
   "metadata": {},
   "outputs": [],
   "source": []
  }
 ],
 "metadata": {
  "kernelspec": {
   "display_name": "Python 3 (ipykernel)",
   "language": "python",
   "name": "python3"
  },
  "language_info": {
   "codemirror_mode": {
    "name": "ipython",
    "version": 3
   },
   "file_extension": ".py",
   "mimetype": "text/x-python",
   "name": "python",
   "nbconvert_exporter": "python",
   "pygments_lexer": "ipython3",
   "version": "3.12.3"
  }
 },
 "nbformat": 4,
 "nbformat_minor": 5
}
