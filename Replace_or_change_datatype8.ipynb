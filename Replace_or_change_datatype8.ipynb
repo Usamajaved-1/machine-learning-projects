{
 "cells": [
  {
   "cell_type": "raw",
   "id": "47afd655-43fc-45de-b05b-c454137f3946",
   "metadata": {},
   "source": [
    "replace or change datatype mean if we replace the data then how to change its datatype according to other "
   ]
  },
  {
   "cell_type": "code",
   "execution_count": 17,
   "id": "d9297da1-bcd3-414e-8268-4afa64e66556",
   "metadata": {},
   "outputs": [
    {
     "data": {
      "text/html": [
       "<div>\n",
       "<style scoped>\n",
       "    .dataframe tbody tr th:only-of-type {\n",
       "        vertical-align: middle;\n",
       "    }\n",
       "\n",
       "    .dataframe tbody tr th {\n",
       "        vertical-align: top;\n",
       "    }\n",
       "\n",
       "    .dataframe thead th {\n",
       "        text-align: right;\n",
       "    }\n",
       "</style>\n",
       "<table border=\"1\" class=\"dataframe\">\n",
       "  <thead>\n",
       "    <tr style=\"text-align: right;\">\n",
       "      <th></th>\n",
       "      <th>Loan_ID</th>\n",
       "      <th>Gender</th>\n",
       "      <th>Married</th>\n",
       "      <th>Dependents</th>\n",
       "      <th>Education</th>\n",
       "      <th>Self_Employed</th>\n",
       "      <th>Applicant_Income</th>\n",
       "      <th>Loan_Amount</th>\n",
       "      <th>Loan_Amount_Term</th>\n",
       "    </tr>\n",
       "  </thead>\n",
       "  <tbody>\n",
       "    <tr>\n",
       "      <th>0</th>\n",
       "      <td>LP000</td>\n",
       "      <td>Female</td>\n",
       "      <td>Yes</td>\n",
       "      <td>2.0</td>\n",
       "      <td>Not Graduate</td>\n",
       "      <td>No</td>\n",
       "      <td>7353</td>\n",
       "      <td>665</td>\n",
       "      <td>12</td>\n",
       "    </tr>\n",
       "    <tr>\n",
       "      <th>1</th>\n",
       "      <td>LP001</td>\n",
       "      <td>Male</td>\n",
       "      <td>Yes</td>\n",
       "      <td>1.0</td>\n",
       "      <td>Graduate</td>\n",
       "      <td>No</td>\n",
       "      <td>5971</td>\n",
       "      <td>347</td>\n",
       "      <td>360</td>\n",
       "    </tr>\n",
       "    <tr>\n",
       "      <th>2</th>\n",
       "      <td>LP002</td>\n",
       "      <td>Female</td>\n",
       "      <td>Yes</td>\n",
       "      <td>3.0</td>\n",
       "      <td>Graduate</td>\n",
       "      <td>Yes</td>\n",
       "      <td>3110</td>\n",
       "      <td>485</td>\n",
       "      <td>240</td>\n",
       "    </tr>\n",
       "    <tr>\n",
       "      <th>3</th>\n",
       "      <td>LP003</td>\n",
       "      <td>Male</td>\n",
       "      <td>No</td>\n",
       "      <td>1.0</td>\n",
       "      <td>Not Graduate</td>\n",
       "      <td>No</td>\n",
       "      <td>6020</td>\n",
       "      <td>335</td>\n",
       "      <td>36</td>\n",
       "    </tr>\n",
       "    <tr>\n",
       "      <th>4</th>\n",
       "      <td>LP004</td>\n",
       "      <td>Female</td>\n",
       "      <td>No</td>\n",
       "      <td>1.0</td>\n",
       "      <td>Not Graduate</td>\n",
       "      <td>No</td>\n",
       "      <td>7812</td>\n",
       "      <td>344</td>\n",
       "      <td>36</td>\n",
       "    </tr>\n",
       "    <tr>\n",
       "      <th>5</th>\n",
       "      <td>LP005</td>\n",
       "      <td>Male</td>\n",
       "      <td>Yes</td>\n",
       "      <td>2.5</td>\n",
       "      <td>Graduate</td>\n",
       "      <td>No</td>\n",
       "      <td>4103</td>\n",
       "      <td>376</td>\n",
       "      <td>120</td>\n",
       "    </tr>\n",
       "    <tr>\n",
       "      <th>6</th>\n",
       "      <td>LP006</td>\n",
       "      <td>Male</td>\n",
       "      <td>No</td>\n",
       "      <td>NaN</td>\n",
       "      <td>Not Graduate</td>\n",
       "      <td>No</td>\n",
       "      <td>6975</td>\n",
       "      <td>313</td>\n",
       "      <td>240</td>\n",
       "    </tr>\n",
       "    <tr>\n",
       "      <th>7</th>\n",
       "      <td>LP007</td>\n",
       "      <td>Female</td>\n",
       "      <td>No</td>\n",
       "      <td>0.0</td>\n",
       "      <td>Graduate</td>\n",
       "      <td>Yes</td>\n",
       "      <td>2742</td>\n",
       "      <td>317</td>\n",
       "      <td>12</td>\n",
       "    </tr>\n",
       "    <tr>\n",
       "      <th>8</th>\n",
       "      <td>LP008</td>\n",
       "      <td>Male</td>\n",
       "      <td>Yes</td>\n",
       "      <td>1.0</td>\n",
       "      <td>Graduate</td>\n",
       "      <td>No</td>\n",
       "      <td>4892</td>\n",
       "      <td>116</td>\n",
       "      <td>36</td>\n",
       "    </tr>\n",
       "    <tr>\n",
       "      <th>9</th>\n",
       "      <td>LP009</td>\n",
       "      <td>Male</td>\n",
       "      <td>No</td>\n",
       "      <td>2.0</td>\n",
       "      <td>Not Graduate</td>\n",
       "      <td>No</td>\n",
       "      <td>1628</td>\n",
       "      <td>302</td>\n",
       "      <td>360</td>\n",
       "    </tr>\n",
       "  </tbody>\n",
       "</table>\n",
       "</div>"
      ],
      "text/plain": [
       "  Loan_ID  Gender Married  Dependents     Education Self_Employed  \\\n",
       "0   LP000  Female     Yes         2.0  Not Graduate            No   \n",
       "1   LP001    Male     Yes         1.0      Graduate            No   \n",
       "2   LP002  Female     Yes         3.0      Graduate           Yes   \n",
       "3   LP003    Male      No         1.0  Not Graduate            No   \n",
       "4   LP004  Female      No         1.0  Not Graduate            No   \n",
       "5   LP005    Male     Yes         2.5      Graduate            No   \n",
       "6   LP006    Male      No         NaN  Not Graduate            No   \n",
       "7   LP007  Female      No         0.0      Graduate           Yes   \n",
       "8   LP008    Male     Yes         1.0      Graduate            No   \n",
       "9   LP009    Male      No         2.0  Not Graduate            No   \n",
       "\n",
       "   Applicant_Income  Loan_Amount  Loan_Amount_Term  \n",
       "0              7353          665                12  \n",
       "1              5971          347               360  \n",
       "2              3110          485               240  \n",
       "3              6020          335                36  \n",
       "4              7812          344                36  \n",
       "5              4103          376               120  \n",
       "6              6975          313               240  \n",
       "7              2742          317                12  \n",
       "8              4892          116                36  \n",
       "9              1628          302               360  "
      ]
     },
     "execution_count": 17,
     "metadata": {},
     "output_type": "execute_result"
    }
   ],
   "source": [
    "import pandas as pd\n",
    "import numpy as np \n",
    "import matplotlib.pyplot as plt\n",
    "import seaborn as sns\n",
    "data = pd.read_csv(\"excel2.csv\")\n",
    "data.head(10)"
   ]
  },
  {
   "cell_type": "code",
   "execution_count": 18,
   "id": "6340bc72-91e2-4eba-a120-825c8f31a71b",
   "metadata": {},
   "outputs": [
    {
     "name": "stdout",
     "output_type": "stream",
     "text": [
      "<class 'pandas.core.frame.DataFrame'>\n",
      "RangeIndex: 100 entries, 0 to 99\n",
      "Data columns (total 9 columns):\n",
      " #   Column            Non-Null Count  Dtype  \n",
      "---  ------            --------------  -----  \n",
      " 0   Loan_ID           100 non-null    object \n",
      " 1   Gender            100 non-null    object \n",
      " 2   Married           100 non-null    object \n",
      " 3   Dependents        67 non-null     float64\n",
      " 4   Education         100 non-null    object \n",
      " 5   Self_Employed     100 non-null    object \n",
      " 6   Applicant_Income  100 non-null    int64  \n",
      " 7   Loan_Amount       100 non-null    int64  \n",
      " 8   Loan_Amount_Term  100 non-null    int64  \n",
      "dtypes: float64(1), int64(3), object(5)\n",
      "memory usage: 7.2+ KB\n"
     ]
    }
   ],
   "source": [
    "data.info()"
   ]
  },
  {
   "cell_type": "code",
   "execution_count": 19,
   "id": "35c74fdf-f125-45e3-9714-59acb761f667",
   "metadata": {},
   "outputs": [
    {
     "data": {
      "text/plain": [
       "Dependents\n",
       "1.0    22\n",
       "2.0    16\n",
       "2.5    13\n",
       "0.0    10\n",
       "3.0     6\n",
       "Name: count, dtype: int64"
      ]
     },
     "execution_count": 19,
     "metadata": {},
     "output_type": "execute_result"
    }
   ],
   "source": [
    "data[\"Dependents\"].value_counts()"
   ]
  },
  {
   "cell_type": "code",
   "execution_count": 59,
   "id": "dd0e6075-8213-466c-9d9d-775929b15c54",
   "metadata": {},
   "outputs": [],
   "source": [
    "data[\"Dependents\"].fillna(data[\"Dependents\"].mode()[0],inplace=True)"
   ]
  },
  {
   "cell_type": "code",
   "execution_count": 60,
   "id": "c424d532-ea35-48e5-b737-fac3aa2061fb",
   "metadata": {},
   "outputs": [
    {
     "data": {
      "text/plain": [
       "Loan_ID             0\n",
       "Gender              0\n",
       "Married             0\n",
       "Dependents          0\n",
       "Education           0\n",
       "Self_Employed       0\n",
       "Applicant_Income    0\n",
       "Loan_Amount         0\n",
       "Loan_Amount_Term    0\n",
       "dtype: int64"
      ]
     },
     "execution_count": 60,
     "metadata": {},
     "output_type": "execute_result"
    }
   ],
   "source": [
    "data.isnull().sum()"
   ]
  },
  {
   "cell_type": "markdown",
   "id": "797635f7-d12f-44dc-8b0f-ecce88f070c7",
   "metadata": {},
   "source": [
    "# Replace Method"
   ]
  },
  {
   "cell_type": "code",
   "execution_count": 57,
   "id": "f44a292e-24cc-4be8-87ce-5f5e060b6445",
   "metadata": {},
   "outputs": [
    {
     "data": {
      "text/plain": [
       "0     2.0\n",
       "1     1.0\n",
       "2     4.0\n",
       "3     1.0\n",
       "4     1.0\n",
       "     ... \n",
       "95    1.0\n",
       "96    1.0\n",
       "97    1.0\n",
       "98    1.0\n",
       "99    1.0\n",
       "Name: Dependents, Length: 100, dtype: float64"
      ]
     },
     "execution_count": 57,
     "metadata": {},
     "output_type": "execute_result"
    }
   ],
   "source": [
    "data[\"Dependents\"].replace(\"3\",\"4\") # is tariqa sa hm 3 ko 4 sa replace kr da ga\n",
    "# data[\"Dependents\"].replace(\"3\",\"4\",inplace=True) sae tariqa ye ha lakin inplace pta nhi work nhi kr rabs\n",
    "# inplace use hota taka wo data opr b change ho jay "
   ]
  },
  {
   "cell_type": "code",
   "execution_count": 63,
   "id": "0c7a5116-d5db-4e90-9ddf-2281928f8d15",
   "metadata": {},
   "outputs": [
    {
     "data": {
      "text/plain": [
       "Dependents\n",
       "1.0    55\n",
       "2.0    16\n",
       "2.5    13\n",
       "0.0    10\n",
       "4.0     6\n",
       "Name: count, dtype: int64"
      ]
     },
     "execution_count": 63,
     "metadata": {},
     "output_type": "execute_result"
    }
   ],
   "source": [
    "data[\"Dependents\"].value_counts() # ye 3 replace ho gya 4 sa "
   ]
  },
  {
   "cell_type": "markdown",
   "id": "b2665f20-f2e6-4505-8af1-f6ee8542eea5",
   "metadata": {},
   "source": [
    "# change data type"
   ]
  },
  {
   "cell_type": "code",
   "execution_count": 67,
   "id": "c540908e-7f2c-4e56-ac01-2108a477b0a8",
   "metadata": {},
   "outputs": [],
   "source": [
    "data[\"Dependents\"] = data[\"Dependents\"].astype(\"int64\") # ye hmna iski data type change kr li \n",
    "#  sath hi isko replace n kr diya orignal sa so hmari data type change ho gay "
   ]
  },
  {
   "cell_type": "code",
   "execution_count": 68,
   "id": "011a812c-4cd2-4729-b313-ea1377bd7051",
   "metadata": {},
   "outputs": [
    {
     "name": "stdout",
     "output_type": "stream",
     "text": [
      "<class 'pandas.core.frame.DataFrame'>\n",
      "RangeIndex: 100 entries, 0 to 99\n",
      "Data columns (total 9 columns):\n",
      " #   Column            Non-Null Count  Dtype \n",
      "---  ------            --------------  ----- \n",
      " 0   Loan_ID           100 non-null    object\n",
      " 1   Gender            100 non-null    object\n",
      " 2   Married           100 non-null    object\n",
      " 3   Dependents        100 non-null    int64 \n",
      " 4   Education         100 non-null    object\n",
      " 5   Self_Employed     100 non-null    object\n",
      " 6   Applicant_Income  100 non-null    int64 \n",
      " 7   Loan_Amount       100 non-null    int64 \n",
      " 8   Loan_Amount_Term  100 non-null    int64 \n",
      "dtypes: int64(4), object(5)\n",
      "memory usage: 7.2+ KB\n"
     ]
    }
   ],
   "source": [
    "data.info()"
   ]
  }
 ],
 "metadata": {
  "kernelspec": {
   "display_name": "Python 3 (ipykernel)",
   "language": "python",
   "name": "python3"
  },
  "language_info": {
   "codemirror_mode": {
    "name": "ipython",
    "version": 3
   },
   "file_extension": ".py",
   "mimetype": "text/x-python",
   "name": "python",
   "nbconvert_exporter": "python",
   "pygments_lexer": "ipython3",
   "version": "3.12.3"
  }
 },
 "nbformat": 4,
 "nbformat_minor": 5
}
