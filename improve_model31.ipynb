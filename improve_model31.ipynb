{
 "cells": [
  {
   "cell_type": "markdown",
   "id": "687a599e-d0c3-4b1f-9c89-131e1f2cf941",
   "metadata": {},
   "source": [
    "# improve model accuracy part of 30 "
   ]
  },
  {
   "cell_type": "code",
   "execution_count": 35,
   "id": "e80085f3-ceae-4518-905f-c18163360920",
   "metadata": {},
   "outputs": [],
   "source": [
    "# pg64 \n",
    "import pandas as pd \n",
    "import numpy as np \n",
    "import matplotlib.pyplot as plt \n",
    "import seaborn as sns "
   ]
  },
  {
   "cell_type": "code",
   "execution_count": 4,
   "id": "29feb5a2-1300-4d95-814c-4b4bf58364c2",
   "metadata": {},
   "outputs": [
    {
     "data": {
      "text/html": [
       "<div>\n",
       "<style scoped>\n",
       "    .dataframe tbody tr th:only-of-type {\n",
       "        vertical-align: middle;\n",
       "    }\n",
       "\n",
       "    .dataframe tbody tr th {\n",
       "        vertical-align: top;\n",
       "    }\n",
       "\n",
       "    .dataframe thead th {\n",
       "        text-align: right;\n",
       "    }\n",
       "</style>\n",
       "<table border=\"1\" class=\"dataframe\">\n",
       "  <thead>\n",
       "    <tr style=\"text-align: right;\">\n",
       "      <th></th>\n",
       "      <th>RowNumber</th>\n",
       "      <th>CustomerId</th>\n",
       "      <th>Surname</th>\n",
       "      <th>CreditScore</th>\n",
       "      <th>Geography</th>\n",
       "      <th>Gender</th>\n",
       "      <th>Age</th>\n",
       "      <th>Tenure</th>\n",
       "      <th>Balance</th>\n",
       "      <th>NumOfProducts</th>\n",
       "      <th>HasCrCard</th>\n",
       "      <th>IsActiveMember</th>\n",
       "      <th>EstimatedSalary</th>\n",
       "      <th>Exited</th>\n",
       "    </tr>\n",
       "  </thead>\n",
       "  <tbody>\n",
       "    <tr>\n",
       "      <th>0</th>\n",
       "      <td>1</td>\n",
       "      <td>15634602</td>\n",
       "      <td>Hargrave</td>\n",
       "      <td>619</td>\n",
       "      <td>France</td>\n",
       "      <td>Female</td>\n",
       "      <td>42</td>\n",
       "      <td>2</td>\n",
       "      <td>0.00</td>\n",
       "      <td>1</td>\n",
       "      <td>1</td>\n",
       "      <td>1</td>\n",
       "      <td>101348.88</td>\n",
       "      <td>1</td>\n",
       "    </tr>\n",
       "    <tr>\n",
       "      <th>1</th>\n",
       "      <td>2</td>\n",
       "      <td>15647311</td>\n",
       "      <td>Hill</td>\n",
       "      <td>608</td>\n",
       "      <td>Spain</td>\n",
       "      <td>Female</td>\n",
       "      <td>41</td>\n",
       "      <td>1</td>\n",
       "      <td>83807.86</td>\n",
       "      <td>1</td>\n",
       "      <td>0</td>\n",
       "      <td>1</td>\n",
       "      <td>112542.58</td>\n",
       "      <td>0</td>\n",
       "    </tr>\n",
       "    <tr>\n",
       "      <th>2</th>\n",
       "      <td>3</td>\n",
       "      <td>15619304</td>\n",
       "      <td>Onio</td>\n",
       "      <td>502</td>\n",
       "      <td>France</td>\n",
       "      <td>Female</td>\n",
       "      <td>42</td>\n",
       "      <td>8</td>\n",
       "      <td>159660.80</td>\n",
       "      <td>3</td>\n",
       "      <td>1</td>\n",
       "      <td>0</td>\n",
       "      <td>113931.57</td>\n",
       "      <td>1</td>\n",
       "    </tr>\n",
       "  </tbody>\n",
       "</table>\n",
       "</div>"
      ],
      "text/plain": [
       "   RowNumber  CustomerId   Surname  CreditScore Geography  Gender  Age  \\\n",
       "0          1    15634602  Hargrave          619    France  Female   42   \n",
       "1          2    15647311      Hill          608     Spain  Female   41   \n",
       "2          3    15619304      Onio          502    France  Female   42   \n",
       "\n",
       "   Tenure    Balance  NumOfProducts  HasCrCard  IsActiveMember  \\\n",
       "0       2       0.00              1          1               1   \n",
       "1       1   83807.86              1          0               1   \n",
       "2       8  159660.80              3          1               0   \n",
       "\n",
       "   EstimatedSalary  Exited  \n",
       "0        101348.88       1  \n",
       "1        112542.58       0  \n",
       "2        113931.57       1  "
      ]
     },
     "execution_count": 4,
     "metadata": {},
     "output_type": "execute_result"
    }
   ],
   "source": [
    "data = pd.read_csv(\"Churn_Modelling.csv\")\n",
    "data.head(3)"
   ]
  },
  {
   "cell_type": "code",
   "execution_count": 5,
   "id": "2589914b-9a18-4f2a-ac6a-f680068bcc7e",
   "metadata": {},
   "outputs": [],
   "source": [
    " data.drop(columns=[\"RowNumber\",\"CustomerId\",\"Surname\",\"Geography\",\"Gender\"],inplace = True)\n",
    "# adjust it according to wscubetech "
   ]
  },
  {
   "cell_type": "code",
   "execution_count": 6,
   "id": "2ceff795-9231-497e-92fd-e1b999e86236",
   "metadata": {},
   "outputs": [
    {
     "data": {
      "text/html": [
       "<div>\n",
       "<style scoped>\n",
       "    .dataframe tbody tr th:only-of-type {\n",
       "        vertical-align: middle;\n",
       "    }\n",
       "\n",
       "    .dataframe tbody tr th {\n",
       "        vertical-align: top;\n",
       "    }\n",
       "\n",
       "    .dataframe thead th {\n",
       "        text-align: right;\n",
       "    }\n",
       "</style>\n",
       "<table border=\"1\" class=\"dataframe\">\n",
       "  <thead>\n",
       "    <tr style=\"text-align: right;\">\n",
       "      <th></th>\n",
       "      <th>CreditScore</th>\n",
       "      <th>Age</th>\n",
       "      <th>Tenure</th>\n",
       "      <th>Balance</th>\n",
       "      <th>NumOfProducts</th>\n",
       "      <th>HasCrCard</th>\n",
       "      <th>IsActiveMember</th>\n",
       "      <th>EstimatedSalary</th>\n",
       "      <th>Exited</th>\n",
       "    </tr>\n",
       "  </thead>\n",
       "  <tbody>\n",
       "    <tr>\n",
       "      <th>0</th>\n",
       "      <td>619</td>\n",
       "      <td>42</td>\n",
       "      <td>2</td>\n",
       "      <td>0.00</td>\n",
       "      <td>1</td>\n",
       "      <td>1</td>\n",
       "      <td>1</td>\n",
       "      <td>101348.88</td>\n",
       "      <td>1</td>\n",
       "    </tr>\n",
       "    <tr>\n",
       "      <th>1</th>\n",
       "      <td>608</td>\n",
       "      <td>41</td>\n",
       "      <td>1</td>\n",
       "      <td>83807.86</td>\n",
       "      <td>1</td>\n",
       "      <td>0</td>\n",
       "      <td>1</td>\n",
       "      <td>112542.58</td>\n",
       "      <td>0</td>\n",
       "    </tr>\n",
       "    <tr>\n",
       "      <th>2</th>\n",
       "      <td>502</td>\n",
       "      <td>42</td>\n",
       "      <td>8</td>\n",
       "      <td>159660.80</td>\n",
       "      <td>3</td>\n",
       "      <td>1</td>\n",
       "      <td>0</td>\n",
       "      <td>113931.57</td>\n",
       "      <td>1</td>\n",
       "    </tr>\n",
       "  </tbody>\n",
       "</table>\n",
       "</div>"
      ],
      "text/plain": [
       "   CreditScore  Age  Tenure    Balance  NumOfProducts  HasCrCard  \\\n",
       "0          619   42       2       0.00              1          1   \n",
       "1          608   41       1   83807.86              1          0   \n",
       "2          502   42       8  159660.80              3          1   \n",
       "\n",
       "   IsActiveMember  EstimatedSalary  Exited  \n",
       "0               1        101348.88       1  \n",
       "1               1        112542.58       0  \n",
       "2               0        113931.57       1  "
      ]
     },
     "execution_count": 6,
     "metadata": {},
     "output_type": "execute_result"
    }
   ],
   "source": [
    "data.head(3)"
   ]
  },
  {
   "cell_type": "code",
   "execution_count": 7,
   "id": "1d425653-12ac-4c8b-954a-d1ff90a54808",
   "metadata": {},
   "outputs": [
    {
     "data": {
      "text/plain": [
       "CreditScore        0\n",
       "Age                0\n",
       "Tenure             0\n",
       "Balance            0\n",
       "NumOfProducts      0\n",
       "HasCrCard          0\n",
       "IsActiveMember     0\n",
       "EstimatedSalary    0\n",
       "Exited             0\n",
       "dtype: int64"
      ]
     },
     "execution_count": 7,
     "metadata": {},
     "output_type": "execute_result"
    }
   ],
   "source": [
    "data.isnull().sum()"
   ]
  },
  {
   "cell_type": "code",
   "execution_count": 8,
   "id": "967c21fe-0def-43c7-83bc-568993b75ca9",
   "metadata": {},
   "outputs": [],
   "source": [
    "input_data = data.iloc[:,:-1]\n",
    "output_data = data.iloc[:,-1]"
   ]
  },
  {
   "cell_type": "code",
   "execution_count": 9,
   "id": "8c9fc30c-bae0-468d-98f0-a2c38473d0cd",
   "metadata": {},
   "outputs": [],
   "source": [
    "from sklearn.preprocessing import StandardScaler\n",
    "# we have to scale every data we sue in deep learning "
   ]
  },
  {
   "cell_type": "code",
   "execution_count": 10,
   "id": "396d62c0-6d7a-4034-b531-af4b478de391",
   "metadata": {},
   "outputs": [
    {
     "data": {
      "text/plain": [
       "array([[-0.32622142,  0.29351742, -1.04175968, ...,  0.64609167,\n",
       "         0.97024255,  0.02188649],\n",
       "       [-0.44003595,  0.19816383, -1.38753759, ..., -1.54776799,\n",
       "         0.97024255,  0.21653375],\n",
       "       [-1.53679418,  0.29351742,  1.03290776, ...,  0.64609167,\n",
       "        -1.03067011,  0.2406869 ],\n",
       "       ...,\n",
       "       [ 0.60498839, -0.27860412,  0.68712986, ..., -1.54776799,\n",
       "         0.97024255, -1.00864308],\n",
       "       [ 1.25683526,  0.29351742, -0.69598177, ...,  0.64609167,\n",
       "        -1.03067011, -0.12523071],\n",
       "       [ 1.46377078, -1.04143285, -0.35020386, ...,  0.64609167,\n",
       "        -1.03067011, -1.07636976]])"
      ]
     },
     "execution_count": 10,
     "metadata": {},
     "output_type": "execute_result"
    }
   ],
   "source": [
    "ss = StandardScaler()\n",
    "ss.fit_transform(input_data)"
   ]
  },
  {
   "cell_type": "code",
   "execution_count": 11,
   "id": "e67029fd-4465-49bc-b472-a0284e432b99",
   "metadata": {},
   "outputs": [],
   "source": [
    "input_data1 = pd.DataFrame(ss.fit_transform(input_data),columns=input_data.columns)"
   ]
  },
  {
   "cell_type": "code",
   "execution_count": 12,
   "id": "69aee64f-8c3c-45a5-89e3-afbdf874b021",
   "metadata": {},
   "outputs": [
    {
     "data": {
      "text/html": [
       "<div>\n",
       "<style scoped>\n",
       "    .dataframe tbody tr th:only-of-type {\n",
       "        vertical-align: middle;\n",
       "    }\n",
       "\n",
       "    .dataframe tbody tr th {\n",
       "        vertical-align: top;\n",
       "    }\n",
       "\n",
       "    .dataframe thead th {\n",
       "        text-align: right;\n",
       "    }\n",
       "</style>\n",
       "<table border=\"1\" class=\"dataframe\">\n",
       "  <thead>\n",
       "    <tr style=\"text-align: right;\">\n",
       "      <th></th>\n",
       "      <th>CreditScore</th>\n",
       "      <th>Age</th>\n",
       "      <th>Tenure</th>\n",
       "      <th>Balance</th>\n",
       "      <th>NumOfProducts</th>\n",
       "      <th>HasCrCard</th>\n",
       "      <th>IsActiveMember</th>\n",
       "      <th>EstimatedSalary</th>\n",
       "    </tr>\n",
       "  </thead>\n",
       "  <tbody>\n",
       "    <tr>\n",
       "      <th>0</th>\n",
       "      <td>-0.326221</td>\n",
       "      <td>0.293517</td>\n",
       "      <td>-1.041760</td>\n",
       "      <td>-1.225848</td>\n",
       "      <td>-0.911583</td>\n",
       "      <td>0.646092</td>\n",
       "      <td>0.970243</td>\n",
       "      <td>0.021886</td>\n",
       "    </tr>\n",
       "    <tr>\n",
       "      <th>1</th>\n",
       "      <td>-0.440036</td>\n",
       "      <td>0.198164</td>\n",
       "      <td>-1.387538</td>\n",
       "      <td>0.117350</td>\n",
       "      <td>-0.911583</td>\n",
       "      <td>-1.547768</td>\n",
       "      <td>0.970243</td>\n",
       "      <td>0.216534</td>\n",
       "    </tr>\n",
       "    <tr>\n",
       "      <th>2</th>\n",
       "      <td>-1.536794</td>\n",
       "      <td>0.293517</td>\n",
       "      <td>1.032908</td>\n",
       "      <td>1.333053</td>\n",
       "      <td>2.527057</td>\n",
       "      <td>0.646092</td>\n",
       "      <td>-1.030670</td>\n",
       "      <td>0.240687</td>\n",
       "    </tr>\n",
       "    <tr>\n",
       "      <th>3</th>\n",
       "      <td>0.501521</td>\n",
       "      <td>0.007457</td>\n",
       "      <td>-1.387538</td>\n",
       "      <td>-1.225848</td>\n",
       "      <td>0.807737</td>\n",
       "      <td>-1.547768</td>\n",
       "      <td>-1.030670</td>\n",
       "      <td>-0.108918</td>\n",
       "    </tr>\n",
       "    <tr>\n",
       "      <th>4</th>\n",
       "      <td>2.063884</td>\n",
       "      <td>0.388871</td>\n",
       "      <td>-1.041760</td>\n",
       "      <td>0.785728</td>\n",
       "      <td>-0.911583</td>\n",
       "      <td>0.646092</td>\n",
       "      <td>0.970243</td>\n",
       "      <td>-0.365276</td>\n",
       "    </tr>\n",
       "    <tr>\n",
       "      <th>...</th>\n",
       "      <td>...</td>\n",
       "      <td>...</td>\n",
       "      <td>...</td>\n",
       "      <td>...</td>\n",
       "      <td>...</td>\n",
       "      <td>...</td>\n",
       "      <td>...</td>\n",
       "      <td>...</td>\n",
       "    </tr>\n",
       "    <tr>\n",
       "      <th>9995</th>\n",
       "      <td>1.246488</td>\n",
       "      <td>0.007457</td>\n",
       "      <td>-0.004426</td>\n",
       "      <td>-1.225848</td>\n",
       "      <td>0.807737</td>\n",
       "      <td>0.646092</td>\n",
       "      <td>-1.030670</td>\n",
       "      <td>-0.066419</td>\n",
       "    </tr>\n",
       "    <tr>\n",
       "      <th>9996</th>\n",
       "      <td>-1.391939</td>\n",
       "      <td>-0.373958</td>\n",
       "      <td>1.724464</td>\n",
       "      <td>-0.306379</td>\n",
       "      <td>-0.911583</td>\n",
       "      <td>0.646092</td>\n",
       "      <td>0.970243</td>\n",
       "      <td>0.027988</td>\n",
       "    </tr>\n",
       "    <tr>\n",
       "      <th>9997</th>\n",
       "      <td>0.604988</td>\n",
       "      <td>-0.278604</td>\n",
       "      <td>0.687130</td>\n",
       "      <td>-1.225848</td>\n",
       "      <td>-0.911583</td>\n",
       "      <td>-1.547768</td>\n",
       "      <td>0.970243</td>\n",
       "      <td>-1.008643</td>\n",
       "    </tr>\n",
       "    <tr>\n",
       "      <th>9998</th>\n",
       "      <td>1.256835</td>\n",
       "      <td>0.293517</td>\n",
       "      <td>-0.695982</td>\n",
       "      <td>-0.022608</td>\n",
       "      <td>0.807737</td>\n",
       "      <td>0.646092</td>\n",
       "      <td>-1.030670</td>\n",
       "      <td>-0.125231</td>\n",
       "    </tr>\n",
       "    <tr>\n",
       "      <th>9999</th>\n",
       "      <td>1.463771</td>\n",
       "      <td>-1.041433</td>\n",
       "      <td>-0.350204</td>\n",
       "      <td>0.859965</td>\n",
       "      <td>-0.911583</td>\n",
       "      <td>0.646092</td>\n",
       "      <td>-1.030670</td>\n",
       "      <td>-1.076370</td>\n",
       "    </tr>\n",
       "  </tbody>\n",
       "</table>\n",
       "<p>10000 rows × 8 columns</p>\n",
       "</div>"
      ],
      "text/plain": [
       "      CreditScore       Age    Tenure   Balance  NumOfProducts  HasCrCard  \\\n",
       "0       -0.326221  0.293517 -1.041760 -1.225848      -0.911583   0.646092   \n",
       "1       -0.440036  0.198164 -1.387538  0.117350      -0.911583  -1.547768   \n",
       "2       -1.536794  0.293517  1.032908  1.333053       2.527057   0.646092   \n",
       "3        0.501521  0.007457 -1.387538 -1.225848       0.807737  -1.547768   \n",
       "4        2.063884  0.388871 -1.041760  0.785728      -0.911583   0.646092   \n",
       "...           ...       ...       ...       ...            ...        ...   \n",
       "9995     1.246488  0.007457 -0.004426 -1.225848       0.807737   0.646092   \n",
       "9996    -1.391939 -0.373958  1.724464 -0.306379      -0.911583   0.646092   \n",
       "9997     0.604988 -0.278604  0.687130 -1.225848      -0.911583  -1.547768   \n",
       "9998     1.256835  0.293517 -0.695982 -0.022608       0.807737   0.646092   \n",
       "9999     1.463771 -1.041433 -0.350204  0.859965      -0.911583   0.646092   \n",
       "\n",
       "      IsActiveMember  EstimatedSalary  \n",
       "0           0.970243         0.021886  \n",
       "1           0.970243         0.216534  \n",
       "2          -1.030670         0.240687  \n",
       "3          -1.030670        -0.108918  \n",
       "4           0.970243        -0.365276  \n",
       "...              ...              ...  \n",
       "9995       -1.030670        -0.066419  \n",
       "9996        0.970243         0.027988  \n",
       "9997        0.970243        -1.008643  \n",
       "9998       -1.030670        -0.125231  \n",
       "9999       -1.030670        -1.076370  \n",
       "\n",
       "[10000 rows x 8 columns]"
      ]
     },
     "execution_count": 12,
     "metadata": {},
     "output_type": "execute_result"
    }
   ],
   "source": [
    "input_data1"
   ]
  },
  {
   "cell_type": "code",
   "execution_count": 13,
   "id": "a091e8ab-51b7-417b-a43a-1e36e84b6492",
   "metadata": {},
   "outputs": [],
   "source": [
    "from sklearn.model_selection import train_test_split"
   ]
  },
  {
   "cell_type": "code",
   "execution_count": 14,
   "id": "8b30f9d6-c65d-4931-862e-da36b46a5f91",
   "metadata": {},
   "outputs": [],
   "source": [
    "x_train,x_test,y_train,y_test = train_test_split(input_data,output_data,test_size=0.2,random_state=42)"
   ]
  },
  {
   "cell_type": "code",
   "execution_count": 15,
   "id": "7f577d2d-48ef-4f27-b946-b809e8850e36",
   "metadata": {},
   "outputs": [
    {
     "data": {
      "text/plain": [
       "(10000, 8)"
      ]
     },
     "execution_count": 15,
     "metadata": {},
     "output_type": "execute_result"
    }
   ],
   "source": [
    "input_data.shape"
   ]
  },
  {
   "cell_type": "code",
   "execution_count": 16,
   "id": "65ed545a-94ae-4dd7-b7c7-6db394f4310e",
   "metadata": {},
   "outputs": [
    {
     "data": {
      "text/plain": [
       "(8000, 8)"
      ]
     },
     "execution_count": 16,
     "metadata": {},
     "output_type": "execute_result"
    }
   ],
   "source": [
    "x_train.shape"
   ]
  },
  {
   "cell_type": "code",
   "execution_count": 51,
   "id": "e21051c0-d46f-4c10-b80a-ace042acbe50",
   "metadata": {},
   "outputs": [],
   "source": [
    "# now we create a artificial neural network \n",
    "import tensorflow\n",
    "from keras.layers import Dense\n",
    "from keras.models import Sequential\n",
    "from keras.callbacks import EarlyStopping # new one \n",
    "# these helps in on creating ann \n",
    "from keras.regularizers import l2"
   ]
  },
  {
   "cell_type": "code",
   "execution_count": 52,
   "id": "c29cfd74-811e-4459-800d-438f66345ac1",
   "metadata": {},
   "outputs": [
    {
     "data": {
      "text/plain": [
       "(10000, 8)"
      ]
     },
     "execution_count": 52,
     "metadata": {},
     "output_type": "execute_result"
    }
   ],
   "source": [
    "input_data1.shape # we creaet nodes accoring to it "
   ]
  },
  {
   "cell_type": "code",
   "execution_count": 54,
   "id": "cf838450-7e13-4743-84c4-4167762a61a5",
   "metadata": {},
   "outputs": [
    {
     "name": "stderr",
     "output_type": "stream",
     "text": [
      "C:\\Users\\R c\\AppData\\Local\\Programs\\Python\\Python312\\Lib\\site-packages\\keras\\src\\layers\\core\\dense.py:87: UserWarning: Do not pass an `input_shape`/`input_dim` argument to a layer. When using Sequential models, prefer using an `Input(shape)` object as the first layer in the model instead.\n",
      "  super().__init__(activity_regularizer=activity_regularizer, **kwargs)\n"
     ]
    }
   ],
   "source": [
    "ann = Sequential()\n",
    "ann.add(Dense(6,input_dim = 8,activation=\"relu\",kernel_regularizer=l2(l2=0.01))) #new one kernel\n",
    "# regulizer used to improve the accuracy expliain in achine learning topic \n",
    "ann.add(Dense(4,activation=\"relu\"))\n",
    "ann.add(Dense(2,activation=\"relu\"))\n",
    "ann.add(Dense(1,activation=\"sigmoid\"))\n",
    "# these all our hidden layer 1,2,3,4 "
   ]
  },
  {
   "cell_type": "code",
   "execution_count": 55,
   "id": "2ab72ca7-7824-49f2-a1e1-1dbc55678f0a",
   "metadata": {},
   "outputs": [],
   "source": [
    "# now ann network is complete and we compile it \n",
    "ann.compile(optimizer=\"adam\",loss=\"binary_crossentropy\",metrics=[\"accuracy\"])\n",
    "# optimizer best is adam as register loss also explain "
   ]
  },
  {
   "cell_type": "code",
   "execution_count": 56,
   "id": "f7a4fb3e-5ffa-4441-827d-d34907e4c58c",
   "metadata": {},
   "outputs": [
    {
     "data": {
      "text/plain": [
       "(8000, 8)"
      ]
     },
     "execution_count": 56,
     "metadata": {},
     "output_type": "execute_result"
    }
   ],
   "source": [
    "x_train.shape"
   ]
  },
  {
   "cell_type": "code",
   "execution_count": 57,
   "id": "db6349b0-31f6-4772-84ec-1a5ede2e15f0",
   "metadata": {},
   "outputs": [
    {
     "name": "stdout",
     "output_type": "stream",
     "text": [
      "Epoch 1/50\n",
      "\u001b[1m80/80\u001b[0m \u001b[32m━━━━━━━━━━━━━━━━━━━━\u001b[0m\u001b[37m\u001b[0m \u001b[1m2s\u001b[0m 4ms/step - accuracy: 0.7964 - loss: 0.7600 - val_accuracy: 0.8035 - val_loss: 0.7131\n",
      "Epoch 2/50\n",
      "\u001b[1m80/80\u001b[0m \u001b[32m━━━━━━━━━━━━━━━━━━━━\u001b[0m\u001b[37m\u001b[0m \u001b[1m0s\u001b[0m 2ms/step - accuracy: 0.7913 - loss: 0.7061 - val_accuracy: 0.8035 - val_loss: 0.6815\n",
      "Epoch 3/50\n",
      "\u001b[1m80/80\u001b[0m \u001b[32m━━━━━━━━━━━━━━━━━━━━\u001b[0m\u001b[37m\u001b[0m \u001b[1m0s\u001b[0m 2ms/step - accuracy: 0.7891 - loss: 0.6770 - val_accuracy: 0.8035 - val_loss: 0.6550\n",
      "Epoch 4/50\n",
      "\u001b[1m80/80\u001b[0m \u001b[32m━━━━━━━━━━━━━━━━━━━━\u001b[0m\u001b[37m\u001b[0m \u001b[1m0s\u001b[0m 3ms/step - accuracy: 0.7900 - loss: 0.6523 - val_accuracy: 0.8035 - val_loss: 0.6324\n",
      "Epoch 5/50\n",
      "\u001b[1m80/80\u001b[0m \u001b[32m━━━━━━━━━━━━━━━━━━━━\u001b[0m\u001b[37m\u001b[0m \u001b[1m0s\u001b[0m 3ms/step - accuracy: 0.7978 - loss: 0.6292 - val_accuracy: 0.8035 - val_loss: 0.6132\n",
      "Epoch 6/50\n",
      "\u001b[1m80/80\u001b[0m \u001b[32m━━━━━━━━━━━━━━━━━━━━\u001b[0m\u001b[37m\u001b[0m \u001b[1m0s\u001b[0m 2ms/step - accuracy: 0.7988 - loss: 0.6108 - val_accuracy: 0.8035 - val_loss: 0.5969\n",
      "Epoch 7/50\n",
      "\u001b[1m80/80\u001b[0m \u001b[32m━━━━━━━━━━━━━━━━━━━━\u001b[0m\u001b[37m\u001b[0m \u001b[1m0s\u001b[0m 3ms/step - accuracy: 0.7974 - loss: 0.5962 - val_accuracy: 0.8035 - val_loss: 0.5828\n",
      "Epoch 8/50\n",
      "\u001b[1m80/80\u001b[0m \u001b[32m━━━━━━━━━━━━━━━━━━━━\u001b[0m\u001b[37m\u001b[0m \u001b[1m0s\u001b[0m 2ms/step - accuracy: 0.7867 - loss: 0.5881 - val_accuracy: 0.8035 - val_loss: 0.5707\n",
      "Epoch 9/50\n",
      "\u001b[1m80/80\u001b[0m \u001b[32m━━━━━━━━━━━━━━━━━━━━\u001b[0m\u001b[37m\u001b[0m \u001b[1m0s\u001b[0m 3ms/step - accuracy: 0.7963 - loss: 0.5720 - val_accuracy: 0.8035 - val_loss: 0.5601\n",
      "Epoch 10/50\n",
      "\u001b[1m80/80\u001b[0m \u001b[32m━━━━━━━━━━━━━━━━━━━━\u001b[0m\u001b[37m\u001b[0m \u001b[1m0s\u001b[0m 3ms/step - accuracy: 0.7908 - loss: 0.5657 - val_accuracy: 0.8035 - val_loss: 0.5512\n",
      "Epoch 11/50\n",
      "\u001b[1m80/80\u001b[0m \u001b[32m━━━━━━━━━━━━━━━━━━━━\u001b[0m\u001b[37m\u001b[0m \u001b[1m0s\u001b[0m 3ms/step - accuracy: 0.7873 - loss: 0.5600 - val_accuracy: 0.8035 - val_loss: 0.5433\n",
      "Epoch 12/50\n",
      "\u001b[1m80/80\u001b[0m \u001b[32m━━━━━━━━━━━━━━━━━━━━\u001b[0m\u001b[37m\u001b[0m \u001b[1m0s\u001b[0m 2ms/step - accuracy: 0.7924 - loss: 0.5496 - val_accuracy: 0.8035 - val_loss: 0.5365\n",
      "Epoch 13/50\n",
      "\u001b[1m80/80\u001b[0m \u001b[32m━━━━━━━━━━━━━━━━━━━━\u001b[0m\u001b[37m\u001b[0m \u001b[1m0s\u001b[0m 3ms/step - accuracy: 0.7939 - loss: 0.5423 - val_accuracy: 0.8035 - val_loss: 0.5305\n",
      "Epoch 14/50\n",
      "\u001b[1m80/80\u001b[0m \u001b[32m━━━━━━━━━━━━━━━━━━━━\u001b[0m\u001b[37m\u001b[0m \u001b[1m0s\u001b[0m 3ms/step - accuracy: 0.7983 - loss: 0.5335 - val_accuracy: 0.8035 - val_loss: 0.5255\n",
      "Epoch 15/50\n",
      "\u001b[1m80/80\u001b[0m \u001b[32m━━━━━━━━━━━━━━━━━━━━\u001b[0m\u001b[37m\u001b[0m \u001b[1m1s\u001b[0m 6ms/step - accuracy: 0.7940 - loss: 0.5325 - val_accuracy: 0.8035 - val_loss: 0.5210\n",
      "Epoch 16/50\n",
      "\u001b[1m80/80\u001b[0m \u001b[32m━━━━━━━━━━━━━━━━━━━━\u001b[0m\u001b[37m\u001b[0m \u001b[1m0s\u001b[0m 3ms/step - accuracy: 0.8015 - loss: 0.5219 - val_accuracy: 0.8035 - val_loss: 0.5173\n",
      "Epoch 17/50\n",
      "\u001b[1m80/80\u001b[0m \u001b[32m━━━━━━━━━━━━━━━━━━━━\u001b[0m\u001b[37m\u001b[0m \u001b[1m0s\u001b[0m 3ms/step - accuracy: 0.8012 - loss: 0.5185 - val_accuracy: 0.8035 - val_loss: 0.5139\n",
      "Epoch 18/50\n",
      "\u001b[1m80/80\u001b[0m \u001b[32m━━━━━━━━━━━━━━━━━━━━\u001b[0m\u001b[37m\u001b[0m \u001b[1m0s\u001b[0m 3ms/step - accuracy: 0.7883 - loss: 0.5281 - val_accuracy: 0.8035 - val_loss: 0.5112\n",
      "Epoch 19/50\n",
      "\u001b[1m80/80\u001b[0m \u001b[32m━━━━━━━━━━━━━━━━━━━━\u001b[0m\u001b[37m\u001b[0m \u001b[1m0s\u001b[0m 2ms/step - accuracy: 0.7846 - loss: 0.5296 - val_accuracy: 0.8035 - val_loss: 0.5088\n",
      "Epoch 20/50\n",
      "\u001b[1m80/80\u001b[0m \u001b[32m━━━━━━━━━━━━━━━━━━━━\u001b[0m\u001b[37m\u001b[0m \u001b[1m0s\u001b[0m 3ms/step - accuracy: 0.7993 - loss: 0.5126 - val_accuracy: 0.8035 - val_loss: 0.5067\n",
      "Epoch 21/50\n",
      "\u001b[1m80/80\u001b[0m \u001b[32m━━━━━━━━━━━━━━━━━━━━\u001b[0m\u001b[37m\u001b[0m \u001b[1m0s\u001b[0m 3ms/step - accuracy: 0.7871 - loss: 0.5238 - val_accuracy: 0.8035 - val_loss: 0.5050\n",
      "Epoch 22/50\n",
      "\u001b[1m80/80\u001b[0m \u001b[32m━━━━━━━━━━━━━━━━━━━━\u001b[0m\u001b[37m\u001b[0m \u001b[1m0s\u001b[0m 3ms/step - accuracy: 0.8000 - loss: 0.5084 - val_accuracy: 0.8035 - val_loss: 0.5034\n",
      "Epoch 23/50\n",
      "\u001b[1m80/80\u001b[0m \u001b[32m━━━━━━━━━━━━━━━━━━━━\u001b[0m\u001b[37m\u001b[0m \u001b[1m0s\u001b[0m 2ms/step - accuracy: 0.7966 - loss: 0.5109 - val_accuracy: 0.8035 - val_loss: 0.5022\n",
      "Epoch 24/50\n",
      "\u001b[1m80/80\u001b[0m \u001b[32m━━━━━━━━━━━━━━━━━━━━\u001b[0m\u001b[37m\u001b[0m \u001b[1m0s\u001b[0m 3ms/step - accuracy: 0.7919 - loss: 0.5153 - val_accuracy: 0.8035 - val_loss: 0.5012\n",
      "Epoch 25/50\n",
      "\u001b[1m80/80\u001b[0m \u001b[32m━━━━━━━━━━━━━━━━━━━━\u001b[0m\u001b[37m\u001b[0m \u001b[1m0s\u001b[0m 3ms/step - accuracy: 0.7941 - loss: 0.5120 - val_accuracy: 0.8035 - val_loss: 0.5003\n",
      "Epoch 26/50\n",
      "\u001b[1m80/80\u001b[0m \u001b[32m━━━━━━━━━━━━━━━━━━━━\u001b[0m\u001b[37m\u001b[0m \u001b[1m0s\u001b[0m 3ms/step - accuracy: 0.7900 - loss: 0.5162 - val_accuracy: 0.8035 - val_loss: 0.4995\n",
      "Epoch 27/50\n",
      "\u001b[1m80/80\u001b[0m \u001b[32m━━━━━━━━━━━━━━━━━━━━\u001b[0m\u001b[37m\u001b[0m \u001b[1m0s\u001b[0m 2ms/step - accuracy: 0.7878 - loss: 0.5184 - val_accuracy: 0.8035 - val_loss: 0.4989\n",
      "Epoch 28/50\n",
      "\u001b[1m80/80\u001b[0m \u001b[32m━━━━━━━━━━━━━━━━━━━━\u001b[0m\u001b[37m\u001b[0m \u001b[1m0s\u001b[0m 3ms/step - accuracy: 0.7915 - loss: 0.5135 - val_accuracy: 0.8035 - val_loss: 0.4984\n",
      "Epoch 29/50\n",
      "\u001b[1m80/80\u001b[0m \u001b[32m━━━━━━━━━━━━━━━━━━━━\u001b[0m\u001b[37m\u001b[0m \u001b[1m0s\u001b[0m 3ms/step - accuracy: 0.7919 - loss: 0.5127 - val_accuracy: 0.8035 - val_loss: 0.4979\n",
      "Epoch 30/50\n",
      "\u001b[1m80/80\u001b[0m \u001b[32m━━━━━━━━━━━━━━━━━━━━\u001b[0m\u001b[37m\u001b[0m \u001b[1m0s\u001b[0m 3ms/step - accuracy: 0.7958 - loss: 0.5153 - val_accuracy: 0.8035 - val_loss: 0.4976\n",
      "Epoch 31/50\n",
      "\u001b[1m80/80\u001b[0m \u001b[32m━━━━━━━━━━━━━━━━━━━━\u001b[0m\u001b[37m\u001b[0m \u001b[1m0s\u001b[0m 3ms/step - accuracy: 0.7927 - loss: 0.5113 - val_accuracy: 0.8035 - val_loss: 0.4974\n",
      "Epoch 32/50\n",
      "\u001b[1m80/80\u001b[0m \u001b[32m━━━━━━━━━━━━━━━━━━━━\u001b[0m\u001b[37m\u001b[0m \u001b[1m0s\u001b[0m 3ms/step - accuracy: 0.7987 - loss: 0.5035 - val_accuracy: 0.8035 - val_loss: 0.4971\n",
      "Epoch 33/50\n",
      "\u001b[1m80/80\u001b[0m \u001b[32m━━━━━━━━━━━━━━━━━━━━\u001b[0m\u001b[37m\u001b[0m \u001b[1m0s\u001b[0m 3ms/step - accuracy: 0.7945 - loss: 0.5087 - val_accuracy: 0.8035 - val_loss: 0.4970\n",
      "Epoch 34/50\n",
      "\u001b[1m80/80\u001b[0m \u001b[32m━━━━━━━━━━━━━━━━━━━━\u001b[0m\u001b[37m\u001b[0m \u001b[1m0s\u001b[0m 3ms/step - accuracy: 0.7921 - loss: 0.5117 - val_accuracy: 0.8035 - val_loss: 0.4968\n",
      "Epoch 35/50\n",
      "\u001b[1m80/80\u001b[0m \u001b[32m━━━━━━━━━━━━━━━━━━━━\u001b[0m\u001b[37m\u001b[0m \u001b[1m0s\u001b[0m 3ms/step - accuracy: 0.7912 - loss: 0.5128 - val_accuracy: 0.8035 - val_loss: 0.4967\n",
      "Epoch 36/50\n",
      "\u001b[1m80/80\u001b[0m \u001b[32m━━━━━━━━━━━━━━━━━━━━\u001b[0m\u001b[37m\u001b[0m \u001b[1m0s\u001b[0m 3ms/step - accuracy: 0.7930 - loss: 0.5104 - val_accuracy: 0.8035 - val_loss: 0.4965\n",
      "Epoch 37/50\n",
      "\u001b[1m80/80\u001b[0m \u001b[32m━━━━━━━━━━━━━━━━━━━━\u001b[0m\u001b[37m\u001b[0m \u001b[1m0s\u001b[0m 2ms/step - accuracy: 0.7909 - loss: 0.5131 - val_accuracy: 0.8035 - val_loss: 0.4964\n",
      "Epoch 38/50\n",
      "\u001b[1m80/80\u001b[0m \u001b[32m━━━━━━━━━━━━━━━━━━━━\u001b[0m\u001b[37m\u001b[0m \u001b[1m0s\u001b[0m 2ms/step - accuracy: 0.8038 - loss: 0.4961 - val_accuracy: 0.8035 - val_loss: 0.4964\n",
      "Epoch 39/50\n",
      "\u001b[1m80/80\u001b[0m \u001b[32m━━━━━━━━━━━━━━━━━━━━\u001b[0m\u001b[37m\u001b[0m \u001b[1m0s\u001b[0m 2ms/step - accuracy: 0.8020 - loss: 0.4984 - val_accuracy: 0.8035 - val_loss: 0.4963\n",
      "Epoch 40/50\n",
      "\u001b[1m80/80\u001b[0m \u001b[32m━━━━━━━━━━━━━━━━━━━━\u001b[0m\u001b[37m\u001b[0m \u001b[1m0s\u001b[0m 2ms/step - accuracy: 0.7959 - loss: 0.5065 - val_accuracy: 0.8035 - val_loss: 0.4963\n",
      "Epoch 41/50\n",
      "\u001b[1m80/80\u001b[0m \u001b[32m━━━━━━━━━━━━━━━━━━━━\u001b[0m\u001b[37m\u001b[0m \u001b[1m0s\u001b[0m 2ms/step - accuracy: 0.8006 - loss: 0.5001 - val_accuracy: 0.8035 - val_loss: 0.4962\n",
      "Epoch 42/50\n",
      "\u001b[1m80/80\u001b[0m \u001b[32m━━━━━━━━━━━━━━━━━━━━\u001b[0m\u001b[37m\u001b[0m \u001b[1m0s\u001b[0m 2ms/step - accuracy: 0.7962 - loss: 0.5060 - val_accuracy: 0.8035 - val_loss: 0.4962\n",
      "Epoch 43/50\n",
      "\u001b[1m80/80\u001b[0m \u001b[32m━━━━━━━━━━━━━━━━━━━━\u001b[0m\u001b[37m\u001b[0m \u001b[1m0s\u001b[0m 2ms/step - accuracy: 0.7954 - loss: 0.5071 - val_accuracy: 0.8035 - val_loss: 0.4962\n",
      "Epoch 44/50\n",
      "\u001b[1m80/80\u001b[0m \u001b[32m━━━━━━━━━━━━━━━━━━━━\u001b[0m\u001b[37m\u001b[0m \u001b[1m0s\u001b[0m 2ms/step - accuracy: 0.7992 - loss: 0.5020 - val_accuracy: 0.8035 - val_loss: 0.4961\n",
      "Epoch 45/50\n",
      "\u001b[1m80/80\u001b[0m \u001b[32m━━━━━━━━━━━━━━━━━━━━\u001b[0m\u001b[37m\u001b[0m \u001b[1m0s\u001b[0m 2ms/step - accuracy: 0.7838 - loss: 0.5225 - val_accuracy: 0.8035 - val_loss: 0.4960\n",
      "Epoch 46/50\n",
      "\u001b[1m80/80\u001b[0m \u001b[32m━━━━━━━━━━━━━━━━━━━━\u001b[0m\u001b[37m\u001b[0m \u001b[1m0s\u001b[0m 2ms/step - accuracy: 0.7990 - loss: 0.5020 - val_accuracy: 0.8035 - val_loss: 0.4961\n"
     ]
    },
    {
     "data": {
      "text/plain": [
       "<keras.src.callbacks.history.History at 0x185c9ec9850>"
      ]
     },
     "execution_count": 57,
     "metadata": {},
     "output_type": "execute_result"
    }
   ],
   "source": [
    "ann.fit(x_train,y_train,batch_size=100,epochs=50,validation_data=(x_test,y_test),callbacks =EarlyStopping())\n",
    "# batech size depend upon our train size and epoch mean how many time we want to train validation\n",
    "# is used to check the accuracy below in history callbacks early sEarlyStopping stops the model \n",
    "# from where accuracy changes and conot properly trained to model for ex it stops it at 3 epochs"
   ]
  },
  {
   "cell_type": "markdown",
   "id": "d1a6bfbc-a8d6-4552-b03f-694929b43814",
   "metadata": {},
   "source": [
    "# used in overfitting diff from old one "
   ]
  },
  {
   "cell_type": "code",
   "execution_count": 58,
   "id": "95bbc239-4205-4686-901a-db34ed4895ca",
   "metadata": {},
   "outputs": [
    {
     "data": {
      "text/plain": [
       "{'accuracy': [0.7940000295639038,\n",
       "  0.7943750023841858,\n",
       "  0.7944999933242798,\n",
       "  0.7944999933242798,\n",
       "  0.7944999933242798,\n",
       "  0.7944999933242798,\n",
       "  0.7944999933242798,\n",
       "  0.7944999933242798,\n",
       "  0.7944999933242798,\n",
       "  0.7944999933242798,\n",
       "  0.7944999933242798,\n",
       "  0.7944999933242798,\n",
       "  0.7944999933242798,\n",
       "  0.7944999933242798,\n",
       "  0.7944999933242798,\n",
       "  0.7944999933242798,\n",
       "  0.7944999933242798,\n",
       "  0.7944999933242798,\n",
       "  0.7944999933242798,\n",
       "  0.7944999933242798,\n",
       "  0.7944999933242798,\n",
       "  0.7944999933242798,\n",
       "  0.7944999933242798,\n",
       "  0.7944999933242798,\n",
       "  0.7944999933242798,\n",
       "  0.7944999933242798,\n",
       "  0.7944999933242798,\n",
       "  0.7944999933242798,\n",
       "  0.7944999933242798,\n",
       "  0.7943750023841858,\n",
       "  0.7944999933242798,\n",
       "  0.7944999933242798,\n",
       "  0.7944999933242798,\n",
       "  0.7944999933242798,\n",
       "  0.7944999933242798,\n",
       "  0.7944999933242798,\n",
       "  0.7944999933242798,\n",
       "  0.7944999933242798,\n",
       "  0.7944999933242798,\n",
       "  0.7944999933242798,\n",
       "  0.7944999933242798,\n",
       "  0.7944999933242798,\n",
       "  0.7944999933242798,\n",
       "  0.7944999933242798,\n",
       "  0.7944999933242798,\n",
       "  0.7944999933242798],\n",
       " 'loss': [0.7376437783241272,\n",
       "  0.6981444358825684,\n",
       "  0.6697019338607788,\n",
       "  0.645829975605011,\n",
       "  0.6256373524665833,\n",
       "  0.6084915995597839,\n",
       "  0.5938466787338257,\n",
       "  0.581291139125824,\n",
       "  0.5705334544181824,\n",
       "  0.5612844824790955,\n",
       "  0.5533357858657837,\n",
       "  0.5464571118354797,\n",
       "  0.5405439734458923,\n",
       "  0.5354211330413818,\n",
       "  0.5310500860214233,\n",
       "  0.5273380875587463,\n",
       "  0.5241854786872864,\n",
       "  0.5214459896087646,\n",
       "  0.5191347599029541,\n",
       "  0.5171814560890198,\n",
       "  0.5155335664749146,\n",
       "  0.5141743421554565,\n",
       "  0.5130321979522705,\n",
       "  0.512077808380127,\n",
       "  0.5113078355789185,\n",
       "  0.5106711983680725,\n",
       "  0.5101528167724609,\n",
       "  0.5097281336784363,\n",
       "  0.5093845725059509,\n",
       "  0.5158029794692993,\n",
       "  0.5089459419250488,\n",
       "  0.508804976940155,\n",
       "  0.5086766481399536,\n",
       "  0.5085914134979248,\n",
       "  0.5085152387619019,\n",
       "  0.5084542036056519,\n",
       "  0.508412778377533,\n",
       "  0.5083797574043274,\n",
       "  0.5083497166633606,\n",
       "  0.5083200931549072,\n",
       "  0.5083065032958984,\n",
       "  0.5082833766937256,\n",
       "  0.5082646012306213,\n",
       "  0.5082494616508484,\n",
       "  0.5081854462623596,\n",
       "  0.5080487132072449],\n",
       " 'val_accuracy': [0.8034999966621399,\n",
       "  0.8034999966621399,\n",
       "  0.8034999966621399,\n",
       "  0.8034999966621399,\n",
       "  0.8034999966621399,\n",
       "  0.8034999966621399,\n",
       "  0.8034999966621399,\n",
       "  0.8034999966621399,\n",
       "  0.8034999966621399,\n",
       "  0.8034999966621399,\n",
       "  0.8034999966621399,\n",
       "  0.8034999966621399,\n",
       "  0.8034999966621399,\n",
       "  0.8034999966621399,\n",
       "  0.8034999966621399,\n",
       "  0.8034999966621399,\n",
       "  0.8034999966621399,\n",
       "  0.8034999966621399,\n",
       "  0.8034999966621399,\n",
       "  0.8034999966621399,\n",
       "  0.8034999966621399,\n",
       "  0.8034999966621399,\n",
       "  0.8034999966621399,\n",
       "  0.8034999966621399,\n",
       "  0.8034999966621399,\n",
       "  0.8034999966621399,\n",
       "  0.8034999966621399,\n",
       "  0.8034999966621399,\n",
       "  0.8034999966621399,\n",
       "  0.8034999966621399,\n",
       "  0.8034999966621399,\n",
       "  0.8034999966621399,\n",
       "  0.8034999966621399,\n",
       "  0.8034999966621399,\n",
       "  0.8034999966621399,\n",
       "  0.8034999966621399,\n",
       "  0.8034999966621399,\n",
       "  0.8034999966621399,\n",
       "  0.8034999966621399,\n",
       "  0.8034999966621399,\n",
       "  0.8034999966621399,\n",
       "  0.8034999966621399,\n",
       "  0.8034999966621399,\n",
       "  0.8034999966621399,\n",
       "  0.8034999966621399,\n",
       "  0.8034999966621399],\n",
       " 'val_loss': [0.7130922675132751,\n",
       "  0.6814656853675842,\n",
       "  0.6549782156944275,\n",
       "  0.6323810815811157,\n",
       "  0.6132252216339111,\n",
       "  0.5968578457832336,\n",
       "  0.5828089118003845,\n",
       "  0.5706914663314819,\n",
       "  0.5601443648338318,\n",
       "  0.5511727333068848,\n",
       "  0.5432925224304199,\n",
       "  0.5364798903465271,\n",
       "  0.5304701328277588,\n",
       "  0.5254611372947693,\n",
       "  0.5209919214248657,\n",
       "  0.5172684192657471,\n",
       "  0.5139363408088684,\n",
       "  0.5111857056617737,\n",
       "  0.5087520480155945,\n",
       "  0.5066959261894226,\n",
       "  0.5049904584884644,\n",
       "  0.5034329295158386,\n",
       "  0.5021568536758423,\n",
       "  0.5011647939682007,\n",
       "  0.5002976059913635,\n",
       "  0.4995113015174866,\n",
       "  0.4988977015018463,\n",
       "  0.49837061762809753,\n",
       "  0.4979230761528015,\n",
       "  0.4976188540458679,\n",
       "  0.4973510205745697,\n",
       "  0.4970947504043579,\n",
       "  0.49695026874542236,\n",
       "  0.49679991602897644,\n",
       "  0.4966542720794678,\n",
       "  0.4965466260910034,\n",
       "  0.4964459538459778,\n",
       "  0.49638625979423523,\n",
       "  0.49631834030151367,\n",
       "  0.4962797164916992,\n",
       "  0.49621742963790894,\n",
       "  0.4961945712566376,\n",
       "  0.4961593449115753,\n",
       "  0.49613580107688904,\n",
       "  0.4960162043571472,\n",
       "  0.4960809051990509]}"
      ]
     },
     "execution_count": 58,
     "metadata": {},
     "output_type": "execute_result"
    }
   ],
   "source": [
    "ann.history.history # here we find accuracies of testing trainning and loss now we assign \n",
    "#  single to everyone "
   ]
  },
  {
   "cell_type": "code",
   "execution_count": 59,
   "id": "fea73507-95cd-4cf1-99b2-77e5228d90c3",
   "metadata": {},
   "outputs": [],
   "source": [
    "train_accuracy = ann.history.history[\"accuracy\"]\n",
    "test_accuracy = ann.history.history[\"val_accuracy\"] \n",
    "# now we plot a graph in matplotlib "
   ]
  },
  {
   "cell_type": "code",
   "execution_count": 60,
   "id": "dcb68727-c97c-4fa1-9238-2cb12f953627",
   "metadata": {},
   "outputs": [
    {
     "data": {
      "text/plain": [
       "(46, 46)"
      ]
     },
     "execution_count": 60,
     "metadata": {},
     "output_type": "execute_result"
    }
   ],
   "source": [
    "# now we find the length to draw the graph \n",
    "len(train_accuracy),len(test_accuracy)"
   ]
  },
  {
   "cell_type": "code",
   "execution_count": 62,
   "id": "adbbd1b0-0311-47bb-ab78-5aacb3857fee",
   "metadata": {},
   "outputs": [
    {
     "data": {
      "text/plain": [
       "<function matplotlib.pyplot.show(close=None, block=None)>"
      ]
     },
     "execution_count": 62,
     "metadata": {},
     "output_type": "execute_result"
    },
    {
     "data": {
      "image/png": "[encoded data removed]",
      "text/plain": [
       "<Figure size 640x480 with 1 Axes>"
      ]
     },
     "metadata": {},
     "output_type": "display_data"
    }
   ],
   "source": [
    "plt.plot([i for i in range(1,47)],train_accuracy)\n",
    "plt.plot([i for i in range(1,47)],test_accuracy,color = \"red\")\n",
    "plt.show \n",
    "# there is slight differnece between both as shown below in score function "
   ]
  },
  {
   "cell_type": "code",
   "execution_count": null,
   "id": "83783fcd-a2eb-4b84-a1ce-b40e75017bbb",
   "metadata": {},
   "outputs": [],
   "source": []
  },
  {
   "cell_type": "code",
   "execution_count": null,
   "id": "e11c2f20-8be2-4985-8210-8d7480a470a1",
   "metadata": {},
   "outputs": [],
   "source": []
  },
  {
   "cell_type": "code",
   "execution_count": null,
   "id": "15b72330-11c9-470e-bf3d-acee77459fc4",
   "metadata": {},
   "outputs": [],
   "source": []
  },
  {
   "cell_type": "code",
   "execution_count": null,
   "id": "ce4ecdc4-8d71-4d0a-8390-e0d9c911d6cb",
   "metadata": {},
   "outputs": [],
   "source": []
  },
  {
   "cell_type": "markdown",
   "id": "05b50990-67f2-40e9-b7f9-336902cf5841",
   "metadata": {},
   "source": [
    "# old one"
   ]
  },
  {
   "cell_type": "code",
   "execution_count": 63,
   "id": "0eeff77b-1f1e-422f-8d24-adbe82604860",
   "metadata": {},
   "outputs": [
    {
     "name": "stdout",
     "output_type": "stream",
     "text": [
      "\u001b[1m63/63\u001b[0m \u001b[32m━━━━━━━━━━━━━━━━━━━━\u001b[0m\u001b[37m\u001b[0m \u001b[1m0s\u001b[0m 2ms/step\n"
     ]
    },
    {
     "data": {
      "text/plain": [
       "array([[0.20610203],\n",
       "       [0.20610203],\n",
       "       [0.20610203],\n",
       "       ...,\n",
       "       [0.20610203],\n",
       "       [0.20610203],\n",
       "       [0.20610203]], dtype=float32)"
      ]
     },
     "execution_count": 63,
     "metadata": {},
     "output_type": "execute_result"
    }
   ],
   "source": [
    "# created for below \n",
    "yprd = ann.predict(x_test) \n",
    "yprd"
   ]
  },
  {
   "cell_type": "code",
   "execution_count": 64,
   "id": "f2829885-b45f-4333-b4e6-2372715d3297",
   "metadata": {},
   "outputs": [],
   "source": [
    "# now we create a loop bcz we want output in 0 1 so convert less than 0.5 to 0 and other to 1 \n",
    "prd_data = []\n",
    "for i in yprd: \n",
    "    # print(i[0])# it is in list so we use [0] \n",
    "    if i[0] > 0.5: \n",
    "        prd_data.append(1)\n",
    "    else: \n",
    "        prd_data.append(0)"
   ]
  },
  {
   "cell_type": "code",
   "execution_count": 65,
   "id": "e6c445cf-1156-4961-88e6-77da01cd906e",
   "metadata": {},
   "outputs": [],
   "source": [
    "# now we have to check the accuracy of our model it is done through skearn \n",
    "from sklearn.metrics import accuracy_score"
   ]
  },
  {
   "cell_type": "code",
   "execution_count": 66,
   "id": "c204c1d8-2a9f-415a-9c23-9513301c47cc",
   "metadata": {},
   "outputs": [],
   "source": [
    "acs  = accuracy_score(y_test,prd_data)# it need y pred so first we find it above "
   ]
  },
  {
   "cell_type": "code",
   "execution_count": 67,
   "id": "49746d40-d6cf-4d3c-a9a2-da3372005395",
   "metadata": {},
   "outputs": [
    {
     "data": {
      "text/plain": [
       "0.8035"
      ]
     },
     "execution_count": 67,
     "metadata": {},
     "output_type": "execute_result"
    }
   ],
   "source": [
    "acs # accuracy is 80 per now let we check our model is in overfitting or not "
   ]
  },
  {
   "cell_type": "code",
   "execution_count": 68,
   "id": "00e9791b-aa93-4337-94fa-be50c6a80f7c",
   "metadata": {},
   "outputs": [
    {
     "name": "stdout",
     "output_type": "stream",
     "text": [
      "\u001b[1m250/250\u001b[0m \u001b[32m━━━━━━━━━━━━━━━━━━━━\u001b[0m\u001b[37m\u001b[0m \u001b[1m0s\u001b[0m 1ms/step\n"
     ]
    }
   ],
   "source": [
    "# now we create a loop bcz we want output in 0 1 so convert less than 0.5 to 0 and other to 1 \n",
    "yprd1 = ann.predict(x_train) \n",
    "prd_data1 = []\n",
    "for i in yprd1: \n",
    "    # print(i[0])# it is in list so we use [0] \n",
    "    if i[0] > 0.5: \n",
    "        prd_data1.append(1)\n",
    "    else: \n",
    "        prd_data1.append(0)"
   ]
  },
  {
   "cell_type": "code",
   "execution_count": 69,
   "id": "d29e74fb-818e-4d6b-be91-4a0bcb993b3e",
   "metadata": {},
   "outputs": [],
   "source": [
    "acs  = accuracy_score(y_train,prd_data1)"
   ]
  },
  {
   "cell_type": "code",
   "execution_count": 70,
   "id": "6a8e0986-4697-46aa-b044-58b445cb0edc",
   "metadata": {},
   "outputs": [
    {
     "data": {
      "text/plain": [
       "0.7945"
      ]
     },
     "execution_count": 70,
     "metadata": {},
     "output_type": "execute_result"
    }
   ],
   "source": [
    "acs # so it is saved from overfitting "
   ]
  },
  {
   "cell_type": "code",
   "execution_count": null,
   "id": "15490da6-1e06-4b4b-be59-84326d36440b",
   "metadata": {},
   "outputs": [],
   "source": []
  },
  {
   "cell_type": "code",
   "execution_count": null,
   "id": "53415a96-7a37-4b3d-897c-fd32ec1eecc2",
   "metadata": {},
   "outputs": [],
   "source": []
  }
 ],
 "metadata": {
  "kernelspec": {
   "display_name": "Python 3 (ipykernel)",
   "language": "python",
   "name": "python3"
  },
  "language_info": {
   "codemirror_mode": {
    "name": "ipython",
    "version": 3
   },
   "file_extension": ".py",
   "mimetype": "text/x-python",
   "name": "python",
   "nbconvert_exporter": "python",
   "pygments_lexer": "ipython3",
   "version": "3.12.3"
  }
 },
 "nbformat": 4,
 "nbformat_minor": 5
}
