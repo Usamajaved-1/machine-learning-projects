{
 "cells": [
  {
   "cell_type": "code",
   "execution_count": 5,
   "id": "3c976b8b-8c09-4185-8bb2-ea6c7dcbfeac",
   "metadata": {},
   "outputs": [],
   "source": [
    "#hpperameter tunning max data belong to previous file pg76\n",
    "import pandas as pd \n",
    "import numpy as np \n",
    "import matplotlib.pyplot as plt \n",
    "import seaborn as sns "
   ]
  },
  {
   "cell_type": "code",
   "execution_count": 6,
   "id": "1cb930f3-4c66-4b3c-8e1e-cc5c4b6fe92d",
   "metadata": {},
   "outputs": [
    {
     "data": {
      "text/html": [
       "<div>\n",
       "<style scoped>\n",
       "    .dataframe tbody tr th:only-of-type {\n",
       "        vertical-align: middle;\n",
       "    }\n",
       "\n",
       "    .dataframe tbody tr th {\n",
       "        vertical-align: top;\n",
       "    }\n",
       "\n",
       "    .dataframe thead th {\n",
       "        text-align: right;\n",
       "    }\n",
       "</style>\n",
       "<table border=\"1\" class=\"dataframe\">\n",
       "  <thead>\n",
       "    <tr style=\"text-align: right;\">\n",
       "      <th></th>\n",
       "      <th>RowNumber</th>\n",
       "      <th>CustomerId</th>\n",
       "      <th>Surname</th>\n",
       "      <th>CreditScore</th>\n",
       "      <th>Geography</th>\n",
       "      <th>Gender</th>\n",
       "      <th>Age</th>\n",
       "      <th>Tenure</th>\n",
       "      <th>Balance</th>\n",
       "      <th>NumOfProducts</th>\n",
       "      <th>HasCrCard</th>\n",
       "      <th>IsActiveMember</th>\n",
       "      <th>EstimatedSalary</th>\n",
       "      <th>Exited</th>\n",
       "    </tr>\n",
       "  </thead>\n",
       "  <tbody>\n",
       "    <tr>\n",
       "      <th>0</th>\n",
       "      <td>1</td>\n",
       "      <td>15634602</td>\n",
       "      <td>Hargrave</td>\n",
       "      <td>619</td>\n",
       "      <td>France</td>\n",
       "      <td>Female</td>\n",
       "      <td>42</td>\n",
       "      <td>2</td>\n",
       "      <td>0.00</td>\n",
       "      <td>1</td>\n",
       "      <td>1</td>\n",
       "      <td>1</td>\n",
       "      <td>101348.88</td>\n",
       "      <td>1</td>\n",
       "    </tr>\n",
       "    <tr>\n",
       "      <th>1</th>\n",
       "      <td>2</td>\n",
       "      <td>15647311</td>\n",
       "      <td>Hill</td>\n",
       "      <td>608</td>\n",
       "      <td>Spain</td>\n",
       "      <td>Female</td>\n",
       "      <td>41</td>\n",
       "      <td>1</td>\n",
       "      <td>83807.86</td>\n",
       "      <td>1</td>\n",
       "      <td>0</td>\n",
       "      <td>1</td>\n",
       "      <td>112542.58</td>\n",
       "      <td>0</td>\n",
       "    </tr>\n",
       "    <tr>\n",
       "      <th>2</th>\n",
       "      <td>3</td>\n",
       "      <td>15619304</td>\n",
       "      <td>Onio</td>\n",
       "      <td>502</td>\n",
       "      <td>France</td>\n",
       "      <td>Female</td>\n",
       "      <td>42</td>\n",
       "      <td>8</td>\n",
       "      <td>159660.80</td>\n",
       "      <td>3</td>\n",
       "      <td>1</td>\n",
       "      <td>0</td>\n",
       "      <td>113931.57</td>\n",
       "      <td>1</td>\n",
       "    </tr>\n",
       "  </tbody>\n",
       "</table>\n",
       "</div>"
      ],
      "text/plain": [
       "   RowNumber  CustomerId   Surname  CreditScore Geography  Gender  Age  \\\n",
       "0          1    15634602  Hargrave          619    France  Female   42   \n",
       "1          2    15647311      Hill          608     Spain  Female   41   \n",
       "2          3    15619304      Onio          502    France  Female   42   \n",
       "\n",
       "   Tenure    Balance  NumOfProducts  HasCrCard  IsActiveMember  \\\n",
       "0       2       0.00              1          1               1   \n",
       "1       1   83807.86              1          0               1   \n",
       "2       8  159660.80              3          1               0   \n",
       "\n",
       "   EstimatedSalary  Exited  \n",
       "0        101348.88       1  \n",
       "1        112542.58       0  \n",
       "2        113931.57       1  "
      ]
     },
     "execution_count": 6,
     "metadata": {},
     "output_type": "execute_result"
    }
   ],
   "source": [
    "data = pd.read_csv(\"Churn_Modelling.csv\")\n",
    "data.head(3)"
   ]
  },
  {
   "cell_type": "code",
   "execution_count": 7,
   "id": "894800dc-eefb-4c98-ba44-1be66e38d4b0",
   "metadata": {},
   "outputs": [],
   "source": [
    " data.drop(columns=[\"RowNumber\",\"CustomerId\",\"Surname\",\"Geography\",\"Gender\"],inplace = True)\n",
    "# adjust it according to wscubetech "
   ]
  },
  {
   "cell_type": "code",
   "execution_count": 8,
   "id": "c9655e2c-2f03-48a3-8cd7-9b2e5aa8c682",
   "metadata": {},
   "outputs": [],
   "source": [
    "input_data = data.iloc[:,:-1]\n",
    "output_data = data.iloc[:,-1]"
   ]
  },
  {
   "cell_type": "code",
   "execution_count": 9,
   "id": "8856a5aa-e278-4d0d-b13a-83e089855d39",
   "metadata": {},
   "outputs": [],
   "source": [
    "from sklearn.preprocessing import StandardScaler\n",
    "# we have to scale every data we sue in deep learning "
   ]
  },
  {
   "cell_type": "code",
   "execution_count": 10,
   "id": "0d4a0871-7efd-46e8-948b-ddbc53a34cbd",
   "metadata": {},
   "outputs": [
    {
     "data": {
      "text/plain": [
       "array([[-0.32622142,  0.29351742, -1.04175968, ...,  0.64609167,\n",
       "         0.97024255,  0.02188649],\n",
       "       [-0.44003595,  0.19816383, -1.38753759, ..., -1.54776799,\n",
       "         0.97024255,  0.21653375],\n",
       "       [-1.53679418,  0.29351742,  1.03290776, ...,  0.64609167,\n",
       "        -1.03067011,  0.2406869 ],\n",
       "       ...,\n",
       "       [ 0.60498839, -0.27860412,  0.68712986, ..., -1.54776799,\n",
       "         0.97024255, -1.00864308],\n",
       "       [ 1.25683526,  0.29351742, -0.69598177, ...,  0.64609167,\n",
       "        -1.03067011, -0.12523071],\n",
       "       [ 1.46377078, -1.04143285, -0.35020386, ...,  0.64609167,\n",
       "        -1.03067011, -1.07636976]])"
      ]
     },
     "execution_count": 10,
     "metadata": {},
     "output_type": "execute_result"
    }
   ],
   "source": [
    "ss = StandardScaler()\n",
    "ss.fit_transform(input_data)"
   ]
  },
  {
   "cell_type": "code",
   "execution_count": 11,
   "id": "fb70de71-cce3-495b-9266-a0801d1aee31",
   "metadata": {},
   "outputs": [],
   "source": [
    "input_data1 = pd.DataFrame(ss.fit_transform(input_data),columns=input_data.columns)"
   ]
  },
  {
   "cell_type": "code",
   "execution_count": 12,
   "id": "49fd2b80-0919-4d1a-a768-8384061cd583",
   "metadata": {},
   "outputs": [],
   "source": [
    "from sklearn.model_selection import train_test_split"
   ]
  },
  {
   "cell_type": "code",
   "execution_count": 13,
   "id": "165b100e-376e-47a9-a43a-a5deeccd28cb",
   "metadata": {},
   "outputs": [],
   "source": [
    "x_train,x_test,y_train,y_test = train_test_split(input_data,output_data,test_size=0.2,random_state=42)"
   ]
  },
  {
   "cell_type": "code",
   "execution_count": 14,
   "id": "20f7b94a-2ad0-4b52-8ebc-445221d100a3",
   "metadata": {},
   "outputs": [],
   "source": [
    "# now we create a artificial neural network \n",
    "import tensorflow\n",
    "from keras.layers import Dense,BatchNormalization,Dropout #explain in reg \n",
    "from keras.models import Sequential\n",
    "from keras.callbacks import EarlyStopping # new one \n",
    "# these helps in on creating ann \n",
    "from keras.regularizers import l2"
   ]
  },
  {
   "cell_type": "code",
   "execution_count": 84,
   "id": "a08f0f74-675c-4a9b-ac61-c9f059a18604",
   "metadata": {},
   "outputs": [
    {
     "name": "stderr",
     "output_type": "stream",
     "text": [
      "C:\\Users\\R c\\AppData\\Local\\Programs\\Python\\Python312\\Lib\\site-packages\\keras\\src\\layers\\core\\dense.py:87: UserWarning: Do not pass an `input_shape`/`input_dim` argument to a layer. When using Sequential models, prefer using an `Input(shape)` object as the first layer in the model instead.\n",
      "  super().__init__(activity_regularizer=activity_regularizer, **kwargs)\n"
     ]
    }
   ],
   "source": [
    "ann = Sequential()\n",
    "ann.add(Dense(6,input_dim = 8,activation=\"relu\",kernel_regularizer=l2(l2=0.01))) #new one kernel\n",
    "# regulizer used to improve the accuracy expliain in achine learning topic \n",
    "# ann.add(Dense(5,activation=\"relu\",kernel_regularizer=l2(l2=0.01)))\n",
    "ann.add(Dense(4,activation=\"relu\",kernel_regularizer=l2(l2=0.01)))\n",
    "# ann.add(Dense(3,activation=\"relu\",kernel_regularizer=l2(l2=0.01)))\n",
    "ann.add(Dense(2,activation=\"relu\",kernel_regularizer=l2(l2=0.01)))\n",
    "ann.add(Dense(1,activation=\"sigmoid\"))\n",
    "# these all our hidden layer 1,2,3,4 "
   ]
  },
  {
   "cell_type": "markdown",
   "id": "4c6ac848-4d94-4356-88fa-8b571ec39781",
   "metadata": {},
   "source": [
    "# point to improve accuracy by hyperparameter_tunning"
   ]
  },
  {
   "cell_type": "raw",
   "id": "dd5d1488-8b96-4f48-837b-6ae44b987aeb",
   "metadata": {},
   "source": [
    "in hyperparameter_tunning 1st poin is increase hidden layers after increase it output is \n",
    "# 80.35, 0.7945 old\n",
    "# 0.7945,80.35 after increasing layers accuracy \n",
    "# train,test\n",
    "2nd point is no of nodes mean the sequence 6,5,4,3,2,1 \n",
    "3rd point batch size we use it in below cells it works as a gradient decent it is of 3 types batch gradient decent mean complete 8000 rows give to him \n",
    "chocastic gradient decent (batch size=1) slow process but accurate\n",
    "mini batch gradient decent (mixture of both above ) batch size=100 divide 8000 into parts 100 mean every batch is of 80 (80*100)=8000\n",
    "no of epochs : improve model performance but if give to much results overfitting to save your self from it use early stopping technique with it \n",
    "optimizer : by changing it we can increase mdel accuracy "
   ]
  },
  {
   "cell_type": "raw",
   "id": "8aa744fa-9818-4f25-a38e-2c09bb40892f",
   "metadata": {},
   "source": [
    "# we can increase and decrease the hidden layer but ideally we have to make hidden layer pattern  in a pyramid structure  mean in decreasing order likw 6,4,2,1 above \n",
    "change from old one : we increase the num of hidden layer new order is 6,5,4,3,2"
   ]
  },
  {
   "cell_type": "code",
   "execution_count": 85,
   "id": "0cd67cbe-26ae-4c61-a009-7b5e8b79baad",
   "metadata": {},
   "outputs": [],
   "source": [
    "# now ann network is complete and we compile it \n",
    "ann.compile(optimizer=\"adam\",loss=\"binary_crossentropy\",metrics=[\"accuracy\"])\n",
    "# optimizer best is adam as register loss also explain "
   ]
  },
  {
   "cell_type": "code",
   "execution_count": 86,
   "id": "c2d75b5d-f944-41bf-b4bd-1847282121b4",
   "metadata": {},
   "outputs": [
    {
     "name": "stdout",
     "output_type": "stream",
     "text": [
      "Epoch 1/50\n",
      "\u001b[1m80/80\u001b[0m \u001b[32m━━━━━━━━━━━━━━━━━━━━\u001b[0m\u001b[37m\u001b[0m \u001b[1m3s\u001b[0m 4ms/step - accuracy: 0.7928 - loss: 4073.9419 - val_accuracy: 0.8040 - val_loss: 1335.5857\n",
      "Epoch 2/50\n",
      "\u001b[1m80/80\u001b[0m \u001b[32m━━━━━━━━━━━━━━━━━━━━\u001b[0m\u001b[37m\u001b[0m \u001b[1m0s\u001b[0m 2ms/step - accuracy: 0.7961 - loss: 954.9854 - val_accuracy: 0.8005 - val_loss: 257.5438\n",
      "Epoch 3/50\n",
      "\u001b[1m80/80\u001b[0m \u001b[32m━━━━━━━━━━━━━━━━━━━━\u001b[0m\u001b[37m\u001b[0m \u001b[1m0s\u001b[0m 2ms/step - accuracy: 0.7565 - loss: 191.1915 - val_accuracy: 0.6190 - val_loss: 65.3336\n",
      "Epoch 4/50\n",
      "\u001b[1m80/80\u001b[0m \u001b[32m━━━━━━━━━━━━━━━━━━━━\u001b[0m\u001b[37m\u001b[0m \u001b[1m0s\u001b[0m 2ms/step - accuracy: 0.5105 - loss: 43.1995 - val_accuracy: 0.3305 - val_loss: 19.2153\n",
      "Epoch 5/50\n",
      "\u001b[1m80/80\u001b[0m \u001b[32m━━━━━━━━━━━━━━━━━━━━\u001b[0m\u001b[37m\u001b[0m \u001b[1m0s\u001b[0m 2ms/step - accuracy: 0.3086 - loss: 11.0762 - val_accuracy: 0.1965 - val_loss: 0.7928\n",
      "Epoch 6/50\n",
      "\u001b[1m80/80\u001b[0m \u001b[32m━━━━━━━━━━━━━━━━━━━━\u001b[0m\u001b[37m\u001b[0m \u001b[1m0s\u001b[0m 2ms/step - accuracy: 0.3120 - loss: 0.7823 - val_accuracy: 0.8035 - val_loss: 0.7547\n",
      "Epoch 7/50\n",
      "\u001b[1m80/80\u001b[0m \u001b[32m━━━━━━━━━━━━━━━━━━━━\u001b[0m\u001b[37m\u001b[0m \u001b[1m0s\u001b[0m 3ms/step - accuracy: 0.7884 - loss: 0.7480 - val_accuracy: 0.8035 - val_loss: 0.7248\n",
      "Epoch 8/50\n",
      "\u001b[1m80/80\u001b[0m \u001b[32m━━━━━━━━━━━━━━━━━━━━\u001b[0m\u001b[37m\u001b[0m \u001b[1m0s\u001b[0m 2ms/step - accuracy: 0.8005 - loss: 0.7188 - val_accuracy: 0.8035 - val_loss: 0.7000\n",
      "Epoch 9/50\n",
      "\u001b[1m80/80\u001b[0m \u001b[32m━━━━━━━━━━━━━━━━━━━━\u001b[0m\u001b[37m\u001b[0m \u001b[1m0s\u001b[0m 3ms/step - accuracy: 0.7940 - loss: 0.6968 - val_accuracy: 0.8035 - val_loss: 0.6791\n",
      "Epoch 10/50\n",
      "\u001b[1m80/80\u001b[0m \u001b[32m━━━━━━━━━━━━━━━━━━━━\u001b[0m\u001b[37m\u001b[0m \u001b[1m0s\u001b[0m 2ms/step - accuracy: 0.7972 - loss: 0.6764 - val_accuracy: 0.8035 - val_loss: 0.6610\n",
      "Epoch 11/50\n",
      "\u001b[1m80/80\u001b[0m \u001b[32m━━━━━━━━━━━━━━━━━━━━\u001b[0m\u001b[37m\u001b[0m \u001b[1m0s\u001b[0m 2ms/step - accuracy: 0.7950 - loss: 0.6605 - val_accuracy: 0.8035 - val_loss: 0.6457\n",
      "Epoch 12/50\n",
      "\u001b[1m80/80\u001b[0m \u001b[32m━━━━━━━━━━━━━━━━━━━━\u001b[0m\u001b[37m\u001b[0m \u001b[1m0s\u001b[0m 2ms/step - accuracy: 0.7888 - loss: 0.6490 - val_accuracy: 0.8035 - val_loss: 0.6322\n",
      "Epoch 13/50\n",
      "\u001b[1m80/80\u001b[0m \u001b[32m━━━━━━━━━━━━━━━━━━━━\u001b[0m\u001b[37m\u001b[0m \u001b[1m0s\u001b[0m 2ms/step - accuracy: 0.7935 - loss: 0.6344 - val_accuracy: 0.8035 - val_loss: 0.6204\n",
      "Epoch 14/50\n",
      "\u001b[1m80/80\u001b[0m \u001b[32m━━━━━━━━━━━━━━━━━━━━\u001b[0m\u001b[37m\u001b[0m \u001b[1m0s\u001b[0m 2ms/step - accuracy: 0.7990 - loss: 0.6204 - val_accuracy: 0.8035 - val_loss: 0.6102\n",
      "Epoch 15/50\n",
      "\u001b[1m80/80\u001b[0m \u001b[32m━━━━━━━━━━━━━━━━━━━━\u001b[0m\u001b[37m\u001b[0m \u001b[1m0s\u001b[0m 2ms/step - accuracy: 0.7920 - loss: 0.6154 - val_accuracy: 0.8035 - val_loss: 0.6013\n",
      "Epoch 16/50\n",
      "\u001b[1m80/80\u001b[0m \u001b[32m━━━━━━━━━━━━━━━━━━━━\u001b[0m\u001b[37m\u001b[0m \u001b[1m0s\u001b[0m 2ms/step - accuracy: 0.7959 - loss: 0.6047 - val_accuracy: 0.8035 - val_loss: 0.5936\n",
      "Epoch 17/50\n",
      "\u001b[1m80/80\u001b[0m \u001b[32m━━━━━━━━━━━━━━━━━━━━\u001b[0m\u001b[37m\u001b[0m \u001b[1m0s\u001b[0m 2ms/step - accuracy: 0.7982 - loss: 0.5957 - val_accuracy: 0.8035 - val_loss: 0.5866\n",
      "Epoch 18/50\n",
      "\u001b[1m80/80\u001b[0m \u001b[32m━━━━━━━━━━━━━━━━━━━━\u001b[0m\u001b[37m\u001b[0m \u001b[1m0s\u001b[0m 2ms/step - accuracy: 0.7935 - loss: 0.5930 - val_accuracy: 0.8035 - val_loss: 0.5807\n",
      "Epoch 19/50\n",
      "\u001b[1m80/80\u001b[0m \u001b[32m━━━━━━━━━━━━━━━━━━━━\u001b[0m\u001b[37m\u001b[0m \u001b[1m0s\u001b[0m 2ms/step - accuracy: 0.7953 - loss: 0.5862 - val_accuracy: 0.8035 - val_loss: 0.5754\n",
      "Epoch 20/50\n",
      "\u001b[1m80/80\u001b[0m \u001b[32m━━━━━━━━━━━━━━━━━━━━\u001b[0m\u001b[37m\u001b[0m \u001b[1m0s\u001b[0m 2ms/step - accuracy: 0.7940 - loss: 0.5826 - val_accuracy: 0.8035 - val_loss: 0.5710\n",
      "Epoch 21/50\n",
      "\u001b[1m80/80\u001b[0m \u001b[32m━━━━━━━━━━━━━━━━━━━━\u001b[0m\u001b[37m\u001b[0m \u001b[1m0s\u001b[0m 2ms/step - accuracy: 0.7950 - loss: 0.5778 - val_accuracy: 0.8035 - val_loss: 0.5670\n",
      "Epoch 22/50\n",
      "\u001b[1m80/80\u001b[0m \u001b[32m━━━━━━━━━━━━━━━━━━━━\u001b[0m\u001b[37m\u001b[0m \u001b[1m0s\u001b[0m 2ms/step - accuracy: 0.7955 - loss: 0.5737 - val_accuracy: 0.8035 - val_loss: 0.5635\n",
      "Epoch 23/50\n",
      "\u001b[1m80/80\u001b[0m \u001b[32m━━━━━━━━━━━━━━━━━━━━\u001b[0m\u001b[37m\u001b[0m \u001b[1m0s\u001b[0m 2ms/step - accuracy: 0.7902 - loss: 0.5759 - val_accuracy: 0.8035 - val_loss: 0.5606\n",
      "Epoch 24/50\n",
      "\u001b[1m80/80\u001b[0m \u001b[32m━━━━━━━━━━━━━━━━━━━━\u001b[0m\u001b[37m\u001b[0m \u001b[1m0s\u001b[0m 2ms/step - accuracy: 0.7981 - loss: 0.5654 - val_accuracy: 0.8035 - val_loss: 0.5579\n",
      "Epoch 25/50\n",
      "\u001b[1m80/80\u001b[0m \u001b[32m━━━━━━━━━━━━━━━━━━━━\u001b[0m\u001b[37m\u001b[0m \u001b[1m0s\u001b[0m 2ms/step - accuracy: 0.7973 - loss: 0.5639 - val_accuracy: 0.8035 - val_loss: 0.5556\n",
      "Epoch 26/50\n",
      "\u001b[1m80/80\u001b[0m \u001b[32m━━━━━━━━━━━━━━━━━━━━\u001b[0m\u001b[37m\u001b[0m \u001b[1m0s\u001b[0m 2ms/step - accuracy: 0.7927 - loss: 0.5667 - val_accuracy: 0.8035 - val_loss: 0.5536\n",
      "Epoch 27/50\n",
      "\u001b[1m80/80\u001b[0m \u001b[32m━━━━━━━━━━━━━━━━━━━━\u001b[0m\u001b[37m\u001b[0m \u001b[1m0s\u001b[0m 2ms/step - accuracy: 0.7968 - loss: 0.5606 - val_accuracy: 0.8035 - val_loss: 0.5519\n",
      "Epoch 28/50\n",
      "\u001b[1m80/80\u001b[0m \u001b[32m━━━━━━━━━━━━━━━━━━━━\u001b[0m\u001b[37m\u001b[0m \u001b[1m0s\u001b[0m 2ms/step - accuracy: 0.7989 - loss: 0.5567 - val_accuracy: 0.8035 - val_loss: 0.5504\n",
      "Epoch 29/50\n",
      "\u001b[1m80/80\u001b[0m \u001b[32m━━━━━━━━━━━━━━━━━━━━\u001b[0m\u001b[37m\u001b[0m \u001b[1m0s\u001b[0m 2ms/step - accuracy: 0.7940 - loss: 0.5610 - val_accuracy: 0.8035 - val_loss: 0.5491\n",
      "Epoch 30/50\n",
      "\u001b[1m80/80\u001b[0m \u001b[32m━━━━━━━━━━━━━━━━━━━━\u001b[0m\u001b[37m\u001b[0m \u001b[1m0s\u001b[0m 2ms/step - accuracy: 0.7915 - loss: 0.5628 - val_accuracy: 0.8035 - val_loss: 0.5480\n",
      "Epoch 31/50\n",
      "\u001b[1m80/80\u001b[0m \u001b[32m━━━━━━━━━━━━━━━━━━━━\u001b[0m\u001b[37m\u001b[0m \u001b[1m0s\u001b[0m 2ms/step - accuracy: 0.7913 - loss: 0.5622 - val_accuracy: 0.8035 - val_loss: 0.5470\n",
      "Epoch 32/50\n",
      "\u001b[1m80/80\u001b[0m \u001b[32m━━━━━━━━━━━━━━━━━━━━\u001b[0m\u001b[37m\u001b[0m \u001b[1m0s\u001b[0m 2ms/step - accuracy: 0.7984 - loss: 0.5530 - val_accuracy: 0.8035 - val_loss: 0.5461\n",
      "Epoch 33/50\n",
      "\u001b[1m80/80\u001b[0m \u001b[32m━━━━━━━━━━━━━━━━━━━━\u001b[0m\u001b[37m\u001b[0m \u001b[1m0s\u001b[0m 2ms/step - accuracy: 0.7928 - loss: 0.5590 - val_accuracy: 0.8035 - val_loss: 0.5453\n",
      "Epoch 34/50\n",
      "\u001b[1m80/80\u001b[0m \u001b[32m━━━━━━━━━━━━━━━━━━━━\u001b[0m\u001b[37m\u001b[0m \u001b[1m0s\u001b[0m 2ms/step - accuracy: 0.7908 - loss: 0.5609 - val_accuracy: 0.8035 - val_loss: 0.5446\n",
      "Epoch 35/50\n",
      "\u001b[1m80/80\u001b[0m \u001b[32m━━━━━━━━━━━━━━━━━━━━\u001b[0m\u001b[37m\u001b[0m \u001b[1m0s\u001b[0m 2ms/step - accuracy: 0.7899 - loss: 0.5615 - val_accuracy: 0.8035 - val_loss: 0.5440\n",
      "Epoch 36/50\n",
      "\u001b[1m80/80\u001b[0m \u001b[32m━━━━━━━━━━━━━━━━━━━━\u001b[0m\u001b[37m\u001b[0m \u001b[1m0s\u001b[0m 2ms/step - accuracy: 0.7958 - loss: 0.5536 - val_accuracy: 0.8035 - val_loss: 0.5434\n",
      "Epoch 37/50\n",
      "\u001b[1m80/80\u001b[0m \u001b[32m━━━━━━━━━━━━━━━━━━━━\u001b[0m\u001b[37m\u001b[0m \u001b[1m0s\u001b[0m 2ms/step - accuracy: 0.8020 - loss: 0.5453 - val_accuracy: 0.8035 - val_loss: 0.5430\n",
      "Epoch 38/50\n",
      "\u001b[1m80/80\u001b[0m \u001b[32m━━━━━━━━━━━━━━━━━━━━\u001b[0m\u001b[37m\u001b[0m \u001b[1m0s\u001b[0m 2ms/step - accuracy: 0.7947 - loss: 0.5542 - val_accuracy: 0.8035 - val_loss: 0.5425\n",
      "Epoch 39/50\n",
      "\u001b[1m80/80\u001b[0m \u001b[32m━━━━━━━━━━━━━━━━━━━━\u001b[0m\u001b[37m\u001b[0m \u001b[1m0s\u001b[0m 2ms/step - accuracy: 0.7916 - loss: 0.5578 - val_accuracy: 0.8035 - val_loss: 0.5421\n",
      "Epoch 40/50\n",
      "\u001b[1m80/80\u001b[0m \u001b[32m━━━━━━━━━━━━━━━━━━━━\u001b[0m\u001b[37m\u001b[0m \u001b[1m0s\u001b[0m 2ms/step - accuracy: 0.7947 - loss: 0.5535 - val_accuracy: 0.8035 - val_loss: 0.5418\n",
      "Epoch 41/50\n",
      "\u001b[1m80/80\u001b[0m \u001b[32m━━━━━━━━━━━━━━━━━━━━\u001b[0m\u001b[37m\u001b[0m \u001b[1m0s\u001b[0m 2ms/step - accuracy: 0.7968 - loss: 0.5504 - val_accuracy: 0.8035 - val_loss: 0.5414\n",
      "Epoch 42/50\n",
      "\u001b[1m80/80\u001b[0m \u001b[32m━━━━━━━━━━━━━━━━━━━━\u001b[0m\u001b[37m\u001b[0m \u001b[1m0s\u001b[0m 2ms/step - accuracy: 0.8001 - loss: 0.5458 - val_accuracy: 0.8035 - val_loss: 0.5411\n",
      "Epoch 43/50\n",
      "\u001b[1m80/80\u001b[0m \u001b[32m━━━━━━━━━━━━━━━━━━━━\u001b[0m\u001b[37m\u001b[0m \u001b[1m0s\u001b[0m 2ms/step - accuracy: 0.7934 - loss: 0.5543 - val_accuracy: 0.8035 - val_loss: 0.5408\n",
      "Epoch 44/50\n",
      "\u001b[1m80/80\u001b[0m \u001b[32m━━━━━━━━━━━━━━━━━━━━\u001b[0m\u001b[37m\u001b[0m \u001b[1m0s\u001b[0m 2ms/step - accuracy: 0.7891 - loss: 0.5598 - val_accuracy: 0.8035 - val_loss: 0.5405\n",
      "Epoch 45/50\n",
      "\u001b[1m80/80\u001b[0m \u001b[32m━━━━━━━━━━━━━━━━━━━━\u001b[0m\u001b[37m\u001b[0m \u001b[1m0s\u001b[0m 2ms/step - accuracy: 0.8087 - loss: 0.5335 - val_accuracy: 0.8035 - val_loss: 0.5402\n",
      "Epoch 46/50\n",
      "\u001b[1m80/80\u001b[0m \u001b[32m━━━━━━━━━━━━━━━━━━━━\u001b[0m\u001b[37m\u001b[0m \u001b[1m0s\u001b[0m 2ms/step - accuracy: 0.8036 - loss: 0.5400 - val_accuracy: 0.8035 - val_loss: 0.5399\n",
      "Epoch 47/50\n",
      "\u001b[1m80/80\u001b[0m \u001b[32m━━━━━━━━━━━━━━━━━━━━\u001b[0m\u001b[37m\u001b[0m \u001b[1m0s\u001b[0m 2ms/step - accuracy: 0.7947 - loss: 0.5517 - val_accuracy: 0.8035 - val_loss: 0.5397\n",
      "Epoch 48/50\n",
      "\u001b[1m80/80\u001b[0m \u001b[32m━━━━━━━━━━━━━━━━━━━━\u001b[0m\u001b[37m\u001b[0m \u001b[1m0s\u001b[0m 2ms/step - accuracy: 0.8068 - loss: 0.5353 - val_accuracy: 0.8035 - val_loss: 0.5395\n",
      "Epoch 49/50\n",
      "\u001b[1m80/80\u001b[0m \u001b[32m━━━━━━━━━━━━━━━━━━━━\u001b[0m\u001b[37m\u001b[0m \u001b[1m0s\u001b[0m 2ms/step - accuracy: 0.7837 - loss: 0.5660 - val_accuracy: 0.8035 - val_loss: 0.5392\n",
      "Epoch 50/50\n",
      "\u001b[1m80/80\u001b[0m \u001b[32m━━━━━━━━━━━━━━━━━━━━\u001b[0m\u001b[37m\u001b[0m \u001b[1m0s\u001b[0m 2ms/step - accuracy: 0.7948 - loss: 0.5508 - val_accuracy: 0.8035 - val_loss: 0.5390\n"
     ]
    },
    {
     "data": {
      "text/plain": [
       "<keras.src.callbacks.history.History at 0x1500b7f43b0>"
      ]
     },
     "execution_count": 86,
     "metadata": {},
     "output_type": "execute_result"
    }
   ],
   "source": [
    "ann.fit(x_train,y_train,batch_size=100,epochs=50,validation_data=(x_test,y_test),callbacks =EarlyStopping())\n",
    "# batech size depend upon our train size and epoch mean how many time we want to train validation\n",
    "# is used to check the accuracy below in history callbacks early sEarlyStopping stops the model \n",
    "# from where accuracy changes and conot properly trained to model for ex it stops it at 3 epochs"
   ]
  },
  {
   "cell_type": "code",
   "execution_count": 1,
   "id": "952230b3-4840-486f-96d2-1c52c631f423",
   "metadata": {},
   "outputs": [],
   "source": [
    "ann.history.history # here we find accuracies of testing trainning and loss now we assign \n",
    "#  single to everyone "
   ]
  },
  {
   "cell_type": "code",
   "execution_count": 88,
   "id": "0066dbeb-f2b1-4bc0-addc-572cd99e6f09",
   "metadata": {},
   "outputs": [],
   "source": [
    "train_accuracy = ann.history.history[\"accuracy\"]\n",
    "test_accuracy = ann.history.history[\"val_accuracy\"] \n",
    "# now we plot a graph in matplotlib "
   ]
  },
  {
   "cell_type": "code",
   "execution_count": 89,
   "id": "1f2e4881-c9bf-4b7f-9ef2-5e69cc52f061",
   "metadata": {},
   "outputs": [
    {
     "name": "stdout",
     "output_type": "stream",
     "text": [
      "\u001b[1m63/63\u001b[0m \u001b[32m━━━━━━━━━━━━━━━━━━━━\u001b[0m\u001b[37m\u001b[0m \u001b[1m0s\u001b[0m 2ms/step\n"
     ]
    },
    {
     "data": {
      "text/plain": [
       "array([[0.2065145],\n",
       "       [0.2065145],\n",
       "       [0.2065145],\n",
       "       ...,\n",
       "       [0.2065145],\n",
       "       [0.2065145],\n",
       "       [0.2065145]], dtype=float32)"
      ]
     },
     "execution_count": 89,
     "metadata": {},
     "output_type": "execute_result"
    }
   ],
   "source": [
    "# created for below \n",
    "yprd = ann.predict(x_test) \n",
    "yprd"
   ]
  },
  {
   "cell_type": "code",
   "execution_count": 90,
   "id": "19acd561-f712-4b77-9926-040086fdf50f",
   "metadata": {},
   "outputs": [],
   "source": [
    "# now we create a loop bcz we want output in 0 1 so convert less than 0.5 to 0 and other to 1 \n",
    "prd_data = []\n",
    "for i in yprd: \n",
    "    # print(i[0])# it is in list so we use [0] \n",
    "    if i[0] > 0.5: \n",
    "        prd_data.append(1)\n",
    "    else: \n",
    "        prd_data.append(0)"
   ]
  },
  {
   "cell_type": "code",
   "execution_count": 91,
   "id": "02b1cae9-400d-4d02-ad1d-287448211a59",
   "metadata": {},
   "outputs": [],
   "source": [
    "# now we have to check the accuracy of our model it is done through skearn \n",
    "from sklearn.metrics import accuracy_score"
   ]
  },
  {
   "cell_type": "code",
   "execution_count": 92,
   "id": "bacb4a89-16ee-46d3-abc6-be1638e99344",
   "metadata": {},
   "outputs": [],
   "source": [
    "acs1  = accuracy_score(y_test,prd_data)# it need y pred so first we find it above "
   ]
  },
  {
   "cell_type": "code",
   "execution_count": 93,
   "id": "6ac41dc5-17a5-4e46-b7b8-dcbecf18d8ce",
   "metadata": {},
   "outputs": [
    {
     "data": {
      "text/plain": [
       "80.35"
      ]
     },
     "execution_count": 93,
     "metadata": {},
     "output_type": "execute_result"
    }
   ],
   "source": [
    "acs1*100 # accuracy is 80 per now let we check our model is in overfitting or not "
   ]
  },
  {
   "cell_type": "code",
   "execution_count": 94,
   "id": "3e04c943-8f46-4506-8d07-738001060111",
   "metadata": {},
   "outputs": [
    {
     "name": "stdout",
     "output_type": "stream",
     "text": [
      "\u001b[1m250/250\u001b[0m \u001b[32m━━━━━━━━━━━━━━━━━━━━\u001b[0m\u001b[37m\u001b[0m \u001b[1m0s\u001b[0m 1ms/step\n"
     ]
    }
   ],
   "source": [
    "# now we create a loop bcz we want output in 0 1 so convert less than 0.5 to 0 and other to 1 \n",
    "yprd1 = ann.predict(x_train) \n",
    "prd_data1 = []\n",
    "for i in yprd1: \n",
    "    # print(i[0])# it is in list so we use [0] \n",
    "    if i[0] > 0.5: \n",
    "        prd_data1.append(1)\n",
    "    else: \n",
    "        prd_data1.append(0)"
   ]
  },
  {
   "cell_type": "code",
   "execution_count": 95,
   "id": "ed0b22b9-3711-4c4e-b790-d74ae9769bd6",
   "metadata": {},
   "outputs": [],
   "source": [
    "acs  = accuracy_score(y_train,prd_data1)"
   ]
  },
  {
   "cell_type": "code",
   "execution_count": 96,
   "id": "d0d0ccad-491c-45e1-a116-ac07786ef8b8",
   "metadata": {},
   "outputs": [
    {
     "data": {
      "text/plain": [
       "0.7945"
      ]
     },
     "execution_count": 96,
     "metadata": {},
     "output_type": "execute_result"
    }
   ],
   "source": [
    "acs # so it is saved from overfitting "
   ]
  },
  {
   "cell_type": "code",
   "execution_count": 97,
   "id": "208b6fef-6411-44c2-8f25-f8da67de8ee1",
   "metadata": {},
   "outputs": [],
   "source": [
    "# 80.0,0.793375 new"
   ]
  },
  {
   "cell_type": "code",
   "execution_count": 98,
   "id": "f4771975-c0d3-4e41-b9af-ffb2cc624135",
   "metadata": {},
   "outputs": [],
   "source": [
    "# 80.35, 0.7945 old\n",
    "# 0.7945,80.35 after increasing layers accuracy \n",
    "# train,test"
   ]
  },
  {
   "cell_type": "code",
   "execution_count": null,
   "id": "12a6169d-e121-4031-8beb-acd374709474",
   "metadata": {},
   "outputs": [],
   "source": []
  },
  {
   "cell_type": "code",
   "execution_count": null,
   "id": "5c32386a-a8e3-4304-90d5-1d0f43fe8a80",
   "metadata": {},
   "outputs": [],
   "source": []
  },
  {
   "cell_type": "code",
   "execution_count": null,
   "id": "44affa33-a25e-4509-a216-3acee05bd50c",
   "metadata": {},
   "outputs": [],
   "source": []
  },
  {
   "cell_type": "code",
   "execution_count": null,
   "id": "97020868-2c76-4f01-9650-8754f0d6d71a",
   "metadata": {},
   "outputs": [],
   "source": []
  }
 ],
 "metadata": {
  "kernelspec": {
   "display_name": "Python 3 (ipykernel)",
   "language": "python",
   "name": "python3"
  },
  "language_info": {
   "codemirror_mode": {
    "name": "ipython",
    "version": 3
   },
   "file_extension": ".py",
   "mimetype": "text/x-python",
   "name": "python",
   "nbconvert_exporter": "python",
   "pygments_lexer": "ipython3",
   "version": "3.12.3"
  }
 },
 "nbformat": 4,
 "nbformat_minor": 5
}
