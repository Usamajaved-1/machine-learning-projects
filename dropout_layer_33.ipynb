{
 "cells": [
  {
   "cell_type": "code",
   "execution_count": 8,
   "id": "bbf21788-507a-42df-bda6-1eea12f1d6d2",
   "metadata": {},
   "outputs": [],
   "source": [
    "# this batch normalization tech also used to increase the score remove the varnish dradient dex=cent problen \n",
    "import pandas as pd \n",
    "import numpy as np \n",
    "import matplotlib.pyplot as plt \n",
    "import seaborn as sns "
   ]
  },
  {
   "cell_type": "code",
   "execution_count": 9,
   "id": "3f900316-7575-437c-ba74-3e4c51ebf8ec",
   "metadata": {},
   "outputs": [
    {
     "data": {
      "text/html": [
       "<div>\n",
       "<style scoped>\n",
       "    .dataframe tbody tr th:only-of-type {\n",
       "        vertical-align: middle;\n",
       "    }\n",
       "\n",
       "    .dataframe tbody tr th {\n",
       "        vertical-align: top;\n",
       "    }\n",
       "\n",
       "    .dataframe thead th {\n",
       "        text-align: right;\n",
       "    }\n",
       "</style>\n",
       "<table border=\"1\" class=\"dataframe\">\n",
       "  <thead>\n",
       "    <tr style=\"text-align: right;\">\n",
       "      <th></th>\n",
       "      <th>RowNumber</th>\n",
       "      <th>CustomerId</th>\n",
       "      <th>Surname</th>\n",
       "      <th>CreditScore</th>\n",
       "      <th>Geography</th>\n",
       "      <th>Gender</th>\n",
       "      <th>Age</th>\n",
       "      <th>Tenure</th>\n",
       "      <th>Balance</th>\n",
       "      <th>NumOfProducts</th>\n",
       "      <th>HasCrCard</th>\n",
       "      <th>IsActiveMember</th>\n",
       "      <th>EstimatedSalary</th>\n",
       "      <th>Exited</th>\n",
       "    </tr>\n",
       "  </thead>\n",
       "  <tbody>\n",
       "    <tr>\n",
       "      <th>0</th>\n",
       "      <td>1</td>\n",
       "      <td>15634602</td>\n",
       "      <td>Hargrave</td>\n",
       "      <td>619</td>\n",
       "      <td>France</td>\n",
       "      <td>Female</td>\n",
       "      <td>42</td>\n",
       "      <td>2</td>\n",
       "      <td>0.00</td>\n",
       "      <td>1</td>\n",
       "      <td>1</td>\n",
       "      <td>1</td>\n",
       "      <td>101348.88</td>\n",
       "      <td>1</td>\n",
       "    </tr>\n",
       "    <tr>\n",
       "      <th>1</th>\n",
       "      <td>2</td>\n",
       "      <td>15647311</td>\n",
       "      <td>Hill</td>\n",
       "      <td>608</td>\n",
       "      <td>Spain</td>\n",
       "      <td>Female</td>\n",
       "      <td>41</td>\n",
       "      <td>1</td>\n",
       "      <td>83807.86</td>\n",
       "      <td>1</td>\n",
       "      <td>0</td>\n",
       "      <td>1</td>\n",
       "      <td>112542.58</td>\n",
       "      <td>0</td>\n",
       "    </tr>\n",
       "    <tr>\n",
       "      <th>2</th>\n",
       "      <td>3</td>\n",
       "      <td>15619304</td>\n",
       "      <td>Onio</td>\n",
       "      <td>502</td>\n",
       "      <td>France</td>\n",
       "      <td>Female</td>\n",
       "      <td>42</td>\n",
       "      <td>8</td>\n",
       "      <td>159660.80</td>\n",
       "      <td>3</td>\n",
       "      <td>1</td>\n",
       "      <td>0</td>\n",
       "      <td>113931.57</td>\n",
       "      <td>1</td>\n",
       "    </tr>\n",
       "  </tbody>\n",
       "</table>\n",
       "</div>"
      ],
      "text/plain": [
       "   RowNumber  CustomerId   Surname  CreditScore Geography  Gender  Age  \\\n",
       "0          1    15634602  Hargrave          619    France  Female   42   \n",
       "1          2    15647311      Hill          608     Spain  Female   41   \n",
       "2          3    15619304      Onio          502    France  Female   42   \n",
       "\n",
       "   Tenure    Balance  NumOfProducts  HasCrCard  IsActiveMember  \\\n",
       "0       2       0.00              1          1               1   \n",
       "1       1   83807.86              1          0               1   \n",
       "2       8  159660.80              3          1               0   \n",
       "\n",
       "   EstimatedSalary  Exited  \n",
       "0        101348.88       1  \n",
       "1        112542.58       0  \n",
       "2        113931.57       1  "
      ]
     },
     "execution_count": 9,
     "metadata": {},
     "output_type": "execute_result"
    }
   ],
   "source": [
    "data = pd.read_csv(\"Churn_Modelling.csv\")\n",
    "data.head(3)"
   ]
  },
  {
   "cell_type": "code",
   "execution_count": 10,
   "id": "da9755fb-5775-4b4d-b616-74b8c3629f74",
   "metadata": {},
   "outputs": [],
   "source": [
    " data.drop(columns=[\"RowNumber\",\"CustomerId\",\"Surname\",\"Geography\",\"Gender\"],inplace = True)\n",
    "# adjust it according to wscubetech "
   ]
  },
  {
   "cell_type": "code",
   "execution_count": 11,
   "id": "1c39bf13-0360-4543-b6ed-94d1c277646c",
   "metadata": {},
   "outputs": [],
   "source": [
    "input_data = data.iloc[:,:-1]\n",
    "output_data = data.iloc[:,-1]"
   ]
  },
  {
   "cell_type": "code",
   "execution_count": 12,
   "id": "04cab309-31f1-4e8a-a90f-24ea4954fda0",
   "metadata": {},
   "outputs": [],
   "source": [
    "from sklearn.preprocessing import StandardScaler\n",
    "# we have to scale every data we sue in deep learning "
   ]
  },
  {
   "cell_type": "code",
   "execution_count": 13,
   "id": "9ff95c60-13ea-4f43-95c6-c11a18c1c5dc",
   "metadata": {},
   "outputs": [
    {
     "data": {
      "text/plain": [
       "array([[-0.32622142,  0.29351742, -1.04175968, ...,  0.64609167,\n",
       "         0.97024255,  0.02188649],\n",
       "       [-0.44003595,  0.19816383, -1.38753759, ..., -1.54776799,\n",
       "         0.97024255,  0.21653375],\n",
       "       [-1.53679418,  0.29351742,  1.03290776, ...,  0.64609167,\n",
       "        -1.03067011,  0.2406869 ],\n",
       "       ...,\n",
       "       [ 0.60498839, -0.27860412,  0.68712986, ..., -1.54776799,\n",
       "         0.97024255, -1.00864308],\n",
       "       [ 1.25683526,  0.29351742, -0.69598177, ...,  0.64609167,\n",
       "        -1.03067011, -0.12523071],\n",
       "       [ 1.46377078, -1.04143285, -0.35020386, ...,  0.64609167,\n",
       "        -1.03067011, -1.07636976]])"
      ]
     },
     "execution_count": 13,
     "metadata": {},
     "output_type": "execute_result"
    }
   ],
   "source": [
    "ss = StandardScaler()\n",
    "ss.fit_transform(input_data)"
   ]
  },
  {
   "cell_type": "code",
   "execution_count": 14,
   "id": "c2f8f4cb-5170-4792-a0a2-d287f1b0322a",
   "metadata": {},
   "outputs": [],
   "source": [
    "input_data1 = pd.DataFrame(ss.fit_transform(input_data),columns=input_data.columns)"
   ]
  },
  {
   "cell_type": "code",
   "execution_count": 15,
   "id": "0a7ce871-1dcf-48ac-9741-8af898796d19",
   "metadata": {},
   "outputs": [],
   "source": [
    "from sklearn.model_selection import train_test_split"
   ]
  },
  {
   "cell_type": "code",
   "execution_count": 16,
   "id": "4f88cd8c-959e-4c80-907d-565f47f0ef60",
   "metadata": {},
   "outputs": [],
   "source": [
    "x_train,x_test,y_train,y_test = train_test_split(input_data,output_data,test_size=0.2,random_state=42)"
   ]
  },
  {
   "cell_type": "code",
   "execution_count": 70,
   "id": "b70cdf15-5925-4273-b108-69a524cc0a0e",
   "metadata": {},
   "outputs": [],
   "source": [
    "# now we create a artificial neural network \n",
    "import tensorflow\n",
    "from keras.layers import Dense,BatchNormalization,Dropout #explain in reg \n",
    "from keras.models import Sequential\n",
    "from keras.callbacks import EarlyStopping # new one \n",
    "# these helps in on creating ann \n",
    "from keras.regularizers import l2"
   ]
  },
  {
   "cell_type": "code",
   "execution_count": 72,
   "id": "c0fec813-80be-4d81-8bde-ec5d3718e833",
   "metadata": {},
   "outputs": [
    {
     "name": "stderr",
     "output_type": "stream",
     "text": [
      "C:\\Users\\R c\\AppData\\Local\\Programs\\Python\\Python312\\Lib\\site-packages\\keras\\src\\layers\\core\\dense.py:87: UserWarning: Do not pass an `input_shape`/`input_dim` argument to a layer. When using Sequential models, prefer using an `Input(shape)` object as the first layer in the model instead.\n",
      "  super().__init__(activity_regularizer=activity_regularizer, **kwargs)\n"
     ]
    }
   ],
   "source": [
    "ann = Sequential()\n",
    "ann.add(Dense(6,input_dim = 8,activation=\"relu\",kernel_regularizer=l2(l2=0.01))) #new one kernel\n",
    "# regulizer used to improve the accuracy expliain in achine learning topic \n",
    "ann.add(BatchNormalization())# it removes the varnish gradient problem and also improve accuracy\n",
    "ann.add(Dense(4,activation=\"relu\"))\n",
    "ann.add(Dropout(0.3))# it is explain in register \n",
    "ann.add(Dense(2,activation=\"relu\"))\n",
    "ann.add(Dropout(0.3))# donot use this in output mean last one layer bcz data is in 0,1\n",
    "ann.add(Dense(1,activation=\"sigmoid\"))\n",
    "# these all our hidden layer 1,2,3,4 "
   ]
  },
  {
   "cell_type": "code",
   "execution_count": 73,
   "id": "7c1a3f03-8b5b-4bb4-b64d-194a686c6268",
   "metadata": {},
   "outputs": [],
   "source": [
    "# now ann network is complete and we compile it \n",
    "ann.compile(optimizer=\"adam\",loss=\"binary_crossentropy\",metrics=[\"accuracy\"])\n",
    "# optimizer best is adam as register loss also explain "
   ]
  },
  {
   "cell_type": "code",
   "execution_count": 74,
   "id": "6586b411-a10a-42f5-8fd2-efc92727e5a2",
   "metadata": {},
   "outputs": [
    {
     "name": "stdout",
     "output_type": "stream",
     "text": [
      "Epoch 1/10\n",
      "\u001b[1m80/80\u001b[0m \u001b[32m━━━━━━━━━━━━━━━━━━━━\u001b[0m\u001b[37m\u001b[0m \u001b[1m3s\u001b[0m 5ms/step - accuracy: 0.7228 - loss: 0.7418 - val_accuracy: 0.8035 - val_loss: 0.7040\n",
      "Epoch 2/10\n",
      "\u001b[1m80/80\u001b[0m \u001b[32m━━━━━━━━━━━━━━━━━━━━\u001b[0m\u001b[37m\u001b[0m \u001b[1m0s\u001b[0m 2ms/step - accuracy: 0.7833 - loss: 0.6975 - val_accuracy: 0.8035 - val_loss: 0.6714\n",
      "Epoch 3/10\n",
      "\u001b[1m80/80\u001b[0m \u001b[32m━━━━━━━━━━━━━━━━━━━━\u001b[0m\u001b[37m\u001b[0m \u001b[1m0s\u001b[0m 2ms/step - accuracy: 0.7914 - loss: 0.6664 - val_accuracy: 0.8035 - val_loss: 0.6446\n",
      "Epoch 4/10\n",
      "\u001b[1m80/80\u001b[0m \u001b[32m━━━━━━━━━━━━━━━━━━━━\u001b[0m\u001b[37m\u001b[0m \u001b[1m0s\u001b[0m 3ms/step - accuracy: 0.7901 - loss: 0.6420 - val_accuracy: 0.8035 - val_loss: 0.6226\n",
      "Epoch 5/10\n",
      "\u001b[1m80/80\u001b[0m \u001b[32m━━━━━━━━━━━━━━━━━━━━\u001b[0m\u001b[37m\u001b[0m \u001b[1m0s\u001b[0m 2ms/step - accuracy: 0.7963 - loss: 0.6200 - val_accuracy: 0.8035 - val_loss: 0.6043\n",
      "Epoch 6/10\n",
      "\u001b[1m80/80\u001b[0m \u001b[32m━━━━━━━━━━━━━━━━━━━━\u001b[0m\u001b[37m\u001b[0m \u001b[1m0s\u001b[0m 2ms/step - accuracy: 0.7979 - loss: 0.6024 - val_accuracy: 0.8035 - val_loss: 0.5890\n",
      "Epoch 7/10\n",
      "\u001b[1m80/80\u001b[0m \u001b[32m━━━━━━━━━━━━━━━━━━━━\u001b[0m\u001b[37m\u001b[0m \u001b[1m0s\u001b[0m 2ms/step - accuracy: 0.7896 - loss: 0.5917 - val_accuracy: 0.8035 - val_loss: 0.5759\n",
      "Epoch 8/10\n",
      "\u001b[1m80/80\u001b[0m \u001b[32m━━━━━━━━━━━━━━━━━━━━\u001b[0m\u001b[37m\u001b[0m \u001b[1m0s\u001b[0m 3ms/step - accuracy: 0.8014 - loss: 0.5741 - val_accuracy: 0.8035 - val_loss: 0.5648\n",
      "Epoch 9/10\n",
      "\u001b[1m80/80\u001b[0m \u001b[32m━━━━━━━━━━━━━━━━━━━━\u001b[0m\u001b[37m\u001b[0m \u001b[1m0s\u001b[0m 2ms/step - accuracy: 0.7996 - loss: 0.5644 - val_accuracy: 0.8035 - val_loss: 0.5550\n",
      "Epoch 10/10\n",
      "\u001b[1m80/80\u001b[0m \u001b[32m━━━━━━━━━━━━━━━━━━━━\u001b[0m\u001b[37m\u001b[0m \u001b[1m0s\u001b[0m 2ms/step - accuracy: 0.7930 - loss: 0.5594 - val_accuracy: 0.8035 - val_loss: 0.5466\n"
     ]
    },
    {
     "data": {
      "text/plain": [
       "<keras.src.callbacks.history.History at 0x15f53015e80>"
      ]
     },
     "execution_count": 74,
     "metadata": {},
     "output_type": "execute_result"
    }
   ],
   "source": [
    "ann.fit(x_train,y_train,batch_size=100,epochs=10,validation_data=(x_test,y_test),callbacks =EarlyStopping())\n",
    "# batech size depend upon our train size and epoch mean how many time we want to train validation\n",
    "# is used to check the accuracy below in history callbacks early sEarlyStopping stops the model \n",
    "# from where accuracy changes and conot properly trained to model for ex it stops it at 3 epochs"
   ]
  },
  {
   "cell_type": "code",
   "execution_count": 75,
   "id": "0f42778e-b191-4264-896a-0c501f2fd261",
   "metadata": {},
   "outputs": [
    {
     "data": {
      "text/plain": [
       "{'accuracy': [0.750124990940094,\n",
       "  0.7919999957084656,\n",
       "  0.7944999933242798,\n",
       "  0.7944999933242798,\n",
       "  0.7944999933242798,\n",
       "  0.7944999933242798,\n",
       "  0.7944999933242798,\n",
       "  0.7944999933242798,\n",
       "  0.7944999933242798,\n",
       "  0.7944999933242798],\n",
       " 'loss': [0.7290583252906799,\n",
       "  0.6887534260749817,\n",
       "  0.6595171689987183,\n",
       "  0.6358269453048706,\n",
       "  0.616327702999115,\n",
       "  0.6001214981079102,\n",
       "  0.586475133895874,\n",
       "  0.5749103426933289,\n",
       "  0.5650328993797302,\n",
       "  0.5565128326416016],\n",
       " 'val_accuracy': [0.8034999966621399,\n",
       "  0.8034999966621399,\n",
       "  0.8034999966621399,\n",
       "  0.8034999966621399,\n",
       "  0.8034999966621399,\n",
       "  0.8034999966621399,\n",
       "  0.8034999966621399,\n",
       "  0.8034999966621399,\n",
       "  0.8034999966621399,\n",
       "  0.8034999966621399],\n",
       " 'val_loss': [0.7040088772773743,\n",
       "  0.6713899374008179,\n",
       "  0.6446439027786255,\n",
       "  0.6226030588150024,\n",
       "  0.6042717695236206,\n",
       "  0.5889502167701721,\n",
       "  0.5759499073028564,\n",
       "  0.564784049987793,\n",
       "  0.5550291538238525,\n",
       "  0.5466406941413879]}"
      ]
     },
     "execution_count": 75,
     "metadata": {},
     "output_type": "execute_result"
    }
   ],
   "source": [
    "ann.history.history # here we find accuracies of testing trainning and loss now we assign \n",
    "#  single to everyone "
   ]
  },
  {
   "cell_type": "code",
   "execution_count": 76,
   "id": "2084b7c4-3837-49d0-93ba-6980b7e5fd79",
   "metadata": {},
   "outputs": [],
   "source": [
    "train_accuracy = ann.history.history[\"accuracy\"]\n",
    "test_accuracy = ann.history.history[\"val_accuracy\"] \n",
    "# now we plot a graph in matplotlib "
   ]
  },
  {
   "cell_type": "code",
   "execution_count": 77,
   "id": "7dc8947b-aa68-42ac-9923-f237d5add016",
   "metadata": {},
   "outputs": [
    {
     "name": "stdout",
     "output_type": "stream",
     "text": [
      "\u001b[1m63/63\u001b[0m \u001b[32m━━━━━━━━━━━━━━━━━━━━\u001b[0m\u001b[37m\u001b[0m \u001b[1m0s\u001b[0m 3ms/step\n"
     ]
    },
    {
     "data": {
      "text/plain": [
       "array([[0.34076458],\n",
       "       [0.34076458],\n",
       "       [0.34076458],\n",
       "       ...,\n",
       "       [0.34076458],\n",
       "       [0.34076458],\n",
       "       [0.34076458]], dtype=float32)"
      ]
     },
     "execution_count": 77,
     "metadata": {},
     "output_type": "execute_result"
    }
   ],
   "source": [
    "# created for below \n",
    "yprd = ann.predict(x_test) \n",
    "yprd"
   ]
  },
  {
   "cell_type": "code",
   "execution_count": 78,
   "id": "67387c3d-5c7e-43a1-b2f8-c84bacea6354",
   "metadata": {},
   "outputs": [],
   "source": [
    "# now we create a loop bcz we want output in 0 1 so convert less than 0.5 to 0 and other to 1 \n",
    "prd_data = []\n",
    "for i in yprd: \n",
    "    # print(i[0])# it is in list so we use [0] \n",
    "    if i[0] > 0.5: \n",
    "        prd_data.append(1)\n",
    "    else: \n",
    "        prd_data.append(0)"
   ]
  },
  {
   "cell_type": "code",
   "execution_count": 79,
   "id": "c730f9ce-91d4-4251-9986-6bbbe58041a0",
   "metadata": {},
   "outputs": [],
   "source": [
    "# now we have to check the accuracy of our model it is done through skearn \n",
    "from sklearn.metrics import accuracy_score"
   ]
  },
  {
   "cell_type": "code",
   "execution_count": 80,
   "id": "adda2d6e-67d4-4ff3-a03a-2b2b45c545ed",
   "metadata": {},
   "outputs": [],
   "source": [
    "acs1  = accuracy_score(y_test,prd_data)# it need y pred so first we find it above "
   ]
  },
  {
   "cell_type": "code",
   "execution_count": 81,
   "id": "fe677389-bb7c-40bb-8cca-eaa0edfdf0c8",
   "metadata": {},
   "outputs": [
    {
     "data": {
      "text/plain": [
       "0.8035"
      ]
     },
     "execution_count": 81,
     "metadata": {},
     "output_type": "execute_result"
    }
   ],
   "source": [
    "acs1 # accuracy is 80 per now let we check our model is in overfitting or not "
   ]
  },
  {
   "cell_type": "code",
   "execution_count": 82,
   "id": "04b5493a-1f35-4cc2-be7b-4de527a7fb74",
   "metadata": {},
   "outputs": [
    {
     "name": "stdout",
     "output_type": "stream",
     "text": [
      "\u001b[1m250/250\u001b[0m \u001b[32m━━━━━━━━━━━━━━━━━━━━\u001b[0m\u001b[37m\u001b[0m \u001b[1m0s\u001b[0m 1ms/step\n"
     ]
    }
   ],
   "source": [
    "# now we create a loop bcz we want output in 0 1 so convert less than 0.5 to 0 and other to 1 \n",
    "yprd1 = ann.predict(x_train) \n",
    "prd_data1 = []\n",
    "for i in yprd1: \n",
    "    # print(i[0])# it is in list so we use [0] \n",
    "    if i[0] > 0.5: \n",
    "        prd_data1.append(1)\n",
    "    else: \n",
    "        prd_data1.append(0)"
   ]
  },
  {
   "cell_type": "code",
   "execution_count": 83,
   "id": "5940ecac-dd53-4288-9213-8dc0a3831a14",
   "metadata": {},
   "outputs": [],
   "source": [
    "acs  = accuracy_score(y_train,prd_data1)"
   ]
  },
  {
   "cell_type": "code",
   "execution_count": 84,
   "id": "93b7252b-8b9f-4563-94b0-6771b9d606d1",
   "metadata": {},
   "outputs": [
    {
     "data": {
      "text/plain": [
       "0.7945"
      ]
     },
     "execution_count": 84,
     "metadata": {},
     "output_type": "execute_result"
    }
   ],
   "source": [
    "acs # so it is saved from overfitting "
   ]
  },
  {
   "cell_type": "code",
   "execution_count": null,
   "id": "f61bc0da-576c-41fc-b1a0-12eca2fb8def",
   "metadata": {},
   "outputs": [],
   "source": [
    "# if overfitting increase the dropout(p) value if underfitting decrease it if you want to apply first start with last layer if beneficial then use with other too "
   ]
  },
  {
   "cell_type": "code",
   "execution_count": null,
   "id": "64fc8b58-d136-4bb2-a638-1582273597cf",
   "metadata": {},
   "outputs": [],
   "source": []
  },
  {
   "cell_type": "code",
   "execution_count": null,
   "id": "25d51868-1874-4244-8856-70c03d48a307",
   "metadata": {},
   "outputs": [],
   "source": []
  }
 ],
 "metadata": {
  "kernelspec": {
   "display_name": "Python 3 (ipykernel)",
   "language": "python",
   "name": "python3"
  },
  "language_info": {
   "codemirror_mode": {
    "name": "ipython",
    "version": 3
   },
   "file_extension": ".py",
   "mimetype": "text/x-python",
   "name": "python",
   "nbconvert_exporter": "python",
   "pygments_lexer": "ipython3",
   "version": "3.12.3"
  }
 },
 "nbformat": 4,
 "nbformat_minor": 5
}
