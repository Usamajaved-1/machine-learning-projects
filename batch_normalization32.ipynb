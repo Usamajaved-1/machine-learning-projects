{
 "cells": [
  {
   "cell_type": "code",
   "execution_count": 23,
   "id": "dc42e33b-cc56-429f-9af3-689c3a4ded24",
   "metadata": {},
   "outputs": [],
   "source": [
    "# this batch normalization tech also used to increase the score remove the varnish dradient dex=cent problen \n",
    "import pandas as pd \n",
    "import numpy as np \n",
    "import matplotlib.pyplot as plt \n",
    "import seaborn as sns "
   ]
  },
  {
   "cell_type": "code",
   "execution_count": 24,
   "id": "bd7d5346-a9d7-4673-83c0-390a8bc45f9e",
   "metadata": {},
   "outputs": [
    {
     "data": {
      "text/html": [
       "<div>\n",
       "<style scoped>\n",
       "    .dataframe tbody tr th:only-of-type {\n",
       "        vertical-align: middle;\n",
       "    }\n",
       "\n",
       "    .dataframe tbody tr th {\n",
       "        vertical-align: top;\n",
       "    }\n",
       "\n",
       "    .dataframe thead th {\n",
       "        text-align: right;\n",
       "    }\n",
       "</style>\n",
       "<table border=\"1\" class=\"dataframe\">\n",
       "  <thead>\n",
       "    <tr style=\"text-align: right;\">\n",
       "      <th></th>\n",
       "      <th>RowNumber</th>\n",
       "      <th>CustomerId</th>\n",
       "      <th>Surname</th>\n",
       "      <th>CreditScore</th>\n",
       "      <th>Geography</th>\n",
       "      <th>Gender</th>\n",
       "      <th>Age</th>\n",
       "      <th>Tenure</th>\n",
       "      <th>Balance</th>\n",
       "      <th>NumOfProducts</th>\n",
       "      <th>HasCrCard</th>\n",
       "      <th>IsActiveMember</th>\n",
       "      <th>EstimatedSalary</th>\n",
       "      <th>Exited</th>\n",
       "    </tr>\n",
       "  </thead>\n",
       "  <tbody>\n",
       "    <tr>\n",
       "      <th>0</th>\n",
       "      <td>1</td>\n",
       "      <td>15634602</td>\n",
       "      <td>Hargrave</td>\n",
       "      <td>619</td>\n",
       "      <td>France</td>\n",
       "      <td>Female</td>\n",
       "      <td>42</td>\n",
       "      <td>2</td>\n",
       "      <td>0.00</td>\n",
       "      <td>1</td>\n",
       "      <td>1</td>\n",
       "      <td>1</td>\n",
       "      <td>101348.88</td>\n",
       "      <td>1</td>\n",
       "    </tr>\n",
       "    <tr>\n",
       "      <th>1</th>\n",
       "      <td>2</td>\n",
       "      <td>15647311</td>\n",
       "      <td>Hill</td>\n",
       "      <td>608</td>\n",
       "      <td>Spain</td>\n",
       "      <td>Female</td>\n",
       "      <td>41</td>\n",
       "      <td>1</td>\n",
       "      <td>83807.86</td>\n",
       "      <td>1</td>\n",
       "      <td>0</td>\n",
       "      <td>1</td>\n",
       "      <td>112542.58</td>\n",
       "      <td>0</td>\n",
       "    </tr>\n",
       "    <tr>\n",
       "      <th>2</th>\n",
       "      <td>3</td>\n",
       "      <td>15619304</td>\n",
       "      <td>Onio</td>\n",
       "      <td>502</td>\n",
       "      <td>France</td>\n",
       "      <td>Female</td>\n",
       "      <td>42</td>\n",
       "      <td>8</td>\n",
       "      <td>159660.80</td>\n",
       "      <td>3</td>\n",
       "      <td>1</td>\n",
       "      <td>0</td>\n",
       "      <td>113931.57</td>\n",
       "      <td>1</td>\n",
       "    </tr>\n",
       "  </tbody>\n",
       "</table>\n",
       "</div>"
      ],
      "text/plain": [
       "   RowNumber  CustomerId   Surname  CreditScore Geography  Gender  Age  \\\n",
       "0          1    15634602  Hargrave          619    France  Female   42   \n",
       "1          2    15647311      Hill          608     Spain  Female   41   \n",
       "2          3    15619304      Onio          502    France  Female   42   \n",
       "\n",
       "   Tenure    Balance  NumOfProducts  HasCrCard  IsActiveMember  \\\n",
       "0       2       0.00              1          1               1   \n",
       "1       1   83807.86              1          0               1   \n",
       "2       8  159660.80              3          1               0   \n",
       "\n",
       "   EstimatedSalary  Exited  \n",
       "0        101348.88       1  \n",
       "1        112542.58       0  \n",
       "2        113931.57       1  "
      ]
     },
     "execution_count": 24,
     "metadata": {},
     "output_type": "execute_result"
    }
   ],
   "source": [
    "data = pd.read_csv(\"Churn_Modelling.csv\")\n",
    "data.head(3)"
   ]
  },
  {
   "cell_type": "code",
   "execution_count": 25,
   "id": "1f4f0614-e7bf-40eb-8710-ded4a36a5010",
   "metadata": {},
   "outputs": [],
   "source": [
    " data.drop(columns=[\"RowNumber\",\"CustomerId\",\"Surname\",\"Geography\",\"Gender\"],inplace = True)\n",
    "# adjust it according to wscubetech "
   ]
  },
  {
   "cell_type": "code",
   "execution_count": 26,
   "id": "d677bfa4-9e57-44cd-8964-0087a8b61a2e",
   "metadata": {},
   "outputs": [
    {
     "data": {
      "text/html": [
       "<div>\n",
       "<style scoped>\n",
       "    .dataframe tbody tr th:only-of-type {\n",
       "        vertical-align: middle;\n",
       "    }\n",
       "\n",
       "    .dataframe tbody tr th {\n",
       "        vertical-align: top;\n",
       "    }\n",
       "\n",
       "    .dataframe thead th {\n",
       "        text-align: right;\n",
       "    }\n",
       "</style>\n",
       "<table border=\"1\" class=\"dataframe\">\n",
       "  <thead>\n",
       "    <tr style=\"text-align: right;\">\n",
       "      <th></th>\n",
       "      <th>CreditScore</th>\n",
       "      <th>Age</th>\n",
       "      <th>Tenure</th>\n",
       "      <th>Balance</th>\n",
       "      <th>NumOfProducts</th>\n",
       "      <th>HasCrCard</th>\n",
       "      <th>IsActiveMember</th>\n",
       "      <th>EstimatedSalary</th>\n",
       "      <th>Exited</th>\n",
       "    </tr>\n",
       "  </thead>\n",
       "  <tbody>\n",
       "    <tr>\n",
       "      <th>0</th>\n",
       "      <td>619</td>\n",
       "      <td>42</td>\n",
       "      <td>2</td>\n",
       "      <td>0.00</td>\n",
       "      <td>1</td>\n",
       "      <td>1</td>\n",
       "      <td>1</td>\n",
       "      <td>101348.88</td>\n",
       "      <td>1</td>\n",
       "    </tr>\n",
       "    <tr>\n",
       "      <th>1</th>\n",
       "      <td>608</td>\n",
       "      <td>41</td>\n",
       "      <td>1</td>\n",
       "      <td>83807.86</td>\n",
       "      <td>1</td>\n",
       "      <td>0</td>\n",
       "      <td>1</td>\n",
       "      <td>112542.58</td>\n",
       "      <td>0</td>\n",
       "    </tr>\n",
       "    <tr>\n",
       "      <th>2</th>\n",
       "      <td>502</td>\n",
       "      <td>42</td>\n",
       "      <td>8</td>\n",
       "      <td>159660.80</td>\n",
       "      <td>3</td>\n",
       "      <td>1</td>\n",
       "      <td>0</td>\n",
       "      <td>113931.57</td>\n",
       "      <td>1</td>\n",
       "    </tr>\n",
       "  </tbody>\n",
       "</table>\n",
       "</div>"
      ],
      "text/plain": [
       "   CreditScore  Age  Tenure    Balance  NumOfProducts  HasCrCard  \\\n",
       "0          619   42       2       0.00              1          1   \n",
       "1          608   41       1   83807.86              1          0   \n",
       "2          502   42       8  159660.80              3          1   \n",
       "\n",
       "   IsActiveMember  EstimatedSalary  Exited  \n",
       "0               1        101348.88       1  \n",
       "1               1        112542.58       0  \n",
       "2               0        113931.57       1  "
      ]
     },
     "execution_count": 26,
     "metadata": {},
     "output_type": "execute_result"
    }
   ],
   "source": [
    "data.head(3)"
   ]
  },
  {
   "cell_type": "code",
   "execution_count": 27,
   "id": "38505c52-4105-47cf-bfd6-a4654dd58bdf",
   "metadata": {},
   "outputs": [
    {
     "data": {
      "text/plain": [
       "CreditScore        0\n",
       "Age                0\n",
       "Tenure             0\n",
       "Balance            0\n",
       "NumOfProducts      0\n",
       "HasCrCard          0\n",
       "IsActiveMember     0\n",
       "EstimatedSalary    0\n",
       "Exited             0\n",
       "dtype: int64"
      ]
     },
     "execution_count": 27,
     "metadata": {},
     "output_type": "execute_result"
    }
   ],
   "source": [
    "data.isnull().sum()"
   ]
  },
  {
   "cell_type": "code",
   "execution_count": 28,
   "id": "97a2b237-f869-4feb-bf0c-acac79bd7a59",
   "metadata": {},
   "outputs": [],
   "source": [
    "input_data = data.iloc[:,:-1]\n",
    "output_data = data.iloc[:,-1]"
   ]
  },
  {
   "cell_type": "code",
   "execution_count": 29,
   "id": "558269fd-b608-43a0-9cfb-b2f3d4c3c553",
   "metadata": {},
   "outputs": [],
   "source": [
    "from sklearn.preprocessing import StandardScaler\n",
    "# we have to scale every data we sue in deep learning "
   ]
  },
  {
   "cell_type": "code",
   "execution_count": 30,
   "id": "04dba8e8-a3af-4882-8330-3beee243ad5d",
   "metadata": {},
   "outputs": [
    {
     "data": {
      "text/plain": [
       "array([[-0.32622142,  0.29351742, -1.04175968, ...,  0.64609167,\n",
       "         0.97024255,  0.02188649],\n",
       "       [-0.44003595,  0.19816383, -1.38753759, ..., -1.54776799,\n",
       "         0.97024255,  0.21653375],\n",
       "       [-1.53679418,  0.29351742,  1.03290776, ...,  0.64609167,\n",
       "        -1.03067011,  0.2406869 ],\n",
       "       ...,\n",
       "       [ 0.60498839, -0.27860412,  0.68712986, ..., -1.54776799,\n",
       "         0.97024255, -1.00864308],\n",
       "       [ 1.25683526,  0.29351742, -0.69598177, ...,  0.64609167,\n",
       "        -1.03067011, -0.12523071],\n",
       "       [ 1.46377078, -1.04143285, -0.35020386, ...,  0.64609167,\n",
       "        -1.03067011, -1.07636976]])"
      ]
     },
     "execution_count": 30,
     "metadata": {},
     "output_type": "execute_result"
    }
   ],
   "source": [
    "ss = StandardScaler()\n",
    "ss.fit_transform(input_data)"
   ]
  },
  {
   "cell_type": "code",
   "execution_count": 31,
   "id": "e01f2e10-bc78-4836-8809-ba13121a6273",
   "metadata": {},
   "outputs": [],
   "source": [
    "input_data1 = pd.DataFrame(ss.fit_transform(input_data),columns=input_data.columns)"
   ]
  },
  {
   "cell_type": "code",
   "execution_count": 32,
   "id": "2b95c344-b7af-4133-ac6d-f74bfb34feef",
   "metadata": {},
   "outputs": [
    {
     "data": {
      "text/html": [
       "<div>\n",
       "<style scoped>\n",
       "    .dataframe tbody tr th:only-of-type {\n",
       "        vertical-align: middle;\n",
       "    }\n",
       "\n",
       "    .dataframe tbody tr th {\n",
       "        vertical-align: top;\n",
       "    }\n",
       "\n",
       "    .dataframe thead th {\n",
       "        text-align: right;\n",
       "    }\n",
       "</style>\n",
       "<table border=\"1\" class=\"dataframe\">\n",
       "  <thead>\n",
       "    <tr style=\"text-align: right;\">\n",
       "      <th></th>\n",
       "      <th>CreditScore</th>\n",
       "      <th>Age</th>\n",
       "      <th>Tenure</th>\n",
       "      <th>Balance</th>\n",
       "      <th>NumOfProducts</th>\n",
       "      <th>HasCrCard</th>\n",
       "      <th>IsActiveMember</th>\n",
       "      <th>EstimatedSalary</th>\n",
       "    </tr>\n",
       "  </thead>\n",
       "  <tbody>\n",
       "    <tr>\n",
       "      <th>0</th>\n",
       "      <td>-0.326221</td>\n",
       "      <td>0.293517</td>\n",
       "      <td>-1.041760</td>\n",
       "      <td>-1.225848</td>\n",
       "      <td>-0.911583</td>\n",
       "      <td>0.646092</td>\n",
       "      <td>0.970243</td>\n",
       "      <td>0.021886</td>\n",
       "    </tr>\n",
       "    <tr>\n",
       "      <th>1</th>\n",
       "      <td>-0.440036</td>\n",
       "      <td>0.198164</td>\n",
       "      <td>-1.387538</td>\n",
       "      <td>0.117350</td>\n",
       "      <td>-0.911583</td>\n",
       "      <td>-1.547768</td>\n",
       "      <td>0.970243</td>\n",
       "      <td>0.216534</td>\n",
       "    </tr>\n",
       "    <tr>\n",
       "      <th>2</th>\n",
       "      <td>-1.536794</td>\n",
       "      <td>0.293517</td>\n",
       "      <td>1.032908</td>\n",
       "      <td>1.333053</td>\n",
       "      <td>2.527057</td>\n",
       "      <td>0.646092</td>\n",
       "      <td>-1.030670</td>\n",
       "      <td>0.240687</td>\n",
       "    </tr>\n",
       "    <tr>\n",
       "      <th>3</th>\n",
       "      <td>0.501521</td>\n",
       "      <td>0.007457</td>\n",
       "      <td>-1.387538</td>\n",
       "      <td>-1.225848</td>\n",
       "      <td>0.807737</td>\n",
       "      <td>-1.547768</td>\n",
       "      <td>-1.030670</td>\n",
       "      <td>-0.108918</td>\n",
       "    </tr>\n",
       "    <tr>\n",
       "      <th>4</th>\n",
       "      <td>2.063884</td>\n",
       "      <td>0.388871</td>\n",
       "      <td>-1.041760</td>\n",
       "      <td>0.785728</td>\n",
       "      <td>-0.911583</td>\n",
       "      <td>0.646092</td>\n",
       "      <td>0.970243</td>\n",
       "      <td>-0.365276</td>\n",
       "    </tr>\n",
       "    <tr>\n",
       "      <th>...</th>\n",
       "      <td>...</td>\n",
       "      <td>...</td>\n",
       "      <td>...</td>\n",
       "      <td>...</td>\n",
       "      <td>...</td>\n",
       "      <td>...</td>\n",
       "      <td>...</td>\n",
       "      <td>...</td>\n",
       "    </tr>\n",
       "    <tr>\n",
       "      <th>9995</th>\n",
       "      <td>1.246488</td>\n",
       "      <td>0.007457</td>\n",
       "      <td>-0.004426</td>\n",
       "      <td>-1.225848</td>\n",
       "      <td>0.807737</td>\n",
       "      <td>0.646092</td>\n",
       "      <td>-1.030670</td>\n",
       "      <td>-0.066419</td>\n",
       "    </tr>\n",
       "    <tr>\n",
       "      <th>9996</th>\n",
       "      <td>-1.391939</td>\n",
       "      <td>-0.373958</td>\n",
       "      <td>1.724464</td>\n",
       "      <td>-0.306379</td>\n",
       "      <td>-0.911583</td>\n",
       "      <td>0.646092</td>\n",
       "      <td>0.970243</td>\n",
       "      <td>0.027988</td>\n",
       "    </tr>\n",
       "    <tr>\n",
       "      <th>9997</th>\n",
       "      <td>0.604988</td>\n",
       "      <td>-0.278604</td>\n",
       "      <td>0.687130</td>\n",
       "      <td>-1.225848</td>\n",
       "      <td>-0.911583</td>\n",
       "      <td>-1.547768</td>\n",
       "      <td>0.970243</td>\n",
       "      <td>-1.008643</td>\n",
       "    </tr>\n",
       "    <tr>\n",
       "      <th>9998</th>\n",
       "      <td>1.256835</td>\n",
       "      <td>0.293517</td>\n",
       "      <td>-0.695982</td>\n",
       "      <td>-0.022608</td>\n",
       "      <td>0.807737</td>\n",
       "      <td>0.646092</td>\n",
       "      <td>-1.030670</td>\n",
       "      <td>-0.125231</td>\n",
       "    </tr>\n",
       "    <tr>\n",
       "      <th>9999</th>\n",
       "      <td>1.463771</td>\n",
       "      <td>-1.041433</td>\n",
       "      <td>-0.350204</td>\n",
       "      <td>0.859965</td>\n",
       "      <td>-0.911583</td>\n",
       "      <td>0.646092</td>\n",
       "      <td>-1.030670</td>\n",
       "      <td>-1.076370</td>\n",
       "    </tr>\n",
       "  </tbody>\n",
       "</table>\n",
       "<p>10000 rows × 8 columns</p>\n",
       "</div>"
      ],
      "text/plain": [
       "      CreditScore       Age    Tenure   Balance  NumOfProducts  HasCrCard  \\\n",
       "0       -0.326221  0.293517 -1.041760 -1.225848      -0.911583   0.646092   \n",
       "1       -0.440036  0.198164 -1.387538  0.117350      -0.911583  -1.547768   \n",
       "2       -1.536794  0.293517  1.032908  1.333053       2.527057   0.646092   \n",
       "3        0.501521  0.007457 -1.387538 -1.225848       0.807737  -1.547768   \n",
       "4        2.063884  0.388871 -1.041760  0.785728      -0.911583   0.646092   \n",
       "...           ...       ...       ...       ...            ...        ...   \n",
       "9995     1.246488  0.007457 -0.004426 -1.225848       0.807737   0.646092   \n",
       "9996    -1.391939 -0.373958  1.724464 -0.306379      -0.911583   0.646092   \n",
       "9997     0.604988 -0.278604  0.687130 -1.225848      -0.911583  -1.547768   \n",
       "9998     1.256835  0.293517 -0.695982 -0.022608       0.807737   0.646092   \n",
       "9999     1.463771 -1.041433 -0.350204  0.859965      -0.911583   0.646092   \n",
       "\n",
       "      IsActiveMember  EstimatedSalary  \n",
       "0           0.970243         0.021886  \n",
       "1           0.970243         0.216534  \n",
       "2          -1.030670         0.240687  \n",
       "3          -1.030670        -0.108918  \n",
       "4           0.970243        -0.365276  \n",
       "...              ...              ...  \n",
       "9995       -1.030670        -0.066419  \n",
       "9996        0.970243         0.027988  \n",
       "9997        0.970243        -1.008643  \n",
       "9998       -1.030670        -0.125231  \n",
       "9999       -1.030670        -1.076370  \n",
       "\n",
       "[10000 rows x 8 columns]"
      ]
     },
     "execution_count": 32,
     "metadata": {},
     "output_type": "execute_result"
    }
   ],
   "source": [
    "input_data1"
   ]
  },
  {
   "cell_type": "code",
   "execution_count": 33,
   "id": "6fa9c56b-c0c6-4171-81f5-ecab5c56907c",
   "metadata": {},
   "outputs": [],
   "source": [
    "from sklearn.model_selection import train_test_split"
   ]
  },
  {
   "cell_type": "code",
   "execution_count": 34,
   "id": "3d090ac1-14cc-4471-950c-561de4e1f7ec",
   "metadata": {},
   "outputs": [],
   "source": [
    "x_train,x_test,y_train,y_test = train_test_split(input_data,output_data,test_size=0.2,random_state=42)"
   ]
  },
  {
   "cell_type": "code",
   "execution_count": 35,
   "id": "13dc4578-d283-4b82-ad95-904687611699",
   "metadata": {},
   "outputs": [
    {
     "data": {
      "text/plain": [
       "(10000, 8)"
      ]
     },
     "execution_count": 35,
     "metadata": {},
     "output_type": "execute_result"
    }
   ],
   "source": [
    "input_data.shape"
   ]
  },
  {
   "cell_type": "code",
   "execution_count": 36,
   "id": "a05597a7-869d-4590-9ef5-46cf497a2a5d",
   "metadata": {},
   "outputs": [
    {
     "data": {
      "text/plain": [
       "(8000, 8)"
      ]
     },
     "execution_count": 36,
     "metadata": {},
     "output_type": "execute_result"
    }
   ],
   "source": [
    "x_train.shape"
   ]
  },
  {
   "cell_type": "code",
   "execution_count": 48,
   "id": "0843b660-202d-4dda-aa39-b719d417a99c",
   "metadata": {},
   "outputs": [],
   "source": [
    "# now we create a artificial neural network \n",
    "import tensorflow\n",
    "from keras.layers import Dense,BatchNormalization #explain in reg \n",
    "from keras.models import Sequential\n",
    "from keras.callbacks import EarlyStopping # new one \n",
    "# these helps in on creating ann \n",
    "from keras.regularizers import l2"
   ]
  },
  {
   "cell_type": "code",
   "execution_count": 38,
   "id": "c310b8d3-05d5-47c1-baf7-bec1a458d16c",
   "metadata": {},
   "outputs": [
    {
     "data": {
      "text/plain": [
       "(10000, 8)"
      ]
     },
     "execution_count": 38,
     "metadata": {},
     "output_type": "execute_result"
    }
   ],
   "source": [
    "input_data1.shape # we creaet nodes accoring to it "
   ]
  },
  {
   "cell_type": "code",
   "execution_count": 54,
   "id": "a301dd11-d59b-44db-a727-8fddb36ab393",
   "metadata": {},
   "outputs": [
    {
     "name": "stderr",
     "output_type": "stream",
     "text": [
      "C:\\Users\\R c\\AppData\\Local\\Programs\\Python\\Python312\\Lib\\site-packages\\keras\\src\\layers\\core\\dense.py:87: UserWarning: Do not pass an `input_shape`/`input_dim` argument to a layer. When using Sequential models, prefer using an `Input(shape)` object as the first layer in the model instead.\n",
      "  super().__init__(activity_regularizer=activity_regularizer, **kwargs)\n"
     ]
    }
   ],
   "source": [
    "ann = Sequential()\n",
    "ann.add(Dense(6,input_dim = 8,activation=\"relu\",kernel_regularizer=l2(l2=0.01))) #new one kernel\n",
    "# regulizer used to improve the accuracy expliain in achine learning topic \n",
    "ann.add(BatchNormalization())# it removes the varnish gradient problem and also improve accuracy\n",
    "ann.add(Dense(4,activation=\"relu\"))\n",
    "ann.add(BatchNormalization())\n",
    "ann.add(Dense(2,activation=\"relu\"))\n",
    "ann.add(BatchNormalization()) # donot use this in output mean last one layer bcz data is in 0,1\n",
    "\n",
    "ann.add(Dense(1,activation=\"sigmoid\"))\n",
    "# these all our hidden layer 1,2,3,4 "
   ]
  },
  {
   "cell_type": "code",
   "execution_count": 55,
   "id": "272a7a1b-aa1d-4a2d-b455-f431081da8c3",
   "metadata": {},
   "outputs": [],
   "source": [
    "# now ann network is complete and we compile it \n",
    "ann.compile(optimizer=\"adam\",loss=\"binary_crossentropy\",metrics=[\"accuracy\"])\n",
    "# optimizer best is adam as register loss also explain "
   ]
  },
  {
   "cell_type": "code",
   "execution_count": 56,
   "id": "e6aa857c-98a1-4270-ae88-a72d6c025965",
   "metadata": {},
   "outputs": [
    {
     "data": {
      "text/plain": [
       "(8000, 8)"
      ]
     },
     "execution_count": 56,
     "metadata": {},
     "output_type": "execute_result"
    }
   ],
   "source": [
    "x_train.shape"
   ]
  },
  {
   "cell_type": "code",
   "execution_count": 57,
   "id": "31a7e3bb-5cca-4293-828a-71ace9e4ddd4",
   "metadata": {},
   "outputs": [
    {
     "name": "stdout",
     "output_type": "stream",
     "text": [
      "Epoch 1/50\n",
      "\u001b[1m80/80\u001b[0m \u001b[32m━━━━━━━━━━━━━━━━━━━━\u001b[0m\u001b[37m\u001b[0m \u001b[1m5s\u001b[0m 7ms/step - accuracy: 0.5721 - loss: 0.8456 - val_accuracy: 0.7840 - val_loss: 0.7044\n",
      "Epoch 2/50\n",
      "\u001b[1m80/80\u001b[0m \u001b[32m━━━━━━━━━━━━━━━━━━━━\u001b[0m\u001b[37m\u001b[0m \u001b[1m0s\u001b[0m 4ms/step - accuracy: 0.7367 - loss: 0.7349 - val_accuracy: 0.8000 - val_loss: 0.6274\n",
      "Epoch 3/50\n",
      "\u001b[1m80/80\u001b[0m \u001b[32m━━━━━━━━━━━━━━━━━━━━\u001b[0m\u001b[37m\u001b[0m \u001b[1m0s\u001b[0m 4ms/step - accuracy: 0.7575 - loss: 0.6852 - val_accuracy: 0.8020 - val_loss: 0.5897\n",
      "Epoch 4/50\n",
      "\u001b[1m80/80\u001b[0m \u001b[32m━━━━━━━━━━━━━━━━━━━━\u001b[0m\u001b[37m\u001b[0m \u001b[1m1s\u001b[0m 4ms/step - accuracy: 0.7526 - loss: 0.6432 - val_accuracy: 0.8035 - val_loss: 0.5661\n",
      "Epoch 5/50\n",
      "\u001b[1m80/80\u001b[0m \u001b[32m━━━━━━━━━━━━━━━━━━━━\u001b[0m\u001b[37m\u001b[0m \u001b[1m0s\u001b[0m 3ms/step - accuracy: 0.7952 - loss: 0.5737 - val_accuracy: 0.8035 - val_loss: 0.5413\n",
      "Epoch 6/50\n",
      "\u001b[1m80/80\u001b[0m \u001b[32m━━━━━━━━━━━━━━━━━━━━\u001b[0m\u001b[37m\u001b[0m \u001b[1m0s\u001b[0m 3ms/step - accuracy: 0.7880 - loss: 0.5548 - val_accuracy: 0.8035 - val_loss: 0.5216\n",
      "Epoch 7/50\n",
      "\u001b[1m80/80\u001b[0m \u001b[32m━━━━━━━━━━━━━━━━━━━━\u001b[0m\u001b[37m\u001b[0m \u001b[1m0s\u001b[0m 3ms/step - accuracy: 0.7972 - loss: 0.5285 - val_accuracy: 0.8035 - val_loss: 0.5096\n",
      "Epoch 8/50\n",
      "\u001b[1m80/80\u001b[0m \u001b[32m━━━━━━━━━━━━━━━━━━━━\u001b[0m\u001b[37m\u001b[0m \u001b[1m0s\u001b[0m 3ms/step - accuracy: 0.7919 - loss: 0.5209 - val_accuracy: 0.8035 - val_loss: 0.5014\n",
      "Epoch 9/50\n",
      "\u001b[1m80/80\u001b[0m \u001b[32m━━━━━━━━━━━━━━━━━━━━\u001b[0m\u001b[37m\u001b[0m \u001b[1m0s\u001b[0m 3ms/step - accuracy: 0.7963 - loss: 0.5112 - val_accuracy: 0.8035 - val_loss: 0.4963\n",
      "Epoch 10/50\n",
      "\u001b[1m80/80\u001b[0m \u001b[32m━━━━━━━━━━━━━━━━━━━━\u001b[0m\u001b[37m\u001b[0m \u001b[1m0s\u001b[0m 3ms/step - accuracy: 0.7926 - loss: 0.5103 - val_accuracy: 0.8035 - val_loss: 0.4947\n",
      "Epoch 11/50\n",
      "\u001b[1m80/80\u001b[0m \u001b[32m━━━━━━━━━━━━━━━━━━━━\u001b[0m\u001b[37m\u001b[0m \u001b[1m0s\u001b[0m 3ms/step - accuracy: 0.7846 - loss: 0.5178 - val_accuracy: 0.8035 - val_loss: 0.4934\n",
      "Epoch 12/50\n",
      "\u001b[1m80/80\u001b[0m \u001b[32m━━━━━━━━━━━━━━━━━━━━\u001b[0m\u001b[37m\u001b[0m \u001b[1m0s\u001b[0m 4ms/step - accuracy: 0.7997 - loss: 0.4983 - val_accuracy: 0.8030 - val_loss: 0.4941\n"
     ]
    },
    {
     "data": {
      "text/plain": [
       "<keras.src.callbacks.history.History at 0x1500e223dd0>"
      ]
     },
     "execution_count": 57,
     "metadata": {},
     "output_type": "execute_result"
    }
   ],
   "source": [
    "ann.fit(x_train,y_train,batch_size=100,epochs=50,validation_data=(x_test,y_test),callbacks =EarlyStopping())\n",
    "# batech size depend upon our train size and epoch mean how many time we want to train validation\n",
    "# is used to check the accuracy below in history callbacks early sEarlyStopping stops the model \n",
    "# from where accuracy changes and conot properly trained to model for ex it stops it at 3 epochs"
   ]
  },
  {
   "cell_type": "code",
   "execution_count": 58,
   "id": "0b20bcd4-ebf3-4c52-852e-f97baf0595f3",
   "metadata": {},
   "outputs": [
    {
     "data": {
      "text/plain": [
       "{'accuracy': [0.6520000100135803,\n",
       "  0.7472500205039978,\n",
       "  0.749875009059906,\n",
       "  0.7693750262260437,\n",
       "  0.793874979019165,\n",
       "  0.7943750023841858,\n",
       "  0.7943750023841858,\n",
       "  0.7943750023841858,\n",
       "  0.7943750023841858,\n",
       "  0.7944999933242798,\n",
       "  0.7944999933242798,\n",
       "  0.7943750023841858],\n",
       " 'loss': [0.8139936327934265,\n",
       "  0.7227090001106262,\n",
       "  0.6755834221839905,\n",
       "  0.6206944584846497,\n",
       "  0.5688480138778687,\n",
       "  0.5447948575019836,\n",
       "  0.5279959440231323,\n",
       "  0.5172364711761475,\n",
       "  0.5108283758163452,\n",
       "  0.5070052146911621,\n",
       "  0.5053199529647827,\n",
       "  0.5041886568069458],\n",
       " 'val_accuracy': [0.7839999794960022,\n",
       "  0.800000011920929,\n",
       "  0.8019999861717224,\n",
       "  0.8034999966621399,\n",
       "  0.8034999966621399,\n",
       "  0.8034999966621399,\n",
       "  0.8034999966621399,\n",
       "  0.8034999966621399,\n",
       "  0.8034999966621399,\n",
       "  0.8034999966621399,\n",
       "  0.8034999966621399,\n",
       "  0.8029999732971191],\n",
       " 'val_loss': [0.7043928503990173,\n",
       "  0.6274235248565674,\n",
       "  0.5896582007408142,\n",
       "  0.5660938024520874,\n",
       "  0.5413092970848083,\n",
       "  0.5216290354728699,\n",
       "  0.5096351504325867,\n",
       "  0.5013959407806396,\n",
       "  0.49634912610054016,\n",
       "  0.4947413206100464,\n",
       "  0.4934464991092682,\n",
       "  0.494065523147583]}"
      ]
     },
     "execution_count": 58,
     "metadata": {},
     "output_type": "execute_result"
    }
   ],
   "source": [
    "ann.history.history # here we find accuracies of testing trainning and loss now we assign \n",
    "#  single to everyone "
   ]
  },
  {
   "cell_type": "code",
   "execution_count": 59,
   "id": "a1f42dd1-c12b-4521-9253-5e05938a5ee9",
   "metadata": {},
   "outputs": [],
   "source": [
    "train_accuracy = ann.history.history[\"accuracy\"]\n",
    "test_accuracy = ann.history.history[\"val_accuracy\"] \n",
    "# now we plot a graph in matplotlib "
   ]
  },
  {
   "cell_type": "code",
   "execution_count": 60,
   "id": "f552101e-ef1f-4411-be8a-49c99672466a",
   "metadata": {},
   "outputs": [
    {
     "data": {
      "text/plain": [
       "(12, 12)"
      ]
     },
     "execution_count": 60,
     "metadata": {},
     "output_type": "execute_result"
    }
   ],
   "source": [
    "# now we find the length to draw the graph \n",
    "len(train_accuracy),len(test_accuracy)"
   ]
  },
  {
   "cell_type": "code",
   "execution_count": 63,
   "id": "1c8fa590-e294-410b-a88f-c910ccb8d649",
   "metadata": {},
   "outputs": [
    {
     "data": {
      "text/plain": [
       "<function matplotlib.pyplot.show(close=None, block=None)>"
      ]
     },
     "execution_count": 63,
     "metadata": {},
     "output_type": "execute_result"
    },
    {
     "data": {
      "image/png": "[encoded data removed]",
      "text/plain": [
       "<Figure size 640x480 with 1 Axes>"
      ]
     },
     "metadata": {},
     "output_type": "display_data"
    }
   ],
   "source": [
    "plt.plot([i for i in range(1,13)],train_accuracy)\n",
    "plt.plot([i for i in range(1,13)],test_accuracy,color = \"red\")\n",
    "plt.show \n",
    "# there is slight differnece between both as shown below in score function "
   ]
  },
  {
   "cell_type": "code",
   "execution_count": 64,
   "id": "dfe95bcd-38a5-4019-b6f4-e4e682883293",
   "metadata": {},
   "outputs": [
    {
     "name": "stdout",
     "output_type": "stream",
     "text": [
      "\u001b[1m63/63\u001b[0m \u001b[32m━━━━━━━━━━━━━━━━━━━━\u001b[0m\u001b[37m\u001b[0m \u001b[1m1s\u001b[0m 4ms/step\n"
     ]
    },
    {
     "data": {
      "text/plain": [
       "array([[0.18423225],\n",
       "       [0.15024358],\n",
       "       [0.14511153],\n",
       "       ...,\n",
       "       [0.14366536],\n",
       "       [0.14616178],\n",
       "       [0.26378247]], dtype=float32)"
      ]
     },
     "execution_count": 64,
     "metadata": {},
     "output_type": "execute_result"
    }
   ],
   "source": [
    "# created for below \n",
    "yprd = ann.predict(x_test) \n",
    "yprd"
   ]
  },
  {
   "cell_type": "code",
   "execution_count": 65,
   "id": "2f9a75ab-464f-46f0-9fc1-b54050abc7e5",
   "metadata": {},
   "outputs": [],
   "source": [
    "# now we create a loop bcz we want output in 0 1 so convert less than 0.5 to 0 and other to 1 \n",
    "prd_data = []\n",
    "for i in yprd: \n",
    "    # print(i[0])# it is in list so we use [0] \n",
    "    if i[0] > 0.5: \n",
    "        prd_data.append(1)\n",
    "    else: \n",
    "        prd_data.append(0)"
   ]
  },
  {
   "cell_type": "code",
   "execution_count": 66,
   "id": "aeb72850-3fc8-439f-b0c4-8fce8ee729a3",
   "metadata": {},
   "outputs": [],
   "source": [
    "# now we have to check the accuracy of our model it is done through skearn \n",
    "from sklearn.metrics import accuracy_score"
   ]
  },
  {
   "cell_type": "code",
   "execution_count": 67,
   "id": "1b18618b-a488-4b8b-8b07-bd87cf7da6f1",
   "metadata": {},
   "outputs": [],
   "source": [
    "acs  = accuracy_score(y_test,prd_data)# it need y pred so first we find it above "
   ]
  },
  {
   "cell_type": "code",
   "execution_count": 68,
   "id": "9d960ba2-1d5b-4dbb-b9d6-a1780f029859",
   "metadata": {},
   "outputs": [
    {
     "data": {
      "text/plain": [
       "0.803"
      ]
     },
     "execution_count": 68,
     "metadata": {},
     "output_type": "execute_result"
    }
   ],
   "source": [
    "acs # accuracy is 80 per now let we check our model is in overfitting or not "
   ]
  },
  {
   "cell_type": "code",
   "execution_count": 69,
   "id": "b89bf21b-6f30-4a20-927e-a507a29f4eb2",
   "metadata": {},
   "outputs": [
    {
     "name": "stdout",
     "output_type": "stream",
     "text": [
      "\u001b[1m250/250\u001b[0m \u001b[32m━━━━━━━━━━━━━━━━━━━━\u001b[0m\u001b[37m\u001b[0m \u001b[1m0s\u001b[0m 2ms/step\n"
     ]
    }
   ],
   "source": [
    "# now we create a loop bcz we want output in 0 1 so convert less than 0.5 to 0 and other to 1 \n",
    "yprd1 = ann.predict(x_train) \n",
    "prd_data1 = []\n",
    "for i in yprd1: \n",
    "    # print(i[0])# it is in list so we use [0] \n",
    "    if i[0] > 0.5: \n",
    "        prd_data1.append(1)\n",
    "    else: \n",
    "        prd_data1.append(0)"
   ]
  },
  {
   "cell_type": "code",
   "execution_count": 71,
   "id": "86d3fdc3-7887-49f4-9948-a8791ed8c03d",
   "metadata": {},
   "outputs": [],
   "source": [
    "acs  = accuracy_score(y_train,prd_data1)"
   ]
  },
  {
   "cell_type": "code",
   "execution_count": 72,
   "id": "e01dd12a-3be2-42d5-b40f-9ee5ea470860",
   "metadata": {},
   "outputs": [
    {
     "data": {
      "text/plain": [
       "0.794375"
      ]
     },
     "execution_count": 72,
     "metadata": {},
     "output_type": "execute_result"
    }
   ],
   "source": [
    "acs # so it is saved from overfitting "
   ]
  },
  {
   "cell_type": "code",
   "execution_count": null,
   "id": "14e36417-bcca-4b9b-b3d1-2097b614e131",
   "metadata": {},
   "outputs": [],
   "source": []
  },
  {
   "cell_type": "code",
   "execution_count": null,
   "id": "da61cb9d-3281-4ea2-b27f-43414c21864a",
   "metadata": {},
   "outputs": [],
   "source": []
  },
  {
   "cell_type": "code",
   "execution_count": null,
   "id": "9bd01433-592a-4977-ad25-ce66b1b3720e",
   "metadata": {},
   "outputs": [],
   "source": []
  },
  {
   "cell_type": "code",
   "execution_count": null,
   "id": "a4ee9041-8db2-4f10-9a8e-4bab57d3b4ac",
   "metadata": {},
   "outputs": [],
   "source": []
  },
  {
   "cell_type": "code",
   "execution_count": null,
   "id": "f49e4d6e-fcbe-45b6-a20d-4639b6c35a3e",
   "metadata": {},
   "outputs": [],
   "source": []
  }
 ],
 "metadata": {
  "kernelspec": {
   "display_name": "Python 3 (ipykernel)",
   "language": "python",
   "name": "python3"
  },
  "language_info": {
   "codemirror_mode": {
    "name": "ipython",
    "version": 3
   },
   "file_extension": ".py",
   "mimetype": "text/x-python",
   "name": "python",
   "nbconvert_exporter": "python",
   "pygments_lexer": "ipython3",
   "version": "3.12.3"
  }
 },
 "nbformat": 4,
 "nbformat_minor": 5
}
