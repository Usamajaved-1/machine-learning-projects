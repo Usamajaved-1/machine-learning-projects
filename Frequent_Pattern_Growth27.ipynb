{
 "cells": [
  {
   "cell_type": "raw",
   "id": "1fb034cb-2144-4b93-b7bc-e5308a176e14",
   "metadata": {},
   "source": [
    "pg 51  practical on last of 26 file "
   ]
  }
 ],
 "metadata": {
  "kernelspec": {
   "display_name": "Python 3 (ipykernel)",
   "language": "python",
   "name": "python3"
  },
  "language_info": {
   "codemirror_mode": {
    "name": "ipython",
    "version": 3
   },
   "file_extension": ".py",
   "mimetype": "text/x-python",
   "name": "python",
   "nbconvert_exporter": "python",
   "pygments_lexer": "ipython3",
   "version": "3.12.3"
  }
 },
 "nbformat": 4,
 "nbformat_minor": 5
}
