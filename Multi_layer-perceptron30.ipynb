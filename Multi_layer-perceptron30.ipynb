{
 "cells": [
  {
   "cell_type": "code",
   "execution_count": 1,
   "id": "6112b381-2703-49b6-a766-5dc2168fd0d9",
   "metadata": {},
   "outputs": [],
   "source": [
    "# pg64 \n",
    "import pandas as pd \n",
    "import numpy as np \n",
    "import matplotlib.pyplot as plt \n",
    "import seaborn as sns "
   ]
  },
  {
   "cell_type": "code",
   "execution_count": 2,
   "id": "61e32c76-8ea0-4c0a-b924-b8cdf038e76e",
   "metadata": {},
   "outputs": [
    {
     "data": {
      "text/html": [
       "<div>\n",
       "<style scoped>\n",
       "    .dataframe tbody tr th:only-of-type {\n",
       "        vertical-align: middle;\n",
       "    }\n",
       "\n",
       "    .dataframe tbody tr th {\n",
       "        vertical-align: top;\n",
       "    }\n",
       "\n",
       "    .dataframe thead th {\n",
       "        text-align: right;\n",
       "    }\n",
       "</style>\n",
       "<table border=\"1\" class=\"dataframe\">\n",
       "  <thead>\n",
       "    <tr style=\"text-align: right;\">\n",
       "      <th></th>\n",
       "      <th>RowNumber</th>\n",
       "      <th>CustomerId</th>\n",
       "      <th>Surname</th>\n",
       "      <th>CreditScore</th>\n",
       "      <th>Geography</th>\n",
       "      <th>Gender</th>\n",
       "      <th>Age</th>\n",
       "      <th>Tenure</th>\n",
       "      <th>Balance</th>\n",
       "      <th>NumOfProducts</th>\n",
       "      <th>HasCrCard</th>\n",
       "      <th>IsActiveMember</th>\n",
       "      <th>EstimatedSalary</th>\n",
       "      <th>Exited</th>\n",
       "    </tr>\n",
       "  </thead>\n",
       "  <tbody>\n",
       "    <tr>\n",
       "      <th>0</th>\n",
       "      <td>1</td>\n",
       "      <td>15634602</td>\n",
       "      <td>Hargrave</td>\n",
       "      <td>619</td>\n",
       "      <td>France</td>\n",
       "      <td>Female</td>\n",
       "      <td>42</td>\n",
       "      <td>2</td>\n",
       "      <td>0.00</td>\n",
       "      <td>1</td>\n",
       "      <td>1</td>\n",
       "      <td>1</td>\n",
       "      <td>101348.88</td>\n",
       "      <td>1</td>\n",
       "    </tr>\n",
       "    <tr>\n",
       "      <th>1</th>\n",
       "      <td>2</td>\n",
       "      <td>15647311</td>\n",
       "      <td>Hill</td>\n",
       "      <td>608</td>\n",
       "      <td>Spain</td>\n",
       "      <td>Female</td>\n",
       "      <td>41</td>\n",
       "      <td>1</td>\n",
       "      <td>83807.86</td>\n",
       "      <td>1</td>\n",
       "      <td>0</td>\n",
       "      <td>1</td>\n",
       "      <td>112542.58</td>\n",
       "      <td>0</td>\n",
       "    </tr>\n",
       "    <tr>\n",
       "      <th>2</th>\n",
       "      <td>3</td>\n",
       "      <td>15619304</td>\n",
       "      <td>Onio</td>\n",
       "      <td>502</td>\n",
       "      <td>France</td>\n",
       "      <td>Female</td>\n",
       "      <td>42</td>\n",
       "      <td>8</td>\n",
       "      <td>159660.80</td>\n",
       "      <td>3</td>\n",
       "      <td>1</td>\n",
       "      <td>0</td>\n",
       "      <td>113931.57</td>\n",
       "      <td>1</td>\n",
       "    </tr>\n",
       "  </tbody>\n",
       "</table>\n",
       "</div>"
      ],
      "text/plain": [
       "   RowNumber  CustomerId   Surname  CreditScore Geography  Gender  Age  \\\n",
       "0          1    15634602  Hargrave          619    France  Female   42   \n",
       "1          2    15647311      Hill          608     Spain  Female   41   \n",
       "2          3    15619304      Onio          502    France  Female   42   \n",
       "\n",
       "   Tenure    Balance  NumOfProducts  HasCrCard  IsActiveMember  \\\n",
       "0       2       0.00              1          1               1   \n",
       "1       1   83807.86              1          0               1   \n",
       "2       8  159660.80              3          1               0   \n",
       "\n",
       "   EstimatedSalary  Exited  \n",
       "0        101348.88       1  \n",
       "1        112542.58       0  \n",
       "2        113931.57       1  "
      ]
     },
     "execution_count": 2,
     "metadata": {},
     "output_type": "execute_result"
    }
   ],
   "source": [
    "data = pd.read_csv(\"Churn_Modelling.csv\")\n",
    "data.head(3)"
   ]
  },
  {
   "cell_type": "code",
   "execution_count": 3,
   "id": "416ae567-cde1-4edd-a7de-36af7ce2ea8e",
   "metadata": {},
   "outputs": [],
   "source": [
    " data.drop(columns=[\"RowNumber\",\"CustomerId\",\"Surname\",\"Geography\",\"Gender\"],inplace = True)\n",
    "# adjust it according to wscubetech "
   ]
  },
  {
   "cell_type": "code",
   "execution_count": 4,
   "id": "426b63e7-1284-4887-a11a-61b21ceb5b92",
   "metadata": {},
   "outputs": [
    {
     "data": {
      "text/html": [
       "<div>\n",
       "<style scoped>\n",
       "    .dataframe tbody tr th:only-of-type {\n",
       "        vertical-align: middle;\n",
       "    }\n",
       "\n",
       "    .dataframe tbody tr th {\n",
       "        vertical-align: top;\n",
       "    }\n",
       "\n",
       "    .dataframe thead th {\n",
       "        text-align: right;\n",
       "    }\n",
       "</style>\n",
       "<table border=\"1\" class=\"dataframe\">\n",
       "  <thead>\n",
       "    <tr style=\"text-align: right;\">\n",
       "      <th></th>\n",
       "      <th>CreditScore</th>\n",
       "      <th>Age</th>\n",
       "      <th>Tenure</th>\n",
       "      <th>Balance</th>\n",
       "      <th>NumOfProducts</th>\n",
       "      <th>HasCrCard</th>\n",
       "      <th>IsActiveMember</th>\n",
       "      <th>EstimatedSalary</th>\n",
       "      <th>Exited</th>\n",
       "    </tr>\n",
       "  </thead>\n",
       "  <tbody>\n",
       "    <tr>\n",
       "      <th>0</th>\n",
       "      <td>619</td>\n",
       "      <td>42</td>\n",
       "      <td>2</td>\n",
       "      <td>0.00</td>\n",
       "      <td>1</td>\n",
       "      <td>1</td>\n",
       "      <td>1</td>\n",
       "      <td>101348.88</td>\n",
       "      <td>1</td>\n",
       "    </tr>\n",
       "    <tr>\n",
       "      <th>1</th>\n",
       "      <td>608</td>\n",
       "      <td>41</td>\n",
       "      <td>1</td>\n",
       "      <td>83807.86</td>\n",
       "      <td>1</td>\n",
       "      <td>0</td>\n",
       "      <td>1</td>\n",
       "      <td>112542.58</td>\n",
       "      <td>0</td>\n",
       "    </tr>\n",
       "    <tr>\n",
       "      <th>2</th>\n",
       "      <td>502</td>\n",
       "      <td>42</td>\n",
       "      <td>8</td>\n",
       "      <td>159660.80</td>\n",
       "      <td>3</td>\n",
       "      <td>1</td>\n",
       "      <td>0</td>\n",
       "      <td>113931.57</td>\n",
       "      <td>1</td>\n",
       "    </tr>\n",
       "  </tbody>\n",
       "</table>\n",
       "</div>"
      ],
      "text/plain": [
       "   CreditScore  Age  Tenure    Balance  NumOfProducts  HasCrCard  \\\n",
       "0          619   42       2       0.00              1          1   \n",
       "1          608   41       1   83807.86              1          0   \n",
       "2          502   42       8  159660.80              3          1   \n",
       "\n",
       "   IsActiveMember  EstimatedSalary  Exited  \n",
       "0               1        101348.88       1  \n",
       "1               1        112542.58       0  \n",
       "2               0        113931.57       1  "
      ]
     },
     "execution_count": 4,
     "metadata": {},
     "output_type": "execute_result"
    }
   ],
   "source": [
    "data.head(3)"
   ]
  },
  {
   "cell_type": "code",
   "execution_count": 5,
   "id": "23198494-8325-4709-a05b-a6c28f802b50",
   "metadata": {},
   "outputs": [
    {
     "data": {
      "text/plain": [
       "CreditScore        0\n",
       "Age                0\n",
       "Tenure             0\n",
       "Balance            0\n",
       "NumOfProducts      0\n",
       "HasCrCard          0\n",
       "IsActiveMember     0\n",
       "EstimatedSalary    0\n",
       "Exited             0\n",
       "dtype: int64"
      ]
     },
     "execution_count": 5,
     "metadata": {},
     "output_type": "execute_result"
    }
   ],
   "source": [
    "data.isnull().sum()"
   ]
  },
  {
   "cell_type": "code",
   "execution_count": 6,
   "id": "2ae1c790-9a9a-4c07-acb0-f32b04f1efee",
   "metadata": {},
   "outputs": [],
   "source": [
    "input_data = data.iloc[:,:-1]\n",
    "output_data = data.iloc[:,-1]"
   ]
  },
  {
   "cell_type": "code",
   "execution_count": 7,
   "id": "42395900-062e-43eb-b0ee-4e6558e22c4a",
   "metadata": {},
   "outputs": [],
   "source": [
    "from sklearn.preprocessing import StandardScaler\n",
    "# we have to scale every data we sue in deep learning "
   ]
  },
  {
   "cell_type": "code",
   "execution_count": 8,
   "id": "e10352c2-02fc-40ff-bef8-bc6d9b2beaff",
   "metadata": {},
   "outputs": [
    {
     "data": {
      "text/plain": [
       "array([[-0.32622142,  0.29351742, -1.04175968, ...,  0.64609167,\n",
       "         0.97024255,  0.02188649],\n",
       "       [-0.44003595,  0.19816383, -1.38753759, ..., -1.54776799,\n",
       "         0.97024255,  0.21653375],\n",
       "       [-1.53679418,  0.29351742,  1.03290776, ...,  0.64609167,\n",
       "        -1.03067011,  0.2406869 ],\n",
       "       ...,\n",
       "       [ 0.60498839, -0.27860412,  0.68712986, ..., -1.54776799,\n",
       "         0.97024255, -1.00864308],\n",
       "       [ 1.25683526,  0.29351742, -0.69598177, ...,  0.64609167,\n",
       "        -1.03067011, -0.12523071],\n",
       "       [ 1.46377078, -1.04143285, -0.35020386, ...,  0.64609167,\n",
       "        -1.03067011, -1.07636976]])"
      ]
     },
     "execution_count": 8,
     "metadata": {},
     "output_type": "execute_result"
    }
   ],
   "source": [
    "ss = StandardScaler()\n",
    "ss.fit_transform(input_data)"
   ]
  },
  {
   "cell_type": "code",
   "execution_count": 9,
   "id": "319cceae-596d-418c-8b76-ca4cee54f9a4",
   "metadata": {},
   "outputs": [],
   "source": [
    "input_data1 = pd.DataFrame(ss.fit_transform(input_data),columns=input_data.columns)"
   ]
  },
  {
   "cell_type": "code",
   "execution_count": 10,
   "id": "bc2df0d0-68d2-43ca-9a1c-c6285e433a0a",
   "metadata": {},
   "outputs": [
    {
     "data": {
      "text/html": [
       "<div>\n",
       "<style scoped>\n",
       "    .dataframe tbody tr th:only-of-type {\n",
       "        vertical-align: middle;\n",
       "    }\n",
       "\n",
       "    .dataframe tbody tr th {\n",
       "        vertical-align: top;\n",
       "    }\n",
       "\n",
       "    .dataframe thead th {\n",
       "        text-align: right;\n",
       "    }\n",
       "</style>\n",
       "<table border=\"1\" class=\"dataframe\">\n",
       "  <thead>\n",
       "    <tr style=\"text-align: right;\">\n",
       "      <th></th>\n",
       "      <th>CreditScore</th>\n",
       "      <th>Age</th>\n",
       "      <th>Tenure</th>\n",
       "      <th>Balance</th>\n",
       "      <th>NumOfProducts</th>\n",
       "      <th>HasCrCard</th>\n",
       "      <th>IsActiveMember</th>\n",
       "      <th>EstimatedSalary</th>\n",
       "    </tr>\n",
       "  </thead>\n",
       "  <tbody>\n",
       "    <tr>\n",
       "      <th>0</th>\n",
       "      <td>-0.326221</td>\n",
       "      <td>0.293517</td>\n",
       "      <td>-1.041760</td>\n",
       "      <td>-1.225848</td>\n",
       "      <td>-0.911583</td>\n",
       "      <td>0.646092</td>\n",
       "      <td>0.970243</td>\n",
       "      <td>0.021886</td>\n",
       "    </tr>\n",
       "    <tr>\n",
       "      <th>1</th>\n",
       "      <td>-0.440036</td>\n",
       "      <td>0.198164</td>\n",
       "      <td>-1.387538</td>\n",
       "      <td>0.117350</td>\n",
       "      <td>-0.911583</td>\n",
       "      <td>-1.547768</td>\n",
       "      <td>0.970243</td>\n",
       "      <td>0.216534</td>\n",
       "    </tr>\n",
       "    <tr>\n",
       "      <th>2</th>\n",
       "      <td>-1.536794</td>\n",
       "      <td>0.293517</td>\n",
       "      <td>1.032908</td>\n",
       "      <td>1.333053</td>\n",
       "      <td>2.527057</td>\n",
       "      <td>0.646092</td>\n",
       "      <td>-1.030670</td>\n",
       "      <td>0.240687</td>\n",
       "    </tr>\n",
       "    <tr>\n",
       "      <th>3</th>\n",
       "      <td>0.501521</td>\n",
       "      <td>0.007457</td>\n",
       "      <td>-1.387538</td>\n",
       "      <td>-1.225848</td>\n",
       "      <td>0.807737</td>\n",
       "      <td>-1.547768</td>\n",
       "      <td>-1.030670</td>\n",
       "      <td>-0.108918</td>\n",
       "    </tr>\n",
       "    <tr>\n",
       "      <th>4</th>\n",
       "      <td>2.063884</td>\n",
       "      <td>0.388871</td>\n",
       "      <td>-1.041760</td>\n",
       "      <td>0.785728</td>\n",
       "      <td>-0.911583</td>\n",
       "      <td>0.646092</td>\n",
       "      <td>0.970243</td>\n",
       "      <td>-0.365276</td>\n",
       "    </tr>\n",
       "    <tr>\n",
       "      <th>...</th>\n",
       "      <td>...</td>\n",
       "      <td>...</td>\n",
       "      <td>...</td>\n",
       "      <td>...</td>\n",
       "      <td>...</td>\n",
       "      <td>...</td>\n",
       "      <td>...</td>\n",
       "      <td>...</td>\n",
       "    </tr>\n",
       "    <tr>\n",
       "      <th>9995</th>\n",
       "      <td>1.246488</td>\n",
       "      <td>0.007457</td>\n",
       "      <td>-0.004426</td>\n",
       "      <td>-1.225848</td>\n",
       "      <td>0.807737</td>\n",
       "      <td>0.646092</td>\n",
       "      <td>-1.030670</td>\n",
       "      <td>-0.066419</td>\n",
       "    </tr>\n",
       "    <tr>\n",
       "      <th>9996</th>\n",
       "      <td>-1.391939</td>\n",
       "      <td>-0.373958</td>\n",
       "      <td>1.724464</td>\n",
       "      <td>-0.306379</td>\n",
       "      <td>-0.911583</td>\n",
       "      <td>0.646092</td>\n",
       "      <td>0.970243</td>\n",
       "      <td>0.027988</td>\n",
       "    </tr>\n",
       "    <tr>\n",
       "      <th>9997</th>\n",
       "      <td>0.604988</td>\n",
       "      <td>-0.278604</td>\n",
       "      <td>0.687130</td>\n",
       "      <td>-1.225848</td>\n",
       "      <td>-0.911583</td>\n",
       "      <td>-1.547768</td>\n",
       "      <td>0.970243</td>\n",
       "      <td>-1.008643</td>\n",
       "    </tr>\n",
       "    <tr>\n",
       "      <th>9998</th>\n",
       "      <td>1.256835</td>\n",
       "      <td>0.293517</td>\n",
       "      <td>-0.695982</td>\n",
       "      <td>-0.022608</td>\n",
       "      <td>0.807737</td>\n",
       "      <td>0.646092</td>\n",
       "      <td>-1.030670</td>\n",
       "      <td>-0.125231</td>\n",
       "    </tr>\n",
       "    <tr>\n",
       "      <th>9999</th>\n",
       "      <td>1.463771</td>\n",
       "      <td>-1.041433</td>\n",
       "      <td>-0.350204</td>\n",
       "      <td>0.859965</td>\n",
       "      <td>-0.911583</td>\n",
       "      <td>0.646092</td>\n",
       "      <td>-1.030670</td>\n",
       "      <td>-1.076370</td>\n",
       "    </tr>\n",
       "  </tbody>\n",
       "</table>\n",
       "<p>10000 rows × 8 columns</p>\n",
       "</div>"
      ],
      "text/plain": [
       "      CreditScore       Age    Tenure   Balance  NumOfProducts  HasCrCard  \\\n",
       "0       -0.326221  0.293517 -1.041760 -1.225848      -0.911583   0.646092   \n",
       "1       -0.440036  0.198164 -1.387538  0.117350      -0.911583  -1.547768   \n",
       "2       -1.536794  0.293517  1.032908  1.333053       2.527057   0.646092   \n",
       "3        0.501521  0.007457 -1.387538 -1.225848       0.807737  -1.547768   \n",
       "4        2.063884  0.388871 -1.041760  0.785728      -0.911583   0.646092   \n",
       "...           ...       ...       ...       ...            ...        ...   \n",
       "9995     1.246488  0.007457 -0.004426 -1.225848       0.807737   0.646092   \n",
       "9996    -1.391939 -0.373958  1.724464 -0.306379      -0.911583   0.646092   \n",
       "9997     0.604988 -0.278604  0.687130 -1.225848      -0.911583  -1.547768   \n",
       "9998     1.256835  0.293517 -0.695982 -0.022608       0.807737   0.646092   \n",
       "9999     1.463771 -1.041433 -0.350204  0.859965      -0.911583   0.646092   \n",
       "\n",
       "      IsActiveMember  EstimatedSalary  \n",
       "0           0.970243         0.021886  \n",
       "1           0.970243         0.216534  \n",
       "2          -1.030670         0.240687  \n",
       "3          -1.030670        -0.108918  \n",
       "4           0.970243        -0.365276  \n",
       "...              ...              ...  \n",
       "9995       -1.030670        -0.066419  \n",
       "9996        0.970243         0.027988  \n",
       "9997        0.970243        -1.008643  \n",
       "9998       -1.030670        -0.125231  \n",
       "9999       -1.030670        -1.076370  \n",
       "\n",
       "[10000 rows x 8 columns]"
      ]
     },
     "execution_count": 10,
     "metadata": {},
     "output_type": "execute_result"
    }
   ],
   "source": [
    "input_data1"
   ]
  },
  {
   "cell_type": "code",
   "execution_count": 11,
   "id": "81996321-36c9-46ba-aa12-582faa4c6833",
   "metadata": {},
   "outputs": [],
   "source": [
    "from sklearn.model_selection import train_test_split"
   ]
  },
  {
   "cell_type": "code",
   "execution_count": 12,
   "id": "a653d226-a253-417c-88f5-1fe68195a493",
   "metadata": {},
   "outputs": [],
   "source": [
    "x_train,x_test,y_train,y_test = train_test_split(input_data,output_data,test_size=0.2,random_state=42)"
   ]
  },
  {
   "cell_type": "code",
   "execution_count": 13,
   "id": "c5dc97f1-65a1-49df-8e6f-b3e0b6c2e7a7",
   "metadata": {},
   "outputs": [
    {
     "data": {
      "text/plain": [
       "(10000, 8)"
      ]
     },
     "execution_count": 13,
     "metadata": {},
     "output_type": "execute_result"
    }
   ],
   "source": [
    "input_data.shape"
   ]
  },
  {
   "cell_type": "code",
   "execution_count": 14,
   "id": "48171607-7336-4432-b1c1-5c2630f0f728",
   "metadata": {},
   "outputs": [
    {
     "data": {
      "text/plain": [
       "(8000, 8)"
      ]
     },
     "execution_count": 14,
     "metadata": {},
     "output_type": "execute_result"
    }
   ],
   "source": [
    "x_train.shape"
   ]
  },
  {
   "cell_type": "code",
   "execution_count": 15,
   "id": "da5fae02-55b8-4b2b-b9b2-633a0b347601",
   "metadata": {},
   "outputs": [],
   "source": [
    "# now we create a artificial neural network \n",
    "import tensorflow\n",
    "from keras.layers import Dense\n",
    "from keras.models import Sequential\n",
    "# these helps in on creating ann "
   ]
  },
  {
   "cell_type": "raw",
   "id": "90bf077b-28b7-4436-bf3e-46ed1a34f5ac",
   "metadata": {},
   "source": [
    "infirst dense layer we have to indentify how much nodes we have to create in it "
   ]
  },
  {
   "cell_type": "code",
   "execution_count": 16,
   "id": "9fc3f86e-06d5-4392-902c-dcb46a74f464",
   "metadata": {},
   "outputs": [
    {
     "data": {
      "text/plain": [
       "(10000, 8)"
      ]
     },
     "execution_count": 16,
     "metadata": {},
     "output_type": "execute_result"
    }
   ],
   "source": [
    "input_data1.shape # we creaet nodes accoring to it "
   ]
  },
  {
   "cell_type": "code",
   "execution_count": 17,
   "id": "7e6fb979-be62-432a-8558-237177f8412e",
   "metadata": {},
   "outputs": [
    {
     "name": "stderr",
     "output_type": "stream",
     "text": [
      "C:\\Users\\R c\\AppData\\Local\\Programs\\Python\\Python312\\Lib\\site-packages\\keras\\src\\layers\\core\\dense.py:87: UserWarning: Do not pass an `input_shape`/`input_dim` argument to a layer. When using Sequential models, prefer using an `Input(shape)` object as the first layer in the model instead.\n",
      "  super().__init__(activity_regularizer=activity_regularizer, **kwargs)\n"
     ]
    }
   ],
   "source": [
    "ann = Sequential()\n",
    "ann.add(Dense(6,input_dim = 8,activation=\"relu\"))\n",
    "ann.add(Dense(4,activation=\"relu\"))\n",
    "ann.add(Dense(2,activation=\"relu\"))\n",
    "ann.add(Dense(1,activation=\"sigmoid\"))\n",
    "# these all our hidden layer 1,2,3,4 "
   ]
  },
  {
   "cell_type": "raw",
   "id": "1546ed63-3d74-4bb4-886b-72c66eed876c",
   "metadata": {},
   "source": [
    "# units is first which we set 6 less than total \n",
    "# col 8 input_dim = 8 we create this only in first  ,activation=\"relu\" defined in register as it is we create below we take last node 1 bcz at the end output is in 0 1 for we use 1 bcz we want only 1 output  and we use sigmoid in activation f bcz output is in binary "
   ]
  },
  {
   "cell_type": "code",
   "execution_count": 18,
   "id": "816fcd12-cd46-41c6-a140-996367ab17ab",
   "metadata": {},
   "outputs": [],
   "source": [
    "# now ann network is complete and we compile it \n",
    "ann.compile(optimizer=\"adam\",loss=\"binary_crossentropy\",metrics=[\"accuracy\"])\n",
    "# optimizer best is adam as register loss also explain "
   ]
  },
  {
   "cell_type": "code",
   "execution_count": 19,
   "id": "72a8c5bb-90de-42cf-8ee2-2b95b8fb575a",
   "metadata": {},
   "outputs": [
    {
     "data": {
      "text/plain": [
       "(8000, 8)"
      ]
     },
     "execution_count": 19,
     "metadata": {},
     "output_type": "execute_result"
    }
   ],
   "source": [
    "x_train.shape"
   ]
  },
  {
   "cell_type": "code",
   "execution_count": 41,
   "id": "633c7147-24bf-4512-b273-baca636755e9",
   "metadata": {},
   "outputs": [
    {
     "name": "stdout",
     "output_type": "stream",
     "text": [
      "Epoch 1/50\n",
      "\u001b[1m80/80\u001b[0m \u001b[32m━━━━━━━━━━━━━━━━━━━━\u001b[0m\u001b[37m\u001b[0m \u001b[1m0s\u001b[0m 3ms/step - accuracy: 0.7890 - loss: 0.5154 - val_accuracy: 0.8035 - val_loss: 0.4958\n",
      "Epoch 2/50\n",
      "\u001b[1m80/80\u001b[0m \u001b[32m━━━━━━━━━━━━━━━━━━━━\u001b[0m\u001b[37m\u001b[0m \u001b[1m0s\u001b[0m 2ms/step - accuracy: 0.7970 - loss: 0.5045 - val_accuracy: 0.8035 - val_loss: 0.4958\n",
      "Epoch 3/50\n",
      "\u001b[1m80/80\u001b[0m \u001b[32m━━━━━━━━━━━━━━━━━━━━\u001b[0m\u001b[37m\u001b[0m \u001b[1m0s\u001b[0m 2ms/step - accuracy: 0.7957 - loss: 0.5063 - val_accuracy: 0.8035 - val_loss: 0.4958\n",
      "Epoch 4/50\n",
      "\u001b[1m80/80\u001b[0m \u001b[32m━━━━━━━━━━━━━━━━━━━━\u001b[0m\u001b[37m\u001b[0m \u001b[1m0s\u001b[0m 2ms/step - accuracy: 0.7947 - loss: 0.5077 - val_accuracy: 0.8035 - val_loss: 0.4957\n",
      "Epoch 5/50\n",
      "\u001b[1m80/80\u001b[0m \u001b[32m━━━━━━━━━━━━━━━━━━━━\u001b[0m\u001b[37m\u001b[0m \u001b[1m0s\u001b[0m 3ms/step - accuracy: 0.7941 - loss: 0.5085 - val_accuracy: 0.8035 - val_loss: 0.4957\n",
      "Epoch 6/50\n",
      "\u001b[1m80/80\u001b[0m \u001b[32m━━━━━━━━━━━━━━━━━━━━\u001b[0m\u001b[37m\u001b[0m \u001b[1m0s\u001b[0m 3ms/step - accuracy: 0.7956 - loss: 0.5065 - val_accuracy: 0.8035 - val_loss: 0.4958\n",
      "Epoch 7/50\n",
      "\u001b[1m80/80\u001b[0m \u001b[32m━━━━━━━━━━━━━━━━━━━━\u001b[0m\u001b[37m\u001b[0m \u001b[1m0s\u001b[0m 2ms/step - accuracy: 0.7956 - loss: 0.5064 - val_accuracy: 0.8035 - val_loss: 0.4958\n",
      "Epoch 8/50\n",
      "\u001b[1m80/80\u001b[0m \u001b[32m━━━━━━━━━━━━━━━━━━━━\u001b[0m\u001b[37m\u001b[0m \u001b[1m0s\u001b[0m 3ms/step - accuracy: 0.7868 - loss: 0.5184 - val_accuracy: 0.8035 - val_loss: 0.4958\n",
      "Epoch 9/50\n",
      "\u001b[1m80/80\u001b[0m \u001b[32m━━━━━━━━━━━━━━━━━━━━\u001b[0m\u001b[37m\u001b[0m \u001b[1m0s\u001b[0m 2ms/step - accuracy: 0.7928 - loss: 0.5103 - val_accuracy: 0.8035 - val_loss: 0.4958\n",
      "Epoch 10/50\n",
      "\u001b[1m80/80\u001b[0m \u001b[32m━━━━━━━━━━━━━━━━━━━━\u001b[0m\u001b[37m\u001b[0m \u001b[1m0s\u001b[0m 2ms/step - accuracy: 0.7986 - loss: 0.5024 - val_accuracy: 0.8035 - val_loss: 0.4958\n",
      "Epoch 11/50\n",
      "\u001b[1m80/80\u001b[0m \u001b[32m━━━━━━━━━━━━━━━━━━━━\u001b[0m\u001b[37m\u001b[0m \u001b[1m0s\u001b[0m 2ms/step - accuracy: 0.7990 - loss: 0.5019 - val_accuracy: 0.8035 - val_loss: 0.4957\n",
      "Epoch 12/50\n",
      "\u001b[1m80/80\u001b[0m \u001b[32m━━━━━━━━━━━━━━━━━━━━\u001b[0m\u001b[37m\u001b[0m \u001b[1m0s\u001b[0m 2ms/step - accuracy: 0.7897 - loss: 0.5145 - val_accuracy: 0.8035 - val_loss: 0.4958\n",
      "Epoch 13/50\n",
      "\u001b[1m80/80\u001b[0m \u001b[32m━━━━━━━━━━━━━━━━━━━━\u001b[0m\u001b[37m\u001b[0m \u001b[1m0s\u001b[0m 3ms/step - accuracy: 0.7957 - loss: 0.5063 - val_accuracy: 0.8035 - val_loss: 0.4958\n",
      "Epoch 14/50\n",
      "\u001b[1m80/80\u001b[0m \u001b[32m━━━━━━━━━━━━━━━━━━━━\u001b[0m\u001b[37m\u001b[0m \u001b[1m0s\u001b[0m 2ms/step - accuracy: 0.7953 - loss: 0.5068 - val_accuracy: 0.8035 - val_loss: 0.4958\n",
      "Epoch 15/50\n",
      "\u001b[1m80/80\u001b[0m \u001b[32m━━━━━━━━━━━━━━━━━━━━\u001b[0m\u001b[37m\u001b[0m \u001b[1m0s\u001b[0m 3ms/step - accuracy: 0.7873 - loss: 0.5177 - val_accuracy: 0.8035 - val_loss: 0.4958\n",
      "Epoch 16/50\n",
      "\u001b[1m80/80\u001b[0m \u001b[32m━━━━━━━━━━━━━━━━━━━━\u001b[0m\u001b[37m\u001b[0m \u001b[1m0s\u001b[0m 3ms/step - accuracy: 0.7938 - loss: 0.5089 - val_accuracy: 0.8035 - val_loss: 0.4957\n",
      "Epoch 17/50\n",
      "\u001b[1m80/80\u001b[0m \u001b[32m━━━━━━━━━━━━━━━━━━━━\u001b[0m\u001b[37m\u001b[0m \u001b[1m0s\u001b[0m 2ms/step - accuracy: 0.7868 - loss: 0.5183 - val_accuracy: 0.8035 - val_loss: 0.4957\n",
      "Epoch 18/50\n",
      "\u001b[1m80/80\u001b[0m \u001b[32m━━━━━━━━━━━━━━━━━━━━\u001b[0m\u001b[37m\u001b[0m \u001b[1m0s\u001b[0m 2ms/step - accuracy: 0.7965 - loss: 0.5052 - val_accuracy: 0.8035 - val_loss: 0.4958\n",
      "Epoch 19/50\n",
      "\u001b[1m80/80\u001b[0m \u001b[32m━━━━━━━━━━━━━━━━━━━━\u001b[0m\u001b[37m\u001b[0m \u001b[1m0s\u001b[0m 3ms/step - accuracy: 0.7970 - loss: 0.5046 - val_accuracy: 0.8035 - val_loss: 0.4958\n",
      "Epoch 20/50\n",
      "\u001b[1m80/80\u001b[0m \u001b[32m━━━━━━━━━━━━━━━━━━━━\u001b[0m\u001b[37m\u001b[0m \u001b[1m0s\u001b[0m 3ms/step - accuracy: 0.7940 - loss: 0.5086 - val_accuracy: 0.8035 - val_loss: 0.4958\n",
      "Epoch 21/50\n",
      "\u001b[1m80/80\u001b[0m \u001b[32m━━━━━━━━━━━━━━━━━━━━\u001b[0m\u001b[37m\u001b[0m \u001b[1m0s\u001b[0m 3ms/step - accuracy: 0.7964 - loss: 0.5054 - val_accuracy: 0.8035 - val_loss: 0.4958\n",
      "Epoch 22/50\n",
      "\u001b[1m80/80\u001b[0m \u001b[32m━━━━━━━━━━━━━━━━━━━━\u001b[0m\u001b[37m\u001b[0m \u001b[1m0s\u001b[0m 3ms/step - accuracy: 0.7885 - loss: 0.5161 - val_accuracy: 0.8035 - val_loss: 0.4958\n",
      "Epoch 23/50\n",
      "\u001b[1m80/80\u001b[0m \u001b[32m━━━━━━━━━━━━━━━━━━━━\u001b[0m\u001b[37m\u001b[0m \u001b[1m0s\u001b[0m 3ms/step - accuracy: 0.7911 - loss: 0.5126 - val_accuracy: 0.8035 - val_loss: 0.4958\n",
      "Epoch 24/50\n",
      "\u001b[1m80/80\u001b[0m \u001b[32m━━━━━━━━━━━━━━━━━━━━\u001b[0m\u001b[37m\u001b[0m \u001b[1m0s\u001b[0m 3ms/step - accuracy: 0.8005 - loss: 0.4998 - val_accuracy: 0.8035 - val_loss: 0.4957\n",
      "Epoch 25/50\n",
      "\u001b[1m80/80\u001b[0m \u001b[32m━━━━━━━━━━━━━━━━━━━━\u001b[0m\u001b[37m\u001b[0m \u001b[1m0s\u001b[0m 2ms/step - accuracy: 0.7984 - loss: 0.5027 - val_accuracy: 0.8035 - val_loss: 0.4958\n",
      "Epoch 26/50\n",
      "\u001b[1m80/80\u001b[0m \u001b[32m━━━━━━━━━━━━━━━━━━━━\u001b[0m\u001b[37m\u001b[0m \u001b[1m0s\u001b[0m 3ms/step - accuracy: 0.7926 - loss: 0.5105 - val_accuracy: 0.8035 - val_loss: 0.4958\n",
      "Epoch 27/50\n",
      "\u001b[1m80/80\u001b[0m \u001b[32m━━━━━━━━━━━━━━━━━━━━\u001b[0m\u001b[37m\u001b[0m \u001b[1m0s\u001b[0m 3ms/step - accuracy: 0.7834 - loss: 0.5230 - val_accuracy: 0.8035 - val_loss: 0.4957\n",
      "Epoch 28/50\n",
      "\u001b[1m80/80\u001b[0m \u001b[32m━━━━━━━━━━━━━━━━━━━━\u001b[0m\u001b[37m\u001b[0m \u001b[1m0s\u001b[0m 2ms/step - accuracy: 0.7978 - loss: 0.5034 - val_accuracy: 0.8035 - val_loss: 0.4957\n",
      "Epoch 29/50\n",
      "\u001b[1m80/80\u001b[0m \u001b[32m━━━━━━━━━━━━━━━━━━━━\u001b[0m\u001b[37m\u001b[0m \u001b[1m0s\u001b[0m 2ms/step - accuracy: 0.7949 - loss: 0.5074 - val_accuracy: 0.8035 - val_loss: 0.4958\n",
      "Epoch 30/50\n",
      "\u001b[1m80/80\u001b[0m \u001b[32m━━━━━━━━━━━━━━━━━━━━\u001b[0m\u001b[37m\u001b[0m \u001b[1m0s\u001b[0m 2ms/step - accuracy: 0.7910 - loss: 0.5127 - val_accuracy: 0.8035 - val_loss: 0.4958\n",
      "Epoch 31/50\n",
      "\u001b[1m80/80\u001b[0m \u001b[32m━━━━━━━━━━━━━━━━━━━━\u001b[0m\u001b[37m\u001b[0m \u001b[1m0s\u001b[0m 2ms/step - accuracy: 0.7957 - loss: 0.5063 - val_accuracy: 0.8035 - val_loss: 0.4958\n",
      "Epoch 32/50\n",
      "\u001b[1m80/80\u001b[0m \u001b[32m━━━━━━━━━━━━━━━━━━━━\u001b[0m\u001b[37m\u001b[0m \u001b[1m0s\u001b[0m 3ms/step - accuracy: 0.7863 - loss: 0.5190 - val_accuracy: 0.8035 - val_loss: 0.4958\n",
      "Epoch 33/50\n",
      "\u001b[1m80/80\u001b[0m \u001b[32m━━━━━━━━━━━━━━━━━━━━\u001b[0m\u001b[37m\u001b[0m \u001b[1m0s\u001b[0m 3ms/step - accuracy: 0.7933 - loss: 0.5096 - val_accuracy: 0.8035 - val_loss: 0.4958\n",
      "Epoch 34/50\n",
      "\u001b[1m80/80\u001b[0m \u001b[32m━━━━━━━━━━━━━━━━━━━━\u001b[0m\u001b[37m\u001b[0m \u001b[1m0s\u001b[0m 3ms/step - accuracy: 0.7938 - loss: 0.5089 - val_accuracy: 0.8035 - val_loss: 0.4958\n",
      "Epoch 35/50\n",
      "\u001b[1m80/80\u001b[0m \u001b[32m━━━━━━━━━━━━━━━━━━━━\u001b[0m\u001b[37m\u001b[0m \u001b[1m0s\u001b[0m 3ms/step - accuracy: 0.7822 - loss: 0.5246 - val_accuracy: 0.8035 - val_loss: 0.4958\n",
      "Epoch 36/50\n",
      "\u001b[1m80/80\u001b[0m \u001b[32m━━━━━━━━━━━━━━━━━━━━\u001b[0m\u001b[37m\u001b[0m \u001b[1m0s\u001b[0m 3ms/step - accuracy: 0.7964 - loss: 0.5054 - val_accuracy: 0.8035 - val_loss: 0.4957\n",
      "Epoch 37/50\n",
      "\u001b[1m80/80\u001b[0m \u001b[32m━━━━━━━━━━━━━━━━━━━━\u001b[0m\u001b[37m\u001b[0m \u001b[1m0s\u001b[0m 2ms/step - accuracy: 0.7959 - loss: 0.5061 - val_accuracy: 0.8035 - val_loss: 0.4957\n",
      "Epoch 38/50\n",
      "\u001b[1m80/80\u001b[0m \u001b[32m━━━━━━━━━━━━━━━━━━━━\u001b[0m\u001b[37m\u001b[0m \u001b[1m0s\u001b[0m 2ms/step - accuracy: 0.7920 - loss: 0.5113 - val_accuracy: 0.8035 - val_loss: 0.4958\n",
      "Epoch 39/50\n",
      "\u001b[1m80/80\u001b[0m \u001b[32m━━━━━━━━━━━━━━━━━━━━\u001b[0m\u001b[37m\u001b[0m \u001b[1m0s\u001b[0m 2ms/step - accuracy: 0.7981 - loss: 0.5031 - val_accuracy: 0.8035 - val_loss: 0.4958\n",
      "Epoch 40/50\n",
      "\u001b[1m80/80\u001b[0m \u001b[32m━━━━━━━━━━━━━━━━━━━━\u001b[0m\u001b[37m\u001b[0m \u001b[1m0s\u001b[0m 3ms/step - accuracy: 0.8003 - loss: 0.5001 - val_accuracy: 0.8035 - val_loss: 0.4957\n",
      "Epoch 41/50\n",
      "\u001b[1m80/80\u001b[0m \u001b[32m━━━━━━━━━━━━━━━━━━━━\u001b[0m\u001b[37m\u001b[0m \u001b[1m0s\u001b[0m 2ms/step - accuracy: 0.7892 - loss: 0.5152 - val_accuracy: 0.8035 - val_loss: 0.4958\n",
      "Epoch 42/50\n",
      "\u001b[1m80/80\u001b[0m \u001b[32m━━━━━━━━━━━━━━━━━━━━\u001b[0m\u001b[37m\u001b[0m \u001b[1m0s\u001b[0m 2ms/step - accuracy: 0.7962 - loss: 0.5056 - val_accuracy: 0.8035 - val_loss: 0.4957\n",
      "Epoch 43/50\n",
      "\u001b[1m80/80\u001b[0m \u001b[32m━━━━━━━━━━━━━━━━━━━━\u001b[0m\u001b[37m\u001b[0m \u001b[1m0s\u001b[0m 2ms/step - accuracy: 0.7974 - loss: 0.5041 - val_accuracy: 0.8035 - val_loss: 0.4958\n",
      "Epoch 44/50\n",
      "\u001b[1m80/80\u001b[0m \u001b[32m━━━━━━━━━━━━━━━━━━━━\u001b[0m\u001b[37m\u001b[0m \u001b[1m0s\u001b[0m 2ms/step - accuracy: 0.7900 - loss: 0.5141 - val_accuracy: 0.8035 - val_loss: 0.4958\n",
      "Epoch 45/50\n",
      "\u001b[1m80/80\u001b[0m \u001b[32m━━━━━━━━━━━━━━━━━━━━\u001b[0m\u001b[37m\u001b[0m \u001b[1m0s\u001b[0m 2ms/step - accuracy: 0.7960 - loss: 0.5059 - val_accuracy: 0.8035 - val_loss: 0.4958\n",
      "Epoch 46/50\n",
      "\u001b[1m80/80\u001b[0m \u001b[32m━━━━━━━━━━━━━━━━━━━━\u001b[0m\u001b[37m\u001b[0m \u001b[1m0s\u001b[0m 2ms/step - accuracy: 0.8063 - loss: 0.4920 - val_accuracy: 0.8035 - val_loss: 0.4958\n",
      "Epoch 47/50\n",
      "\u001b[1m80/80\u001b[0m \u001b[32m━━━━━━━━━━━━━━━━━━━━\u001b[0m\u001b[37m\u001b[0m \u001b[1m0s\u001b[0m 3ms/step - accuracy: 0.8025 - loss: 0.4972 - val_accuracy: 0.8035 - val_loss: 0.4958\n",
      "Epoch 48/50\n",
      "\u001b[1m80/80\u001b[0m \u001b[32m━━━━━━━━━━━━━━━━━━━━\u001b[0m\u001b[37m\u001b[0m \u001b[1m0s\u001b[0m 3ms/step - accuracy: 0.7989 - loss: 0.5020 - val_accuracy: 0.8035 - val_loss: 0.4957\n",
      "Epoch 49/50\n",
      "\u001b[1m80/80\u001b[0m \u001b[32m━━━━━━━━━━━━━━━━━━━━\u001b[0m\u001b[37m\u001b[0m \u001b[1m0s\u001b[0m 2ms/step - accuracy: 0.7947 - loss: 0.5077 - val_accuracy: 0.8035 - val_loss: 0.4958\n",
      "Epoch 50/50\n",
      "\u001b[1m80/80\u001b[0m \u001b[32m━━━━━━━━━━━━━━━━━━━━\u001b[0m\u001b[37m\u001b[0m \u001b[1m0s\u001b[0m 2ms/step - accuracy: 0.7992 - loss: 0.5015 - val_accuracy: 0.8035 - val_loss: 0.4958\n"
     ]
    },
    {
     "data": {
      "text/plain": [
       "<keras.src.callbacks.history.History at 0x1c8252c7f80>"
      ]
     },
     "execution_count": 41,
     "metadata": {},
     "output_type": "execute_result"
    }
   ],
   "source": [
    "ann.fit(x_train,y_train,batch_size=100,epochs=50,validation_data=(x_test,y_test))\n",
    "# batech size depend upon our train size and epoch mean how many time we want to train validation\n",
    "# is used to check the accuracy below in history "
   ]
  },
  {
   "cell_type": "code",
   "execution_count": 42,
   "id": "a76255bc-3246-42a6-b494-e1781b98d59c",
   "metadata": {},
   "outputs": [
    {
     "data": {
      "text/plain": [
       "{'accuracy': [0.7944999933242798,\n",
       "  0.7944999933242798,\n",
       "  0.7944999933242798,\n",
       "  0.7944999933242798,\n",
       "  0.7944999933242798,\n",
       "  0.7944999933242798,\n",
       "  0.7944999933242798,\n",
       "  0.7944999933242798,\n",
       "  0.7944999933242798,\n",
       "  0.7944999933242798,\n",
       "  0.7944999933242798,\n",
       "  0.7944999933242798,\n",
       "  0.7944999933242798,\n",
       "  0.7944999933242798,\n",
       "  0.7944999933242798,\n",
       "  0.7944999933242798,\n",
       "  0.7944999933242798,\n",
       "  0.7944999933242798,\n",
       "  0.7944999933242798,\n",
       "  0.7944999933242798,\n",
       "  0.7944999933242798,\n",
       "  0.7944999933242798,\n",
       "  0.7944999933242798,\n",
       "  0.7944999933242798,\n",
       "  0.7944999933242798,\n",
       "  0.7944999933242798,\n",
       "  0.7944999933242798,\n",
       "  0.7944999933242798,\n",
       "  0.7944999933242798,\n",
       "  0.7944999933242798,\n",
       "  0.7944999933242798,\n",
       "  0.7944999933242798,\n",
       "  0.7944999933242798,\n",
       "  0.7944999933242798,\n",
       "  0.7944999933242798,\n",
       "  0.7944999933242798,\n",
       "  0.7944999933242798,\n",
       "  0.7944999933242798,\n",
       "  0.7944999933242798,\n",
       "  0.7944999933242798,\n",
       "  0.7944999933242798,\n",
       "  0.7944999933242798,\n",
       "  0.7944999933242798,\n",
       "  0.7944999933242798,\n",
       "  0.7944999933242798,\n",
       "  0.7944999933242798,\n",
       "  0.7944999933242798,\n",
       "  0.7944999933242798,\n",
       "  0.7944999933242798,\n",
       "  0.7944999933242798],\n",
       " 'loss': [0.507950484752655,\n",
       "  0.50794917345047,\n",
       "  0.5079668760299683,\n",
       "  0.5079511404037476,\n",
       "  0.507950484752655,\n",
       "  0.507957935333252,\n",
       "  0.5079545378684998,\n",
       "  0.5079517960548401,\n",
       "  0.5079389810562134,\n",
       "  0.5079477429389954,\n",
       "  0.5079500675201416,\n",
       "  0.5079590678215027,\n",
       "  0.5079470872879028,\n",
       "  0.5079453587532043,\n",
       "  0.5079770088195801,\n",
       "  0.5079435706138611,\n",
       "  0.5079482197761536,\n",
       "  0.507942795753479,\n",
       "  0.5079562664031982,\n",
       "  0.5079455971717834,\n",
       "  0.5079470872879028,\n",
       "  0.5079526305198669,\n",
       "  0.5079437494277954,\n",
       "  0.5079435110092163,\n",
       "  0.5079523324966431,\n",
       "  0.5079483389854431,\n",
       "  0.5079900622367859,\n",
       "  0.5079421401023865,\n",
       "  0.5079516172409058,\n",
       "  0.5079447627067566,\n",
       "  0.5079455971717834,\n",
       "  0.5079547166824341,\n",
       "  0.5079507827758789,\n",
       "  0.507942259311676,\n",
       "  0.5079672932624817,\n",
       "  0.5079431533813477,\n",
       "  0.5079407691955566,\n",
       "  0.5079662203788757,\n",
       "  0.507959246635437,\n",
       "  0.5079584717750549,\n",
       "  0.5079556107521057,\n",
       "  0.507941484451294,\n",
       "  0.5079460144042969,\n",
       "  0.5079430341720581,\n",
       "  0.5079400539398193,\n",
       "  0.5079624056816101,\n",
       "  0.5079483985900879,\n",
       "  0.507969319820404,\n",
       "  0.5079421401023865,\n",
       "  0.507942795753479],\n",
       " 'val_accuracy': [0.8034999966621399,\n",
       "  0.8034999966621399,\n",
       "  0.8034999966621399,\n",
       "  0.8034999966621399,\n",
       "  0.8034999966621399,\n",
       "  0.8034999966621399,\n",
       "  0.8034999966621399,\n",
       "  0.8034999966621399,\n",
       "  0.8034999966621399,\n",
       "  0.8034999966621399,\n",
       "  0.8034999966621399,\n",
       "  0.8034999966621399,\n",
       "  0.8034999966621399,\n",
       "  0.8034999966621399,\n",
       "  0.8034999966621399,\n",
       "  0.8034999966621399,\n",
       "  0.8034999966621399,\n",
       "  0.8034999966621399,\n",
       "  0.8034999966621399,\n",
       "  0.8034999966621399,\n",
       "  0.8034999966621399,\n",
       "  0.8034999966621399,\n",
       "  0.8034999966621399,\n",
       "  0.8034999966621399,\n",
       "  0.8034999966621399,\n",
       "  0.8034999966621399,\n",
       "  0.8034999966621399,\n",
       "  0.8034999966621399,\n",
       "  0.8034999966621399,\n",
       "  0.8034999966621399,\n",
       "  0.8034999966621399,\n",
       "  0.8034999966621399,\n",
       "  0.8034999966621399,\n",
       "  0.8034999966621399,\n",
       "  0.8034999966621399,\n",
       "  0.8034999966621399,\n",
       "  0.8034999966621399,\n",
       "  0.8034999966621399,\n",
       "  0.8034999966621399,\n",
       "  0.8034999966621399,\n",
       "  0.8034999966621399,\n",
       "  0.8034999966621399,\n",
       "  0.8034999966621399,\n",
       "  0.8034999966621399,\n",
       "  0.8034999966621399,\n",
       "  0.8034999966621399,\n",
       "  0.8034999966621399,\n",
       "  0.8034999966621399,\n",
       "  0.8034999966621399,\n",
       "  0.8034999966621399],\n",
       " 'val_loss': [0.4957585036754608,\n",
       "  0.49577537178993225,\n",
       "  0.49576130509376526,\n",
       "  0.49573075771331787,\n",
       "  0.4957467019557953,\n",
       "  0.4957636892795563,\n",
       "  0.49577513337135315,\n",
       "  0.4957669675350189,\n",
       "  0.4957703649997711,\n",
       "  0.49576225876808167,\n",
       "  0.4957365393638611,\n",
       "  0.4957605004310608,\n",
       "  0.49575382471084595,\n",
       "  0.495752215385437,\n",
       "  0.4958212077617645,\n",
       "  0.49574244022369385,\n",
       "  0.4957420229911804,\n",
       "  0.49576547741889954,\n",
       "  0.49577897787094116,\n",
       "  0.49576279520988464,\n",
       "  0.49575597047805786,\n",
       "  0.49577218294143677,\n",
       "  0.49575209617614746,\n",
       "  0.4957430362701416,\n",
       "  0.4957623779773712,\n",
       "  0.49577584862709045,\n",
       "  0.4957457184791565,\n",
       "  0.4957422614097595,\n",
       "  0.49575695395469666,\n",
       "  0.4957510232925415,\n",
       "  0.4957684874534607,\n",
       "  0.4957568943500519,\n",
       "  0.495773583650589,\n",
       "  0.49575260281562805,\n",
       "  0.4957627058029175,\n",
       "  0.4957239329814911,\n",
       "  0.4957374632358551,\n",
       "  0.49577000737190247,\n",
       "  0.49576258659362793,\n",
       "  0.49574247002601624,\n",
       "  0.4957594573497772,\n",
       "  0.495740681886673,\n",
       "  0.4957522451877594,\n",
       "  0.4957714378833771,\n",
       "  0.4957692325115204,\n",
       "  0.4957740008831024,\n",
       "  0.49578163027763367,\n",
       "  0.4957458972930908,\n",
       "  0.4957842528820038,\n",
       "  0.49577054381370544]}"
      ]
     },
     "execution_count": 42,
     "metadata": {},
     "output_type": "execute_result"
    }
   ],
   "source": [
    "ann.history.history # here we find accuracies of testing trainning and loss now we find ssign \n",
    "# single single to everyone "
   ]
  },
  {
   "cell_type": "code",
   "execution_count": 43,
   "id": "f1c13281-8623-4766-a433-e8708d2a562e",
   "metadata": {},
   "outputs": [],
   "source": [
    "train_accuracy = ann.history.history[\"accuracy\"]\n",
    "test_accuracy = ann.history.history[\"val_accuracy\"] \n",
    "# now we plot a graph in matplotlib "
   ]
  },
  {
   "cell_type": "code",
   "execution_count": 21,
   "id": "ac0bedb7-d410-4c62-b047-ac8577c9fbae",
   "metadata": {},
   "outputs": [
    {
     "name": "stdout",
     "output_type": "stream",
     "text": [
      "\u001b[1m63/63\u001b[0m \u001b[32m━━━━━━━━━━━━━━━━━━━━\u001b[0m\u001b[37m\u001b[0m \u001b[1m0s\u001b[0m 2ms/step\n"
     ]
    },
    {
     "data": {
      "text/plain": [
       "array([[0.20557863],\n",
       "       [0.20557863],\n",
       "       [0.20557863],\n",
       "       ...,\n",
       "       [0.20557863],\n",
       "       [0.20557863],\n",
       "       [0.20557863]], dtype=float32)"
      ]
     },
     "execution_count": 21,
     "metadata": {},
     "output_type": "execute_result"
    }
   ],
   "source": [
    "# created for below \n",
    "yprd = ann.predict(x_test) \n",
    "yprd"
   ]
  },
  {
   "cell_type": "code",
   "execution_count": 22,
   "id": "178c5088-05e0-4c90-b6f1-7dee5607074d",
   "metadata": {},
   "outputs": [],
   "source": [
    "# now we create a loop bcz we want output in 0 1 so convert less than 0.5 to 0 and other to 1 \n",
    "prd_data = []\n",
    "for i in yprd: \n",
    "    # print(i[0])# it is in list so we use [0] \n",
    "    if i[0] > 0.5: \n",
    "        prd_data.append(1)\n",
    "    else: \n",
    "        prd_data.append(0)"
   ]
  },
  {
   "cell_type": "code",
   "execution_count": 23,
   "id": "1409b030-8e09-4a51-b349-6212fd7f5096",
   "metadata": {},
   "outputs": [],
   "source": [
    "# prd_data now we use this below"
   ]
  },
  {
   "cell_type": "code",
   "execution_count": 24,
   "id": "dd0d8c30-3caf-4648-b9e1-89fa7939cad7",
   "metadata": {},
   "outputs": [],
   "source": [
    "# now we have to check the accuracy of our model it is done through skearn \n",
    "from sklearn.metrics import accuracy_score"
   ]
  },
  {
   "cell_type": "code",
   "execution_count": 25,
   "id": "221e43cb-9668-4613-8ac0-89806a7eb866",
   "metadata": {},
   "outputs": [],
   "source": [
    "acs  = accuracy_score(y_test,prd_data)# it need y pred so first we find it above "
   ]
  },
  {
   "cell_type": "code",
   "execution_count": 26,
   "id": "c1bf65f0-18fe-4d0e-95b9-9d0b223224c8",
   "metadata": {},
   "outputs": [
    {
     "data": {
      "text/plain": [
       "0.8035"
      ]
     },
     "execution_count": 26,
     "metadata": {},
     "output_type": "execute_result"
    }
   ],
   "source": [
    "acs # accuracy is 80 per now let we check our model is in overfitting or not "
   ]
  },
  {
   "cell_type": "code",
   "execution_count": 27,
   "id": "73bd2ba3-fea9-41a0-b7a4-c0d325afcb87",
   "metadata": {},
   "outputs": [
    {
     "name": "stdout",
     "output_type": "stream",
     "text": [
      "\u001b[1m250/250\u001b[0m \u001b[32m━━━━━━━━━━━━━━━━━━━━\u001b[0m\u001b[37m\u001b[0m \u001b[1m0s\u001b[0m 1ms/step\n"
     ]
    }
   ],
   "source": [
    "# now we create a loop bcz we want output in 0 1 so convert less than 0.5 to 0 and other to 1 \n",
    "yprd1 = ann.predict(x_train) \n",
    "prd_data1 = []\n",
    "for i in yprd1: \n",
    "    # print(i[0])# it is in list so we use [0] \n",
    "    if i[0] > 0.5: \n",
    "        prd_data1.append(1)\n",
    "    else: \n",
    "        prd_data1.append(0)"
   ]
  },
  {
   "cell_type": "code",
   "execution_count": 28,
   "id": "96ade33e-d148-464a-998b-f3e1d6b9089a",
   "metadata": {},
   "outputs": [],
   "source": [
    "acs  = accuracy_score(y_train,prd_data1)"
   ]
  },
  {
   "cell_type": "code",
   "execution_count": 29,
   "id": "6c4c781c-7179-44d6-b120-e54b2a82507e",
   "metadata": {},
   "outputs": [
    {
     "data": {
      "text/plain": [
       "0.7945"
      ]
     },
     "execution_count": 29,
     "metadata": {},
     "output_type": "execute_result"
    }
   ],
   "source": [
    "acs # so it is saved from overfitting "
   ]
  },
  {
   "cell_type": "code",
   "execution_count": 30,
   "id": "004450a2-291e-479d-9c83-064dde3316c4",
   "metadata": {},
   "outputs": [
    {
     "name": "stdout",
     "output_type": "stream",
     "text": [
      "\u001b[1m1/1\u001b[0m \u001b[32m━━━━━━━━━━━━━━━━━━━━\u001b[0m\u001b[37m\u001b[0m \u001b[1m0s\u001b[0m 51ms/step\n"
     ]
    },
    {
     "data": {
      "text/plain": [
       "[0]"
      ]
     },
     "execution_count": 30,
     "metadata": {},
     "output_type": "execute_result"
    }
   ],
   "source": [
    "# now we predict the data to chek its accuracy \n",
    "input_data4 = np.array([[-0.326221, 0.293517, -1.041760, -1.225848, -0.911583, 0.646092, 0.970243, 0.021886]])\n",
    "yprd1 = ann.predict(input_data4) \n",
    "prd_data1 = []\n",
    "for i in yprd1: \n",
    "    # print(i[0])# it is in list so we use [0] \n",
    "    if i[0] > 0.5: \n",
    "        prd_data1.append(1)\n",
    "    else: \n",
    "        prd_data1.append(0)\n",
    "prd_data1"
   ]
  },
  {
   "cell_type": "raw",
   "id": "752d4714-be4a-4df1-97b7-99e60775a990",
   "metadata": {},
   "source": [
    "# ans is correct \n",
    "so this model is not as good as we want we can also improve it now lets see how we can improve its performance on register pg 76"
   ]
  }
 ],
 "metadata": {
  "kernelspec": {
   "display_name": "Python 3 (ipykernel)",
   "language": "python",
   "name": "python3"
  },
  "language_info": {
   "codemirror_mode": {
    "name": "ipython",
    "version": 3
   },
   "file_extension": ".py",
   "mimetype": "text/x-python",
   "name": "python",
   "nbconvert_exporter": "python",
   "pygments_lexer": "ipython3",
   "version": "3.12.3"
  }
 },
 "nbformat": 4,
 "nbformat_minor": 5
}
